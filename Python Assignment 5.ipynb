{
 "cells": [
  {
   "cell_type": "markdown",
   "id": "440403ff",
   "metadata": {},
   "source": [
    "### Assignment no 5"
   ]
  },
  {
   "cell_type": "markdown",
   "id": "6fd5486d",
   "metadata": {},
   "source": [
    "###  Write Python programs using Functions:"
   ]
  },
  {
   "cell_type": "code",
   "execution_count": 3,
   "id": "1a54b173",
   "metadata": {},
   "outputs": [
    {
     "name": "stdout",
     "output_type": "stream",
     "text": [
      "5\n",
      "11\n"
     ]
    }
   ],
   "source": [
    "# 1. Python Program for Find largest prime factor of a number\n",
    "\n",
    "def Largest_Prime_Factor(n):\n",
    "    return next(n // i for i in range(1, n) if n % i == 0 and is_prime(n // i))\n",
    "def is_prime(m):\n",
    "   return all(m % i for i in range(2, m - 1))\n",
    "print(Largest_Prime_Factor(200))   # 200 = 2 × 4 × 5 \n",
    "print(Largest_Prime_Factor(330))   # 330 = 2 × 3 × 5 × 11"
   ]
  },
  {
   "cell_type": "code",
   "execution_count": 19,
   "id": "33d311a1",
   "metadata": {},
   "outputs": [
    {
     "name": "stdout",
     "output_type": "stream",
     "text": [
      "6\n"
     ]
    }
   ],
   "source": [
    "# 2. Python Program for Product of unique prime factors of a number\n",
    "\n",
    "def productPrimeFactors(n):\n",
    "    product = 1\n",
    "    for i in range(2, n+1):\n",
    "        if (n % i == 0):\n",
    "            isPrime = 1\n",
    "            for j in range(2, int(i/2 + 1)):\n",
    "                if (i % j == 0):\n",
    "                    isPrime = 0\n",
    "                    break\n",
    "            if (isPrime):\n",
    "                product = product * i\n",
    "    return product\n",
    "# main\n",
    "n = 18\n",
    "print (productPrimeFactors(n))"
   ]
  },
  {
   "cell_type": "code",
   "execution_count": 10,
   "id": "6613e27c",
   "metadata": {},
   "outputs": [
    {
     "name": "stdout",
     "output_type": "stream",
     "text": [
      "Factorial of 5 is 120\n"
     ]
    }
   ],
   "source": [
    "# 3. Python Program to find Factorial of Number\n",
    "\n",
    "def factorial(n):\n",
    "       \n",
    "    fact = 1\n",
    "      \n",
    "    for i in range(2, n+1):\n",
    "        fact *= i\n",
    "    return fact\n",
    " # Driver Code\n",
    "num = 5;\n",
    "print(\"Factorial of\", num, \"is\",\n",
    "factorial(num))"
   ]
  },
  {
   "cell_type": "code",
   "execution_count": 24,
   "id": "f9109ed0",
   "metadata": {},
   "outputs": [
    {
     "name": "stdout",
     "output_type": "stream",
     "text": [
      "x = [1, 2, 4, 5, 10, 20] sum of odd factors of a number is : 6\n"
     ]
    }
   ],
   "source": [
    "# # 4. Python Program for Find sum of odd factors of a number\n",
    "def factor(n):\n",
    "    x=[]\n",
    "    for i in range(1,n+1):\n",
    "\n",
    "        if n% i==0:\n",
    "            x.append(i)\n",
    "    print(f\"x = {x}\",end=\" \")\n",
    "    \n",
    "    sum=0\n",
    "    for j in x:\n",
    "        if j%2!=0:\n",
    "            sum=sum +j\n",
    "    print(\"sum of odd factors of a number is :\", sum)       \n",
    "        \n",
    "        \n",
    "factor(20)  "
   ]
  },
  {
   "cell_type": "code",
   "execution_count": 21,
   "id": "9a245a2a",
   "metadata": {},
   "outputs": [
    {
     "name": "stdout",
     "output_type": "stream",
     "text": [
      "Enter a number: 17\n",
      "The binary representation of number: 10001\n",
      "The binary representation of the number is a palindrome.\n"
     ]
    }
   ],
   "source": [
    "# 5. Python Program to Check if binary representation is a palindrome\n",
    "\n",
    "#def bin_palindrome():\n",
    "P=int(input('Enter a number: '))\n",
    "\n",
    "# converting to binary\n",
    "s=int(bin(P)[2:])\n",
    "\n",
    "print(\"The binary representation of number:\", s)\n",
    "\n",
    "# reversing the binary \n",
    "r=str(s)[::-1] \n",
    "\n",
    "# checking the palindrome\n",
    "if int(r)==s:\n",
    "    print(\"The binary representation of the number is a palindrome.\")\n",
    "else:\n",
    "    print(\"The binary representation of the number is not a palindrome.\")\n",
    "#bin_palindrome()"
   ]
  },
  {
   "cell_type": "code",
   "execution_count": 45,
   "id": "aaf4dc57",
   "metadata": {},
   "outputs": [
    {
     "name": "stdout",
     "output_type": "stream",
     "text": [
      "Count is 8\n"
     ]
    }
   ],
   "source": [
    "# 6.  Python Program for Number of elements with odd factors in a given range\n",
    "# Python program to count number of odd squares\n",
    "# in given range [n, m]\n",
    "  \n",
    "def countOddSquares(n,m):\n",
    "    return int(m**0.5) - int((n-1)**0.5)\n",
    "  \n",
    "# Driver code\n",
    "n = 5\n",
    "m = 100\n",
    "print(\"Count is\", countOddSquares(n, m))"
   ]
  },
  {
   "cell_type": "code",
   "execution_count": 16,
   "id": "ca8c8368",
   "metadata": {},
   "outputs": [
    {
     "name": "stdout",
     "output_type": "stream",
     "text": [
      "factor of number x = [1, 2, 5, 10]  ## odd factor of number y = [1, 5] "
     ]
    }
   ],
   "source": [
    "# or\n",
    "def factor(n):        \n",
    "    x=[]\n",
    "    for i in range(1,n+1):\n",
    "        if n%i==0:                          # find factor of number\n",
    "            x.append(i)\n",
    "    print(\"factor of number x =\",x,\" ##\",end=\" \")\n",
    "    \n",
    "    \n",
    "    \n",
    "    y=[]\n",
    "    for j in x:\n",
    "        if j % 2!=0:                      # find odd number \n",
    "            y.append(j)\n",
    "    print(\"odd factor of number y =\",y,end=\" \")\n",
    "            \n",
    "factor(10)"
   ]
  },
  {
   "cell_type": "code",
   "execution_count": 6,
   "id": "941d6361",
   "metadata": {},
   "outputs": [
    {
     "name": "stdout",
     "output_type": "stream",
     "text": [
      "ENTER FIRST NUMBER : 10\n",
      "ENTER SECOND NUMBER : 20\n",
      "THE COMMON DIVISORS OF NUMBER  10  AND  20  ARE -\n",
      "1\n",
      "2\n",
      "5\n",
      "10\n"
     ]
    }
   ],
   "source": [
    "# 7. Python Program for Common Divisors of Two Numbers\n",
    "\n",
    "num1 = int(input(\"ENTER FIRST NUMBER : \"))\n",
    "num2 = int(input(\"ENTER SECOND NUMBER : \"))\n",
    "divisor = 0\n",
    "print(\"THE COMMON DIVISORS OF NUMBER \",num1,\" AND \",num2,\" ARE -\")\n",
    "for i in range(1,min(num1,num2)+1):\n",
    "    if num1%i == num2%i == 0:\n",
    "        divisor = i\n",
    "        print(divisor)"
   ]
  },
  {
   "cell_type": "code",
   "execution_count": 7,
   "id": "3da94e6e",
   "metadata": {},
   "outputs": [
    {
     "name": "stdout",
     "output_type": "stream",
     "text": [
      "3\n"
     ]
    }
   ],
   "source": [
    "# 8. Python Program to Check if a count of divisors is even or odd\n",
    "def divisor(n):\n",
    "    for i in range(n):\n",
    "        x=len([i for i in range(1,n+1) if not n%i])\n",
    "        return x\n",
    "print(divisor(4))"
   ]
  },
  {
   "cell_type": "code",
   "execution_count": 43,
   "id": "dbc10939",
   "metadata": {},
   "outputs": [
    {
     "name": "stdout",
     "output_type": "stream",
     "text": [
      "7.0\n"
     ]
    }
   ],
   "source": [
    "# 9. Python Program to Find the minimum sum of factors of a number\n",
    "\n",
    "#iterative approach\n",
    "def findMinSum(num):\n",
    "   sum_ = 0\n",
    "   # Find factors of number and add to the sum\n",
    "   i = 2\n",
    "   while(i * i <= num):\n",
    "      while(num % i == 0):\n",
    "         sum_ += i\n",
    "         num /= i\n",
    "      i += 1\n",
    "   sum_ += num\n",
    "   return sum_\n",
    "# Driver Code    \n",
    "num = 12                     # 3*4=12  2*6=12  12*1=12    \n",
    "print (findMinSum(num)) "
   ]
  },
  {
   "cell_type": "code",
   "execution_count": 15,
   "id": "cc597163",
   "metadata": {},
   "outputs": [
    {
     "name": "stdout",
     "output_type": "stream",
     "text": [
      "Yes\n"
     ]
    }
   ],
   "source": [
    "# 10. Python Program to find Difference between sums of odd and even digits\n",
    "\n",
    "def isDiff(n): \n",
    "    return (n % 11 == 0) \n",
    "  \n",
    "# Driver code \n",
    "n = 1243; \n",
    "if (isDiff(n)): \n",
    "    print(\"Yes\") \n",
    "else: \n",
    "    print(\"No\") "
   ]
  },
  {
   "cell_type": "code",
   "execution_count": 39,
   "id": "92e9415e",
   "metadata": {},
   "outputs": [
    {
     "name": "stdout",
     "output_type": "stream",
     "text": [
      "x = [2, 4, 6, 8, 10, 12, 14, 16, 18, 20] sum =  110 \n",
      "y = [1, 3, 5, 7, 9, 11, 13, 15, 17, 19] sum= 100 \n",
      "differnce of sum of even and odd number = 10\n"
     ]
    }
   ],
   "source": [
    "# or\n",
    "def differnce(n):\n",
    "    x=[]\n",
    "    y=[] \n",
    "    \n",
    "    for i in range(1,n+1):\n",
    "        if i % 2 ==0:\n",
    "            x.append(i)\n",
    "    \n",
    "        else:\n",
    "            y.append(i)\n",
    "    print(\"x =\",x,\"sum = \",sum(x),end=\" \")\n",
    "    print()\n",
    "    print(\"y =\",y,\"sum=\",sum (y),end=\" \")\n",
    "    print()\n",
    "      \n",
    "    D = sum(x) - sum(y)\n",
    "    print(\"differnce of sum of even and odd number =\",D)\n",
    "    \n",
    "differnce(20)"
   ]
  },
  {
   "cell_type": "code",
   "execution_count": 12,
   "id": "e0af0632",
   "metadata": {},
   "outputs": [
    {
     "name": "stdout",
     "output_type": "stream",
     "text": [
      "10\n"
     ]
    }
   ],
   "source": [
    "# 11. Python Program for Largest and Smallest K digit number divisible by X\n",
    "def answer(X, K):\n",
    "     \n",
    "    # Computing MAX\n",
    "    MIN = pow(10, K-1)\n",
    "     \n",
    "    if(MIN%X == 0):\n",
    "        return (MIN)\n",
    "     \n",
    "    else:\n",
    "        return ((MIN + X) - ((MIN + X) % X)) \n",
    "     \n",
    " #X = 83;\n",
    "#K = 5;         \n",
    " \n",
    "print(answer(1, 2));"
   ]
  },
  {
   "cell_type": "code",
   "execution_count": 24,
   "id": "8095c8bc",
   "metadata": {},
   "outputs": [
    {
     "name": "stdout",
     "output_type": "stream",
     "text": [
      "Area of Tetrahedron = 15.588457268119894\n"
     ]
    }
   ],
   "source": [
    "# 12. Python Program to calculate the area of a Tetrahedron\n",
    "import math\n",
    " \n",
    "def area_of_tetrahedron(side):\n",
    " \n",
    "    return (math.sqrt(3) * (side * side))\n",
    " \n",
    "# Driver Code\n",
    "side = 3;\n",
    "print(\"Area of Tetrahedron =\",\n",
    "    area_of_tetrahedron(side));"
   ]
  },
  {
   "cell_type": "code",
   "execution_count": 26,
   "id": "a49e936f",
   "metadata": {},
   "outputs": [
    {
     "name": "stdout",
     "output_type": "stream",
     "text": [
      "perimeter of cylinder is:  30\n"
     ]
    }
   ],
   "source": [
    "# 13. Python Program to Find the perimeter of a cylinder\n",
    "def perimeter(diameter,height):      # perimeter is nothing but the side of cylinder\n",
    "    return 2*(diameter + height)\n",
    "diameter = 5\n",
    "height=10\n",
    "print(\"perimeter of cylinder is: \",perimeter(diameter,height))"
   ]
  },
  {
   "cell_type": "code",
   "execution_count": 27,
   "id": "3783ed0f",
   "metadata": {},
   "outputs": [
    {
     "name": "stdout",
     "output_type": "stream",
     "text": [
      "Vertex of the parabola is ( -1.0 , 4.0 )\n",
      "Focus of the parabola is ( -1.0 , 4.125 )\n",
      "Equation of the directrix is y =  -130\n"
     ]
    }
   ],
   "source": [
    "# 14.Python Program to Find the vertex, focus, and directrix of a parabola\n",
    "def parabola(p, q, r):\n",
    "    print(\"Vertex of the parabola is (\", (-q/(2*p)) , \",\" , (((4*p*r)-(q*q))/(4*p)) , \")\" )\n",
    "    \n",
    "    print(\"Focus of the parabola is (\", (-q/(2*p)) , \",\" , (((4*p*r)-(q*q)+1)/(4*p)) , \")\" ) \n",
    "    \n",
    "    print(\"Equation of the directrix is y = \", (int)(r-((q*q)+1)*4*p)) \n",
    "    \n",
    "p = 2\n",
    "q = 4\n",
    "r = 6\n",
    "parabola(p, q, r)"
   ]
  },
  {
   "cell_type": "code",
   "execution_count": 39,
   "id": "54227f5c",
   "metadata": {},
   "outputs": [
    {
     "name": "stdout",
     "output_type": "stream",
     "text": [
      "7\n"
     ]
    }
   ],
   "source": [
    "# 15. Python program to find the most occurring character and its count\n",
    "\n",
    "from collections import Counter\n",
    "my_str = \"welcome we are learning python and data science\"\n",
    "counter = Counter(my_str)\n",
    "print(counter['e'])"
   ]
  },
  {
   "cell_type": "code",
   "execution_count": 40,
   "id": "6eb32920",
   "metadata": {},
   "outputs": [
    {
     "name": "stdout",
     "output_type": "stream",
     "text": [
      "26\n"
     ]
    }
   ],
   "source": [
    "# 16. Python Program to Find the sum of even factors of a number\n",
    "\n",
    "def evenfactorssum(n):\n",
    "    s = 0\n",
    "    for i in range(1, n+1):\n",
    "        # finding factors of a given number\n",
    "        if n % i == 0:\n",
    "            # finding even factors of a given number\n",
    "            if i % 2 == 0:\n",
    "                # adding even factors of a given number\n",
    "                s = s+i  # 2+6+10+30\n",
    "                # printing the sum of even factors of a given number\n",
    "    print(s)\n",
    " \n",
    " \n",
    "# driver code\n",
    "# input\n",
    "n = 18\n",
    "# the above input can also be given as\n",
    "# n=int(input()) -> taking input from the user\n",
    "evenfactorssum(n)"
   ]
  },
  {
   "cell_type": "code",
   "execution_count": 59,
   "id": "1a921805",
   "metadata": {},
   "outputs": [
    {
     "name": "stdout",
     "output_type": "stream",
     "text": [
      "10\n",
      "No\n"
     ]
    }
   ],
   "source": [
    "# 17. Python Program to Check if all digits of a number divide it\n",
    "n=int(input())\n",
    "flag=1\n",
    "for i in str(n):\n",
    "    if int(i)!=0 and n%int(i)==0:\n",
    "        flag=1\n",
    "    else:\n",
    "        flag=0\n",
    "if(flag==1):\n",
    "    print(\"Yes\")\n",
    "else:\n",
    "    print(\"No\")"
   ]
  },
  {
   "cell_type": "code",
   "execution_count": 6,
   "id": "d0371861",
   "metadata": {},
   "outputs": [
    {
     "name": "stdout",
     "output_type": "stream",
     "text": [
      "Enter the floating point value : \n",
      "1.4\n",
      "Enter the number of decimal places of the result : \n",
      "8\n",
      "1.31463146\n"
     ]
    }
   ],
   "source": [
    "# 18. Python program to convert float decimal to Octal number\n",
    "\n",
    "def float_convert_octal(my_number, places = 3):\n",
    "    my_whole, my_dec = str(my_number).split(\".\")\n",
    "    my_whole = int(my_whole)\n",
    "    my_dec = int (my_dec)\n",
    "    res = oct(my_whole).lstrip(\"0o\") + \".\"\n",
    "    for x in range(places):\n",
    "        my_whole, my_dec = str((decimal_converter(my_dec)) * 8).split(\".\")\n",
    "        my_dec = int(my_dec)\n",
    "        res += my_whole\n",
    "    return res\n",
    "def decimal_converter(num):\n",
    "    while num > 1:\n",
    "        num /= 10\n",
    "        return num\n",
    "n = input(\"Enter the floating point value : \\n\")\n",
    "p = int(input(\"Enter the number of decimal places of the result : \\n\"))\n",
    "print(float_convert_octal(n, places = p))\n"
   ]
  },
  {
   "cell_type": "code",
   "execution_count": 63,
   "id": "f7bd4679",
   "metadata": {},
   "outputs": [
    {
     "data": {
      "text/plain": [
       "'0o151'"
      ]
     },
     "execution_count": 63,
     "metadata": {},
     "output_type": "execute_result"
    }
   ],
   "source": [
    "oct(105)"
   ]
  },
  {
   "cell_type": "code",
   "execution_count": 7,
   "id": "6e8e1b9e",
   "metadata": {},
   "outputs": [
    {
     "name": "stdout",
     "output_type": "stream",
     "text": [
      "data\n",
      "hello\n",
      "are learning \n",
      "meachine learning\n"
     ]
    }
   ],
   "source": [
    "# 19. Python program to copy odd lines of one file to other\n",
    "# open file in read mode\n",
    "fn = open('data.txt', 'r')\n",
    "  \n",
    "# open other file in write mode\n",
    "fn1 = open('data2.txt', 'w')\n",
    "  \n",
    "# read the content of the file line by line\n",
    "cont = fn.readlines()\n",
    "type(cont)\n",
    "for i in range(0, len(cont)):\n",
    "    if(i % 2 != 0):\n",
    "        fn1.write(cont[i])\n",
    "    else:\n",
    "        pass\n",
    "  \n",
    "# close the file\n",
    "fn1.close()\n",
    "  \n",
    "# open file in read mode\n",
    "fn1 = open('data2.txt', 'r')\n",
    "  \n",
    "# read the content of the file\n",
    "cont1 = fn1.read()\n",
    "  \n",
    "# print the content of the file\n",
    "print(cont1)\n",
    "  \n",
    "# close all files\n",
    "fn.close()\n",
    "fn1.close()"
   ]
  },
  {
   "cell_type": "code",
   "execution_count": 48,
   "id": "35db8f64",
   "metadata": {},
   "outputs": [
    {
     "name": "stdout",
     "output_type": "stream",
     "text": [
      "Python_Exercises\n"
     ]
    }
   ],
   "source": [
    "# 20. Write a Python program to replace whitespaces with an underscore and vice versa\n",
    "\n",
    "#import re\n",
    "text = 'Python Exercises'\n",
    "text =text.replace (\" \", \"_\")\n",
    "print(text)\n"
   ]
  },
  {
   "cell_type": "code",
   "execution_count": 47,
   "id": "1a5ec3cd",
   "metadata": {},
   "outputs": [
    {
     "name": "stdout",
     "output_type": "stream",
     "text": [
      "2022-09-30\n"
     ]
    }
   ],
   "source": [
    "# 21. Write a Python program to convert a date or yyyy-mm-dd format to dd-mm-yyyy\n",
    "\n",
    "import datetime\n",
    "date1 =  \"2022-09-30\"\n",
    "new_date = datetime.datetime.strptime(\"2022-09-30\", \"%Y-%m-%d\").date()\n",
    "print(new_date)"
   ]
  },
  {
   "cell_type": "code",
   "execution_count": 52,
   "id": "fbfd7760",
   "metadata": {},
   "outputs": [
    {
     "name": "stdout",
     "output_type": "stream",
     "text": [
      "Date in dd-mm-yyyy format is :  25-10-2022\n"
     ]
    }
   ],
   "source": [
    "#or\n",
    "date = '2022-10-25'\n",
    "def covert_date(date):\n",
    "    date = date.split('-')[::-1]\n",
    "    return '-'.join(date)\n",
    "print('Date in dd-mm-yyyy format is : ', covert_date(date))"
   ]
  },
  {
   "cell_type": "code",
   "execution_count": 50,
   "id": "78580b4e",
   "metadata": {},
   "outputs": [
    {
     "name": "stdout",
     "output_type": "stream",
     "text": [
      "Date in dd-mm-yyyy format is :  25-10-2022\n"
     ]
    }
   ],
   "source": [
    "#or\n",
    "import datetime\n",
    "date1 = \"2022-10-25\"\n",
    "y,m,d = date1[:4], date1[5:7], date1[8:]\n",
    "date2 = datetime.datetime(int(y),int(m),int(d))\n",
    "new_date = date2.strftime(\"%d-%m-%Y\")\n",
    "print('Date in dd-mm-yyyy format is : ', new_date)"
   ]
  },
  {
   "cell_type": "code",
   "execution_count": 56,
   "id": "9be38145",
   "metadata": {},
   "outputs": [
    {
     "name": "stdout",
     "output_type": "stream",
     "text": [
      "['example', 'eates', 'an', 'ayList', 'apacity', 'elements', 'elements', 'are', 'en', 'added', 'ayList', 'and', 'ayList', 'ed', 'accordingly']\n"
     ]
    }
   ],
   "source": [
    "# 22. Write a Python program to find all words starting with 'a' or 'e' in a given string\n",
    "\n",
    "# Input.\n",
    "text = \"The following example creates an ArrayList with a capacity of 50 elements. Four elements are then added to the ArrayList and the ArrayList is trimmed accordingly.\"\n",
    "#find all the words starting with 'a' or 'e'\n",
    "list = re.findall(\"[ae]\\w+\", text)\n",
    "# Print result.\n",
    "print(list)"
   ]
  },
  {
   "cell_type": "code",
   "execution_count": 42,
   "id": "bc1e4b1b",
   "metadata": {},
   "outputs": [
    {
     "name": "stdout",
     "output_type": "stream",
     "text": [
      "Rd.\n"
     ]
    }
   ],
   "source": [
    "# 23. Write a Python program to abbreviate 'Road' as 'Rd.' in a given string\n",
    "import re\n",
    "street = 'Road'\n",
    "print(re.sub('Road', 'Rd.', street))"
   ]
  }
 ],
 "metadata": {
  "kernelspec": {
   "display_name": "Python 3 (ipykernel)",
   "language": "python",
   "name": "python3"
  },
  "language_info": {
   "codemirror_mode": {
    "name": "ipython",
    "version": 3
   },
   "file_extension": ".py",
   "mimetype": "text/x-python",
   "name": "python",
   "nbconvert_exporter": "python",
   "pygments_lexer": "ipython3",
   "version": "3.9.12"
  }
 },
 "nbformat": 4,
 "nbformat_minor": 5
}
