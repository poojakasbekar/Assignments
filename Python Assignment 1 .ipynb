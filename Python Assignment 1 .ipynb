{
 "cells": [
  {
   "cell_type": "markdown",
   "id": "c0a4369b",
   "metadata": {},
   "source": [
    "#### Assignment 1 "
   ]
  },
  {
   "cell_type": "code",
   "execution_count": null,
   "id": "1e7a1b57",
   "metadata": {},
   "outputs": [],
   "source": [
    "1. Key features of python\n",
    "=> 1.free and open source\n",
    "   2.easy to code\n",
    "   3.easy to read\n",
    "   4.object-oriented language\n",
    "   5.support for GUI\n",
    "   6.High-level language\n",
    "   7.Highly portable\n",
    "   \n",
    "   "
   ]
  },
  {
   "cell_type": "code",
   "execution_count": null,
   "id": "81c9cfe4",
   "metadata": {},
   "outputs": [],
   "source": [
    "2. Data types in python are:\n",
    "=> 1.Text type       - String\n",
    "   2.numerical type  - int, float,complex\n",
    "   3.sequence type   - list,tuple,range\n",
    "   4.boolean type    - bool(true/false)\n",
    "   5.mapping type    - dict\n",
    "   6.set type        - set,frozenset"
   ]
  },
  {
   "cell_type": "code",
   "execution_count": null,
   "id": "fa35b44a",
   "metadata": {},
   "outputs": [],
   "source": [
    "3. what is the local and global variable\n",
    "=> -Variable that are defined inside a function body have a loacal variable, and \n",
    "    those defined outside have a global variable.\n",
    "    -This means that local variables can be accessed only inside the function in which \n",
    "    they are declared.whereas global variables can be accessed throughout the program \n",
    "    body by all functions.\n",
    "   "
   ]
  },
  {
   "cell_type": "code",
   "execution_count": null,
   "id": "eaf75d48",
   "metadata": {},
   "outputs": [],
   "source": [
    "4. how do you write a comment in a python ? and why comments are important ?\n",
    "=> we write a comment in a python are identified with a hash # symbol.\n",
    "  comments in a python is the short descriptions along with the code to \n",
    "  increase it's readbility.\n",
    "  it explains the basic logic behind why a particular line of code was written.\n",
    "  "
   ]
  },
  {
   "cell_type": "code",
   "execution_count": 7,
   "id": "89b00f92",
   "metadata": {},
   "outputs": [
    {
     "name": "stdout",
     "output_type": "stream",
     "text": [
      "science\n"
     ]
    }
   ],
   "source": [
    "5. How to comment on multiple lines in python?\n",
    "=> For multiline comments, there is no built-in mechanism for multiline comments in python.\n",
    "   To comment out multiple lines in python,you can prepend each line with a hash #  \n",
    " # print(\"Hello world\")\n",
    "# print(\" welcome\")\n",
    "# print(\"data\")\n",
    "\n",
    "print(\"science\")"
   ]
  },
  {
   "cell_type": "code",
   "execution_count": null,
   "id": "899915b4",
   "metadata": {},
   "outputs": [],
   "source": [
    "The real workaround for making multi-line comments in Python is by using docstrings.\n",
    "If you use a docstring to comment out multiple line of code in Python, that block of code will be ignored,\n",
    "and only the lines outside the docstring will run."
   ]
  },
  {
   "cell_type": "code",
   "execution_count": 8,
   "id": "9f234075",
   "metadata": {},
   "outputs": [
    {
     "name": "stdout",
     "output_type": "stream",
     "text": [
      "science\n"
     ]
    }
   ],
   "source": [
    "\"\"\"\n",
    "This is a multi-line comment with docstrings\n",
    "\n",
    "print(\"Hello world\")\n",
    "print(\"welcome\")\n",
    "print(\"data\")\n",
    "\"\"\"\n",
    "\n",
    "print(\"science\")"
   ]
  },
  {
   "cell_type": "code",
   "execution_count": null,
   "id": "472f5dfe",
   "metadata": {},
   "outputs": [],
   "source": [
    "6. What do you mean by Python literals?\n",
    "=> Literals in Python is defined as the raw data assigned to variables or constants while programming.\n",
    "  There are five types of literal in Python, which are as follows-\n",
    "1.String Literals\n",
    "2.Numeric Literals\n",
    "3.Boolean Literals\n",
    "4.Literal Collections\n",
    "5.Special Literals"
   ]
  },
  {
   "cell_type": "code",
   "execution_count": null,
   "id": "100df9f7",
   "metadata": {},
   "outputs": [],
   "source": [
    "7. What are different ways to assign value to variables?\n",
    "=> Direct Initialisation :-\n",
    "  In this method, we directly declare the variable and assign a value using the = sign.\n",
    "If the variable is declare multiple times,\n",
    "then the last declaration’s value will be used by the program.\n",
    "-Using if-else\n",
    "We can initialize value of a variable using some conditions. \n",
    "The evaluation of the result of the condition will become the value of the variable."
   ]
  },
  {
   "cell_type": "code",
   "execution_count": 9,
   "id": "80084aa8",
   "metadata": {},
   "outputs": [
    {
     "name": "stdout",
     "output_type": "stream",
     "text": [
      "9\n"
     ]
    }
   ],
   "source": [
    "# direct initialization;\n",
    "x = 5\n",
    "x = 9\n",
    "print(x)"
   ]
  },
  {
   "cell_type": "code",
   "execution_count": null,
   "id": "9bd0b573",
   "metadata": {},
   "outputs": [],
   "source": [
    "#8. What are the Escape Characters in python?\n",
    "=> An escape character is a backslash \\ followed by the character you want to insert.\n",
    "The escape character allows you to use double quotes when you normally would not be allowed:"
   ]
  },
  {
   "cell_type": "code",
   "execution_count": 10,
   "id": "b81687d6",
   "metadata": {},
   "outputs": [
    {
     "name": "stdout",
     "output_type": "stream",
     "text": [
      "Python and  \"Data\" Science.\n"
     ]
    }
   ],
   "source": [
    "string = \"Python and  \\\"Data\\\" Science.\"\n",
    "print(string)"
   ]
  },
  {
   "cell_type": "code",
   "execution_count": 12,
   "id": "6d1574ca",
   "metadata": {},
   "outputs": [
    {
     "name": "stdout",
     "output_type": "stream",
     "text": [
      "addition of 40 and 20 is 60\n",
      "addition of 10 and 20 is 30\n"
     ]
    }
   ],
   "source": [
    "#9. Which are the different ways to perform string formatting? Explain with example.\n",
    "# =>1. f-string:-\n",
    "a = 40 \n",
    "b = 20\n",
    "c = a + b\n",
    "print(f'addition of {a} and {b} is {c}')\n",
    "\n",
    "#2. format string:- \n",
    "\n",
    "a = 10\n",
    "b = 20 \n",
    "c = a + b\n",
    "print('addition of {} and {} is {}' .format(a,b,c))\n"
   ]
  },
  {
   "cell_type": "code",
   "execution_count": 2,
   "id": "d48f4f77",
   "metadata": {},
   "outputs": [
    {
     "name": "stdout",
     "output_type": "stream",
     "text": [
      "Please enter your own string:welcome\n",
      "w\n",
      "e\n",
      "l\n",
      "c\n",
      "o\n",
      "m\n",
      "e\n"
     ]
    }
   ],
   "source": [
    "# 10.Write a program to print every character of a string entered by the user in a new line using a loop\n",
    "\n",
    "str1 = input(\"Please enter your own string:\")\n",
    "for char in str1:\n",
    "    print(char)"
   ]
  },
  {
   "cell_type": "code",
   "execution_count": 23,
   "id": "549c09e4",
   "metadata": {},
   "outputs": [
    {
     "name": "stdout",
     "output_type": "stream",
     "text": [
      "The length of machine learning is : 16\n"
     ]
    }
   ],
   "source": [
    "# 11. Write a program to find the length of the string \"machine learning\" with and without using len function.\n",
    "\n",
    "# Find the length of string using len() function\n",
    "word = 'Machine Learning'\n",
    "print('The length of machine learning is :',len(word))\n",
    "\n"
   ]
  },
  {
   "cell_type": "code",
   "execution_count": 24,
   "id": "ff8cc57e",
   "metadata": {},
   "outputs": [
    {
     "name": "stdout",
     "output_type": "stream",
     "text": [
      "Length of given string is 1\n",
      "Length of given string is 2\n",
      "Length of given string is 3\n",
      "Length of given string is 4\n",
      "Length of given string is 5\n",
      "Length of given string is 6\n",
      "Length of given string is 7\n",
      "Length of given string is 8\n",
      "Length of given string is 9\n",
      "Length of given string is 10\n",
      "Length of given string is 11\n",
      "Length of given string is 12\n",
      "Length of given string is 13\n",
      "Length of given string is 14\n",
      "Length of given string is 15\n",
      "Length of given string is 16\n"
     ]
    }
   ],
   "source": [
    "# Find the length of string without using len() function\n",
    "word = 'machine learning'\n",
    "count = 0\n",
    "for char in word:\n",
    "    count += 1\n",
    "    print(f'Length of given string is {count}')\n"
   ]
  },
  {
   "cell_type": "code",
   "execution_count": 19,
   "id": "9ffa5e2c",
   "metadata": {},
   "outputs": [
    {
     "name": "stdout",
     "output_type": "stream",
     "text": [
      "The word is present in this is orange juice\n"
     ]
    }
   ],
   "source": [
    "# 12. Write a program to check if the word 'orange' is present in the \"This is orange juice.\n",
    "\n",
    "string = \"This is orange juice\"\n",
    "if \"orange\" in string:\n",
    "    print(\"The word is present in this is orange juice\")\n",
    "else:\n",
    "        print(\"The word orange is not present\")"
   ]
  },
  {
   "cell_type": "code",
   "execution_count": 35,
   "id": "2fc71a03",
   "metadata": {},
   "outputs": [
    {
     "name": "stdout",
     "output_type": "stream",
     "text": [
      "Vowels: 9\n",
      "Consonant: 13\n",
      "Digit: 2\n",
      "Special Character: 3\n"
     ]
    }
   ],
   "source": [
    "# 13. Write a python program to find the number of vowels, consonants, digits, and white space characters in a string.\n",
    "\n",
    "def countCharacterType(str):\n",
    "  \n",
    "    # Declare the variable vowels, \n",
    "    # consonant, digit and special\n",
    "    # characters\n",
    "    vowels = 0\n",
    "    consonant = 0\n",
    "    specialChar = 0\n",
    "    digit = 0\n",
    "  \n",
    "    # str.length() function to count \n",
    "    # number of character in given string.\n",
    "    for i in range(0, len(str)): \n",
    "          \n",
    "        ch = str[i] \n",
    "  \n",
    "        if ( (ch >= 'a' and ch <= 'z') or \n",
    "            (ch >= 'A' and ch <= 'Z') ): \n",
    "\n",
    "            # To handle upper case letters\n",
    "            ch = ch.lower()\n",
    "  \n",
    "            if (ch == 'a' or ch == 'e' or ch == 'i' \n",
    "                        or ch == 'o' or ch == 'u'):\n",
    "                vowels += 1\n",
    "            else:\n",
    "                consonant += 1\n",
    "          \n",
    "        elif (ch >= '0' and ch <= '9'):\n",
    "            digit += 1\n",
    "        else:\n",
    "            specialChar += 1\n",
    "      \n",
    "    print(\"Vowels:\", vowels)\n",
    "    print(\"Consonant:\", consonant) \n",
    "    print(\"Digit:\", digit) \n",
    "    print(\"Special Character:\", specialChar) \n",
    "  \n",
    "  \n",
    "# Driver function.\n",
    "str = \"Pooja.kasbekarS23@gmail.com\"\n",
    "countCharacterType(str) \n",
    "  \n"
   ]
  },
  {
   "cell_type": "code",
   "execution_count": 6,
   "id": "dc416be8",
   "metadata": {},
   "outputs": [
    {
     "name": "stdout",
     "output_type": "stream",
     "text": [
      "Please enter a string: Pooja@3445@\n",
      "Upper case letters:  1\n",
      "\n",
      "Lower case letters:  4\n",
      "\n",
      "numbers:  4\n",
      "\n",
      "Special characters:  2\n"
     ]
    }
   ],
   "source": [
    "# 14. Write a Python program to count Uppercase, Lowercase, special character, and numeric values in a given string.\n",
    " \n",
    "str=input(\"Please enter a string: \")\n",
    "upper, lower, num, special=0,0,0,0;\n",
    "for i in range(len(str)):\n",
    "    if(str[i].isupper()):\n",
    "         upper+=1\n",
    "    elif(str[i].islower()):\n",
    "         lower+=1\n",
    "    elif(str[i].isdigit()):\n",
    "         num+=1\n",
    "    else:\n",
    "         special+=1\n",
    "print(\"Upper case letters: \",upper)\n",
    "print(\"\\nLower case letters: \",lower)\n",
    "print(\"\\nnumbers: \",num)\n",
    "print(\"\\nSpecial characters: \",special)"
   ]
  },
  {
   "cell_type": "code",
   "execution_count": 2,
   "id": "028af7cd",
   "metadata": {},
   "outputs": [
    {
     "name": "stdout",
     "output_type": "stream",
     "text": [
      "Original Substrings: Pooja.kasbekar25@gmail.com\n",
      "\n",
      "Upper case characters:  1\n",
      "Lower case characters:  20\n",
      "Number case:  2\n",
      "Special case characters:  3\n"
     ]
    }
   ],
   "source": [
    "# 14 or\n",
    "\n",
    "def count_chars(str):\n",
    "     upper_ctr, lower_ctr, number_ctr, special_ctr = 0, 0, 0, 0\n",
    "     for i in range(len(str)):\n",
    "          if str[i] >= 'A' and str[i] <= 'Z': upper_ctr += 1\n",
    "          elif str[i] >= 'a' and str[i] <= 'z': lower_ctr += 1\n",
    "          elif str[i] >= '0' and str[i] <= '9': number_ctr += 1\n",
    "          else: special_ctr += 1\n",
    "     return upper_ctr, lower_ctr, number_ctr, special_ctr\n",
    "           \n",
    "str = \"Pooja.kasbekar25@gmail.com\"\n",
    "print(\"Original Substrings:\",str)\n",
    "u, l, n, s = count_chars(str)\n",
    "print('\\nUpper case characters: ',u)\n",
    "print('Lower case characters: ',l)\n",
    "print('Number case: ',n)\n",
    "print('Special case characters: ',s)\n"
   ]
  },
  {
   "cell_type": "code",
   "execution_count": 1,
   "id": "e46fd2f2",
   "metadata": {},
   "outputs": [
    {
     "name": "stdout",
     "output_type": "stream",
     "text": [
      "eoaeaooa"
     ]
    }
   ],
   "source": [
    "# 15. Write a program to make a new string with all the consonants deleted from the string \"Hello, have a good day\n",
    "\n",
    "def delete_consonants(x):\n",
    "        vowels= ['a','e','i','o','u']\n",
    "        for char in x:\n",
    "            if char in vowels:\n",
    "                print(char,end = \"\")\n",
    "\n",
    "delete_consonants('Hello,have a good day')"
   ]
  },
  {
   "cell_type": "code",
   "execution_count": 5,
   "id": "2ba83f00",
   "metadata": {},
   "outputs": [
    {
     "name": "stdout",
     "output_type": "stream",
     "text": [
      "ython\n",
      "Pyton\n",
      "Pytho\n"
     ]
    }
   ],
   "source": [
    "# 16. Write a Python program to remove the nth index character from a non-empty string.\n",
    "\n",
    "def remove_char(str, n):\n",
    "      first_part = str[:n] \n",
    "      last_part = str[n+1:]\n",
    "      return first_part + last_part\n",
    "print(remove_char('Python', 0))\n",
    "print(remove_char('Python', 3))\n",
    "print(remove_char('Python', 5))"
   ]
  },
  {
   "cell_type": "code",
   "execution_count": 6,
   "id": "36b4abee",
   "metadata": {},
   "outputs": [
    {
     "name": "stdout",
     "output_type": "stream",
     "text": [
      "dbca\n",
      "52341\n"
     ]
    }
   ],
   "source": [
    "# 17. Write a Python program to change a given string to a new string where the first and last characters have been exchanged\n",
    "\n",
    "def change_sring(str1):\n",
    "      return str1[-1:] + str1[1:-1] + str1[:1]\n",
    "print(change_sring('abcd'))\n",
    "print(change_sring('12345'))"
   ]
  },
  {
   "cell_type": "code",
   "execution_count": 3,
   "id": "f1cd0864",
   "metadata": {},
   "outputs": [
    {
     "name": "stdout",
     "output_type": "stream",
     "text": [
      "enter any string12334\n",
      "42331\n"
     ]
    }
   ],
   "source": [
    "# Or 17\n",
    "def change_str(str):\n",
    "    return str[-1:]+str[1:-1]+str[:1]\n",
    "a=input(\"enter any string\")\n",
    "print(change_str(a))"
   ]
  },
  {
   "cell_type": "code",
   "execution_count": 8,
   "id": "8675b9f6",
   "metadata": {},
   "outputs": [
    {
     "name": "stdout",
     "output_type": "stream",
     "text": [
      "{'welcome': 1, 'to': 1, 'the': 3, 'python': 2, 'and': 1, 'data': 1, 'science': 1, 'course': 1, 'is': 1, 'most': 1, 'popular': 1, 'language.': 1}\n"
     ]
    }
   ],
   "source": [
    "# 18. Write a Python program to count the occurrences of each word in a given sentence.\n",
    "\n",
    "def word_count(str):\n",
    "    counts = dict()\n",
    "    words = str.split()\n",
    "\n",
    "    for word in words:\n",
    "        if word in counts:\n",
    "            counts[word] += 1\n",
    "        else:\n",
    "            counts[word] = 1\n",
    "\n",
    "    return counts\n",
    "\n",
    "print( word_count('welcome to the python and the data science course python is the most popular language.'))"
   ]
  },
  {
   "cell_type": "code",
   "execution_count": 9,
   "id": "1bb8fe23",
   "metadata": {},
   "outputs": [
    {
     "name": "stdout",
     "output_type": "stream",
     "text": [
      "Please enter your own String : python and data science\n",
      "Please enter your own Character : a\n",
      "The total Number of Times  a  has Occurred =  3\n"
     ]
    }
   ],
   "source": [
    "# 19. How do you count the occurrence of a given character in a string?\n",
    "\n",
    "string = input(\"Please enter your own String : \")\n",
    "char = input(\"Please enter your own Character : \")\n",
    "\n",
    "count = 0\n",
    "for i in range(len(string)):\n",
    "    if(string[i] == char):\n",
    "        count = count + 1\n",
    "\n",
    "print(\"The total Number of Times \", char, \" has Occurred = \" , count)"
   ]
  },
  {
   "cell_type": "code",
   "execution_count": 11,
   "id": "a1360b9f",
   "metadata": {},
   "outputs": [
    {
     "name": "stdout",
     "output_type": "stream",
     "text": [
      "Last character :  g\n"
     ]
    }
   ],
   "source": [
    "# 20. Write a program to find last 10 characters of a string?\n",
    "\n",
    "sample_str = 'Sample String'\n",
    "# Get last character of string i.e. char at index position -1\n",
    "last_char = sample_str[-1]\n",
    "print('Last character : ', last_char)"
   ]
  },
  {
   "cell_type": "code",
   "execution_count": 12,
   "id": "550a56ed",
   "metadata": {},
   "outputs": [
    {
     "name": "stdout",
     "output_type": "stream",
     "text": [
      "Python\n",
      "PYTHON\n"
     ]
    }
   ],
   "source": [
    "# 21. WAP to convert a given string to all uppercase if it contains at least 2 uppercase characters \n",
    "# in the first 4 characters\n",
    "\n",
    "def to_uppercase(str1):\n",
    "    num_upper = 0\n",
    "    for letter in str1[:4]: \n",
    "        if letter.upper() == letter:\n",
    "            num_upper += 1\n",
    "    if num_upper >= 2:\n",
    "        return str1.upper()\n",
    "    return str1\n",
    "\n",
    "print(to_uppercase('Python'))\n",
    "print(to_uppercase('PyThon'))"
   ]
  },
  {
   "cell_type": "code",
   "execution_count": 13,
   "id": "85ecc92c",
   "metadata": {},
   "outputs": [
    {
     "name": "stdout",
     "output_type": "stream",
     "text": [
      "welcome in python and data science\n",
      "\n",
      "welcome in python and data science\n"
     ]
    }
   ],
   "source": [
    "# 22. Write a Python program to remove a newline in Python.\n",
    "\n",
    "str1='welcome in python and data science\\n'\n",
    "print(str1)\n",
    "print(str1.rstrip())"
   ]
  },
  {
   "cell_type": "code",
   "execution_count": 14,
   "id": "9d97bbfa",
   "metadata": {},
   "outputs": [
    {
     "name": "stdout",
     "output_type": "stream",
     "text": [
      "32,054.23\n"
     ]
    }
   ],
   "source": [
    "# 23. Write a Python program to swap commas and dots in a string\n",
    "# ○ Sample string: \"32.054,23\"\n",
    "# ○ Expected Output: \"32,054.23\"\n",
    "\n",
    "amount = \"32.054,23\"\n",
    "maketrans = amount.maketrans\n",
    "amount = amount.translate(maketrans(',.', '.,'))\n",
    "print(amount)"
   ]
  },
  {
   "cell_type": "code",
   "execution_count": 3,
   "id": "c23be2cf",
   "metadata": {},
   "outputs": [
    {
     "name": "stdout",
     "output_type": "stream",
     "text": [
      "a\n",
      "None\n"
     ]
    }
   ],
   "source": [
    "# 24. Write a Python program to find the first repeated character in a given string\n",
    "def first_repeated_char(str1):\n",
    "  for index,c in enumerate(str1):\n",
    "    if str1[:index+1].count(c) > 1:\n",
    "      return c \n",
    "  return \"None\"\n",
    "\n",
    "print(first_repeated_char(\"abcdabcd\"))\n",
    "print(first_repeated_char(\"abcd\"))\n"
   ]
  },
  {
   "cell_type": "code",
   "execution_count": 24,
   "id": "989d161d",
   "metadata": {},
   "outputs": [
    {
     "name": "stdout",
     "output_type": "stream",
     "text": [
      "('of', 4)\n"
     ]
    }
   ],
   "source": [
    "# 25. Write a Python program to find the second most repeated word in a given string\n",
    "def word_count(str):\n",
    "    counts = dict()\n",
    "    words = str.split()\n",
    "\n",
    "    for word in words:\n",
    "        if word in counts:\n",
    "            counts[word] += 1\n",
    "        else:\n",
    "            counts[word] = 1\n",
    "\n",
    "    counts_x = sorted(counts.items(), key=lambda kv: kv[1])\n",
    "    #print(counts_x)\n",
    "    return counts_x[-2]\n",
    " \n",
    "print(word_count(\"Both of these issues are fixed by postponing the evaluation of annotations. Instead of compiling code which executes expressions in annotations at their definition time, the compiler stores the annotation in a string form equivalent to the AST of the expression in question. If needed, annotations can be resolved at runtime using typing.get_type_hints(). In the common case where this is not required, the annotations are cheaper to store (since short strings are interned by the interpreter) and make startup time faster\"))"
   ]
  },
  {
   "cell_type": "code",
   "execution_count": 19,
   "id": "2a141bb7",
   "metadata": {},
   "outputs": [
    {
     "name": "stdout",
     "output_type": "stream",
     "text": [
      "c\n"
     ]
    }
   ],
   "source": [
    "string = \"abcdabd\"\n",
    "string2 =\"\"\n",
    "for i in string :\n",
    "    if string.count(i)>1:\n",
    "        pass\n",
    "    else:\n",
    "        string2=string2+i\n",
    "print(string2)"
   ]
  },
  {
   "cell_type": "code",
   "execution_count": 14,
   "id": "157298d1",
   "metadata": {},
   "outputs": [
    {
     "name": "stdout",
     "output_type": "stream",
     "text": [
      "Enter a string12345\n",
      "Number of odd numbers : 3\n",
      "Number of even numbers : 2\n"
     ]
    }
   ],
   "source": [
    "# 26. Python program to Count Even and Odd numbers in a string\n",
    "\n",
    "string = input(\"Enter a string\")\n",
    "odd = 0\n",
    "even = 0\n",
    "for char in string:\n",
    "    if char.isdigit():\n",
    "        if int(char) % 2 == 0:\n",
    "            even += 1\n",
    "        else:\n",
    "            odd += 1\n",
    "print(\"Number of odd numbers :\",odd)\n",
    "print(\"Number of even numbers :\",even)\n"
   ]
  },
  {
   "cell_type": "code",
   "execution_count": 32,
   "id": "c2facc1b",
   "metadata": {},
   "outputs": [
    {
     "name": "stdout",
     "output_type": "stream",
     "text": [
      "True\n"
     ]
    }
   ],
   "source": [
    "# 27. How do you check if a string contains only digits?\n",
    "txt = \"565543\"\n",
    "x = txt.isnumeric()\n",
    "print(x)"
   ]
  },
  {
   "cell_type": "code",
   "execution_count": 21,
   "id": "cca68aca",
   "metadata": {},
   "outputs": [
    {
     "name": "stdout",
     "output_type": "stream",
     "text": [
      " aello\n"
     ]
    }
   ],
   "source": [
    "# 28.How do you remove a given character/word from String?\n",
    "s = \"Hello\"\n",
    "s2 = s.replace(\"H\",\" a\")\n",
    "\n",
    "print(s2)"
   ]
  },
  {
   "cell_type": "code",
   "execution_count": 40,
   "id": "e7582ff1",
   "metadata": {},
   "outputs": [
    {
     "name": "stdout",
     "output_type": "stream",
     "text": [
      "ace\n",
      "pto\n"
     ]
    }
   ],
   "source": [
    "# 29. Write a Python program to remove the characters which have odd index values of a given string\n",
    "def odd_values_string(str):\n",
    "  result = \"\" \n",
    "  for i in range(len(str)):\n",
    "    if i % 2 == 0:\n",
    "      result = result + str[i]\n",
    "  return result\n",
    "\n",
    "print(odd_values_string('abcdef'))\n",
    "print(odd_values_string('python'))"
   ]
  },
  {
   "cell_type": "code",
   "execution_count": 41,
   "id": "6375c4ce",
   "metadata": {},
   "outputs": [
    {
     "name": "stdout",
     "output_type": "stream",
     "text": [
      "edcba\n"
     ]
    }
   ],
   "source": [
    "# 30. Write a Python function to reverses a string if its length is a multiple of 5\n",
    "def reverse_string(str1):\n",
    "    if len(str1) % 5 == 0:\n",
    "       return ''.join(reversed(str1))\n",
    "    return str1\n",
    "\n",
    "print(reverse_string('abcde'))"
   ]
  },
  {
   "cell_type": "code",
   "execution_count": 1,
   "id": "c9573f58",
   "metadata": {},
   "outputs": [
    {
     "name": "stdout",
     "output_type": "stream",
     "text": [
      "\n",
      "Original Number:  0.05\n",
      "Formatted Number with percentage: 5%\n",
      "\n"
     ]
    }
   ],
   "source": [
    "# 31. Write a Python program to format a number with a percentage(0.05 >> 5%)\n",
    "\n",
    "            x = 0.05\n",
    "print(\"\\nOriginal Number: \", x)\n",
    "print(\"Formatted Number with percentage: \"+\"{:.0%}\".format(x));\n",
    "print()\n"
   ]
  },
  {
   "cell_type": "code",
   "execution_count": 3,
   "id": "a4e491ef",
   "metadata": {},
   "outputs": [
    {
     "name": "stdout",
     "output_type": "stream",
     "text": [
      "Assignment Python\n"
     ]
    }
   ],
   "source": [
    "# 32. Write a Python program to reverse words in a string\n",
    "\n",
    "def reverse_string_words(text):\n",
    "    for line in text.split('\\n'):\n",
    "        return(' '.join(line.split()[::-1]))\n",
    "print(reverse_string_words(\"Python Assignment\"))"
   ]
  },
  {
   "cell_type": "code",
   "execution_count": 5,
   "id": "aa996790",
   "metadata": {},
   "outputs": [
    {
     "name": "stdout",
     "output_type": "stream",
     "text": [
      "pYTHON AnD Data Science\n"
     ]
    }
   ],
   "source": [
    "# 33. Write a Python program to swap cases of a given string\n",
    "def swap_case_string(str1):\n",
    "   result_str = \"\"   \n",
    "   for item in str1:\n",
    "       if item.isupper():\n",
    "           result_str += item.lower()\n",
    "       else:\n",
    "           result_str += item.upper()           \n",
    "   return result_str\n",
    "print(swap_case_string(\"Python aNd dATA sCIENCE\"))"
   ]
  },
  {
   "cell_type": "code",
   "execution_count": 9,
   "id": "618d29d8",
   "metadata": {},
   "outputs": [
    {
     "name": "stdout",
     "output_type": "stream",
     "text": [
      "WelCOME\n"
     ]
    }
   ],
   "source": [
    "# 34. Write a Python program to remove spaces from a given string\n",
    "\n",
    "def remove_spaces(str1):\n",
    "  str1 = str1.replace(' ','')\n",
    "  return str1  \n",
    "print(remove_spaces(\"W e l C O M E \"))"
   ]
  },
  {
   "cell_type": "code",
   "execution_count": 9,
   "id": "a2eacae9",
   "metadata": {},
   "outputs": [
    {
     "name": "stdout",
     "output_type": "stream",
     "text": [
      "poja ksber\n"
     ]
    }
   ],
   "source": [
    "# 35. Write a Python program to remove duplicate characters of a given string\n",
    "string=\"pooja kasbekar\"\n",
    "p=\"\"\n",
    "for char in string:\n",
    "\tif char not in p:\n",
    "\t\tp=p+char\n",
    "print(p)\n",
    "k=list(\"pooja kasbekar\")\n"
   ]
  },
  {
   "cell_type": "code",
   "execution_count": 5,
   "id": "9d21b836",
   "metadata": {},
   "outputs": [
    {
     "name": "stdout",
     "output_type": "stream",
     "text": [
      "Input the radius of the circle : 12.32\n",
      "The area of the circle with radius 12.32 is: 476.8384727842274\n"
     ]
    }
   ],
   "source": [
    "# 36. Write a Python Program to find the area of a circle\n",
    "\n",
    "from math import pi\n",
    "r = float(input (\"Input the radius of the circle : \"))\n",
    "print (\"The area of the circle with radius \" + str(r) + \" is: \" + str(pi * r**2))"
   ]
  },
  {
   "cell_type": "code",
   "execution_count": 2,
   "id": "d273aece",
   "metadata": {},
   "outputs": [
    {
     "name": "stdout",
     "output_type": "stream",
     "text": [
      "entar the r12.3\n",
      "475.0506000000001\n"
     ]
    }
   ],
   "source": [
    "pi=3.14\n",
    "r=eval(input(\"entar the r\"))\n",
    "area_of_circle=pi*r*r\n",
    "print(area_of_circle)"
   ]
  },
  {
   "cell_type": "code",
   "execution_count": 5,
   "id": "8618e23c",
   "metadata": {},
   "outputs": [
    {
     "name": "stdout",
     "output_type": "stream",
     "text": [
      "Enter value of N: 4\n",
      "Sum of squares = 30\n"
     ]
    }
   ],
   "source": [
    "# 37. Python Program to find Sum of squares of first n natural numbers\n",
    "\n",
    "# Python program for sum of the \n",
    "# square of first N natural numbers\n",
    "\n",
    "# Getting input from user\n",
    "N = int(input(\"Enter value of N: \"))\n",
    "\n",
    "# calculating sum of square \n",
    "sumVal =  (int)( (N * (N+1) * ((2*N) + 1))/6 )\n",
    "print(\"Sum of squares =\",sumVal)"
   ]
  },
  {
   "cell_type": "code",
   "execution_count": 15,
   "id": "51dd9a8d",
   "metadata": {},
   "outputs": [
    {
     "name": "stdout",
     "output_type": "stream",
     "text": [
      "enter your natural number : 2\n",
      "sum of squre of fist 2 number is : 5\n"
     ]
    }
   ],
   "source": [
    "n = int(input(\"enter your natural number : \"))\n",
    "sum_sq = 0\n",
    "for i in range (1,n+1): \n",
    "    sum_sq=sum_sq+pow(i,2)\n",
    "print(f\"sum of squre of fist {n} number is : {sum_sq}\")"
   ]
  },
  {
   "cell_type": "code",
   "execution_count": 12,
   "id": "ba8168ad",
   "metadata": {},
   "outputs": [
    {
     "name": "stdout",
     "output_type": "stream",
     "text": [
      "enter N: 3\n",
      "Sum of cubes of first 3 natural numbers:  36\n"
     ]
    }
   ],
   "source": [
    "# 38. Python Program to find cube sum of first n natural numbers\n",
    "def CubeSum(n) :\n",
    "    return (n*(n+1)//2)**2\n",
    "n=int(input(\"enter N: \"))\n",
    "print(\"Sum of cubes of first {} natural numbers: \".format(n),CubeSum(n))"
   ]
  },
  {
   "cell_type": "code",
   "execution_count": 11,
   "id": "fd0c5834",
   "metadata": {},
   "outputs": [
    {
     "name": "stdout",
     "output_type": "stream",
     "text": [
      "Enter amount: 5000\n",
      "Enter time: 2\n",
      "Enter rate: 18\n",
      "Simple interest is: 1800.000000\n",
      "Compound interest is: 1962.000000\n"
     ]
    }
   ],
   "source": [
    "# 39. Python Program to find simple interest and compound interest\n",
    "# Reading principal amount, rate and time\n",
    "principal = float(input('Enter amount: '))\n",
    "time = float(input('Enter time: '))\n",
    "rate = float(input('Enter rate: '))\n",
    "\n",
    "# Calcualtion\n",
    "simple_interest = (principal*time*rate)/100\n",
    "compound_interest = principal * ( (1+rate/100)**time - 1)\n",
    "\n",
    "# Displaying result\n",
    "print('Simple interest is: %f' % (simple_interest))\n",
    "print('Compound interest is: %f' %(compound_interest))\n"
   ]
  },
  {
   "cell_type": "code",
   "execution_count": 17,
   "id": "8f1d66f4",
   "metadata": {},
   "outputs": [
    {
     "name": "stdout",
     "output_type": "stream",
     "text": [
      "Enter principal amount::5000\n",
      "Enter the rate of interest::12\n",
      "Enter time span::2\n",
      "Enter number of times interest got compounded annualy::5\n",
      "Compound interest is 1338.253001141149\n"
     ]
    }
   ],
   "source": [
    "principal = eval(input('Enter principal amount::'))\n",
    "rate_of_interest = eval(input('Enter the rate of interest::'))\n",
    "time = eval(input('Enter time span::'))\n",
    "n = eval(input('Enter number of times interest got compounded annualy::'))\n",
    "ci = (principal * (1+(rate_of_interest/(100 * n)))**(n * time)) - principal\n",
    "print(f'Compound interest is {ci}')"
   ]
  },
  {
   "cell_type": "code",
   "execution_count": 18,
   "id": "f4c95778",
   "metadata": {},
   "outputs": [
    {
     "name": "stdout",
     "output_type": "stream",
     "text": [
      "11 is a prime number\n"
     ]
    }
   ],
   "source": [
    "# 40. Python program to check whether a number is Prime or not\n",
    "\n",
    "num = 11\n",
    "# If given number is greater than 1\n",
    "if num > 1:\n",
    "    # Iterate from 2 to n / 2\n",
    "    for i in range(2, int(num/2)+1):\n",
    "        # If num is divisible by any number between\n",
    "        # 2 and n / 2, it is not prime\n",
    "        if (num % i) == 0:\n",
    "            print(num, \"is not a prime number\")\n",
    "            break\n",
    "    else:\n",
    "        print(num, \"is a prime number\")\n",
    "else:\n",
    "    print(num, \"is not a prime number\")"
   ]
  },
  {
   "cell_type": "code",
   "execution_count": null,
   "id": "c166ab12",
   "metadata": {},
   "outputs": [],
   "source": []
  }
 ],
 "metadata": {
  "kernelspec": {
   "display_name": "Python 3 (ipykernel)",
   "language": "python",
   "name": "python3"
  },
  "language_info": {
   "codemirror_mode": {
    "name": "ipython",
    "version": 3
   },
   "file_extension": ".py",
   "mimetype": "text/x-python",
   "name": "python",
   "nbconvert_exporter": "python",
   "pygments_lexer": "ipython3",
   "version": "3.9.12"
  }
 },
 "nbformat": 4,
 "nbformat_minor": 5
}
