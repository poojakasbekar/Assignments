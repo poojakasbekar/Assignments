{
 "cells": [
  {
   "cell_type": "markdown",
   "id": "9f586f11",
   "metadata": {},
   "source": [
    "### Assignment no 4"
   ]
  },
  {
   "cell_type": "code",
   "execution_count": 14,
   "id": "18d296ba",
   "metadata": {},
   "outputs": [
    {
     "name": "stdout",
     "output_type": "stream",
     "text": [
      "key_value {5: 10, 3: 8, 6: 77, 4: 23, 2: 9, 1: 43}\n",
      "sorting the keys\n",
      "(1, 43) (2, 9) (3, 8) (4, 23) (5, 10) (6, 77) "
     ]
    }
   ],
   "source": [
    "# 1.Python program to sort Python Dictionaries by Keys\n",
    "\n",
    "key_value={}\n",
    "\n",
    "key_value[5] = 10      \n",
    "key_value[3] = 8\n",
    "key_value[6] = 77\n",
    "key_value[4] = 23\n",
    "key_value[2] = 9     \n",
    "key_value[1] = 43\n",
    "print(\"key_value\",key_value)\n",
    " \n",
    "print(\"sorting the keys\")\n",
    "\n",
    "for i in sorted(key_value) :\n",
    "    print ((i,key_value[i]) ,end =\" \")\n"
   ]
  },
  {
   "cell_type": "code",
   "execution_count": 18,
   "id": "c2a89287",
   "metadata": {},
   "outputs": [
    {
     "name": "stdout",
     "output_type": "stream",
     "text": [
      "{1: 1, 3: 4, 2: 9}\n"
     ]
    }
   ],
   "source": [
    "# 2. Python program to sort Python Dictionaries by Values\n",
    "\n",
    "dict1={1:1,2:9,3:4}\n",
    "sorted_dict1={}\n",
    "sorted_keys=sorted(dict1,key=dict1.get)\n",
    "for i in sorted_keys:\n",
    "    sorted_dict1[i]=dict1[i]\n",
    "print(sorted_dict1)   "
   ]
  },
  {
   "cell_type": "code",
   "execution_count": 20,
   "id": "33987f6f",
   "metadata": {},
   "outputs": [
    {
     "name": "stdout",
     "output_type": "stream",
     "text": [
      "dictionary: {'a': 100, 'b': 200, 'c': 300, 'd': 400}\n",
      "sum: 1000\n"
     ]
    }
   ],
   "source": [
    "# 3.Python program to find the sum of all items in a dictionary\n",
    "\n",
    "dict1={'a':100,'b':200,'c':300,'d':400}\n",
    "print(\"dictionary:\",dict1)\n",
    "print(\"sum:\",sum(dict1.values()))"
   ]
  },
  {
   "cell_type": "code",
   "execution_count": 23,
   "id": "f637c56b",
   "metadata": {},
   "outputs": [
    {
     "name": "stdout",
     "output_type": "stream",
     "text": [
      "print dictionary before removoing key: {'a': 111, 'b': 222, 'c': 333, 'd': 444}\n",
      "print dictionary after removing key {'a': 111, 'b': 222, 'd': 444}\n"
     ]
    }
   ],
   "source": [
    "# 4.Python program to remove a key from a dictionary\n",
    "\n",
    "dict1={'a':111,'b':222,'c':333,'d':444}\n",
    "print(\"print dictionary before removoing key:\",dict1)\n",
    "del dict1['c']\n",
    "print(\"print dictionary after removing key\",dict1)"
   ]
  },
  {
   "cell_type": "code",
   "execution_count": 25,
   "id": "d0756b6e",
   "metadata": {},
   "outputs": [
    {
     "name": "stdout",
     "output_type": "stream",
     "text": [
      "print dictionary before removoing key: {'a': 111, 'b': 222, 'c': 333, 'd': 444}\n",
      "value that is remove 222\n",
      "print dictionary after removing key {'a': 111, 'c': 333, 'd': 444}\n"
     ]
    }
   ],
   "source": [
    "# using pop method\n",
    "dict1={'a':111,'b':222,'c':333,'d':444}\n",
    "print(\"print dictionary before removoing key:\",dict1)\n",
    "x= dict1.pop('b')\n",
    "print(\"value that is remove\",x)\n",
    "print(\"print dictionary after removing key\",dict1)"
   ]
  },
  {
   "cell_type": "code",
   "execution_count": 26,
   "id": "db3bb3e1",
   "metadata": {},
   "outputs": [
    {
     "name": "stdout",
     "output_type": "stream",
     "text": [
      "Updated dictionary:\n",
      "{'a': 15, 'b': 20, 'c': 12, 'd': 18, 'e': 16}\n"
     ]
    }
   ],
   "source": [
    "# 5.Python program to merge two Dictionaries\n",
    "\n",
    "dict_1 = {'a': 15, 'b': 10, 'c' : 12 }\n",
    "dict_2 = {'d': 18,'b': 20,'e' : 16 }\n",
    "dict_1.update(dict_2)                # merged two dictionary by using update method\n",
    "print('Updated dictionary:')\n",
    "print(dict_1)\n",
    " "
   ]
  },
  {
   "cell_type": "code",
   "execution_count": 31,
   "id": "e20cd382",
   "metadata": {},
   "outputs": [
    {
     "name": "stdout",
     "output_type": "stream",
     "text": [
      "merged dictionary:\n",
      "{'a': 15, 'b': 20, 'c': 12, 'd': 18, 'e': 16}\n"
     ]
    }
   ],
   "source": [
    "# merge\n",
    "dict_1 = {'a': 15, 'b': 10, 'c' : 12 }\n",
    "dict_2 = {'d': 18,'b': 20,'e' : 16 }\n",
    "dict_3=dict_1 | dict_2            # merged two dictionary by using | operator\n",
    "print('merged dictionary:')\n",
    "print(dict_3)\n",
    " "
   ]
  },
  {
   "cell_type": "code",
   "execution_count": 1,
   "id": "efb08ddf",
   "metadata": {},
   "outputs": [
    {
     "name": "stdout",
     "output_type": "stream",
     "text": [
      "enter the marks 85\n",
      "DISCTION\n"
     ]
    }
   ],
   "source": [
    "# # 6. Program to create grade calculator in Python\n",
    "\n",
    "marks= float(input(\"enter the marks \"))\n",
    "\n",
    "if marks >=85:\n",
    "    print(\"DISCTION\")\n",
    "elif marks >= 75:\n",
    "    print(\"grade A\")\n",
    "elif  marks >=65:\n",
    "    print(\"grade B\")\n",
    "elif  marks >=55:\n",
    "    print(\"grade C\")\n",
    "elif marks >=45:\n",
    "    print(\"grade D\")\n",
    "elif marks >=35:\n",
    "    print(\"grade E\")\n",
    "else:\n",
    "    print(\"FAIL\")"
   ]
  },
  {
   "cell_type": "code",
   "execution_count": 6,
   "id": "0842d5fd",
   "metadata": {},
   "outputs": [
    {
     "name": "stdout",
     "output_type": "stream",
     "text": [
      "[['cat', 'tac'], ['dog', 'god'], ['fired', 'fried'], ['pat', 'tap']]\n"
     ]
    }
   ],
   "source": [
    "# 7. Print anagrams together in Python using List and Dictionary\n",
    " # initialzing a list of strings\n",
    "anagrams = ['cat', 'dog', 'fired', 'god', 'pat', 'tap', 'fried', 'tac']\n",
    "# initializing an empty dict\n",
    "grouped_anagrams = {}\n",
    "# iterating over the list to group all anagrams\n",
    "for string in anagrams:\n",
    "   # sorting the string\n",
    "   sorted_string = str(sorted(string))\n",
    "   # checking the string in dict\n",
    "   if sorted_string in grouped_anagrams:\n",
    "      # adding the string to the group anagrams\n",
    "      grouped_anagrams[sorted_string].append(string)\n",
    "   else:\n",
    "         # initializing a list with current string\n",
    "         grouped_anagrams[sorted_string] = [string]\n",
    "# printing the values of the dict (anagram groups)\n",
    "print(list(grouped_anagrams.values()))"
   ]
  },
  {
   "cell_type": "code",
   "execution_count": 7,
   "id": "de5446ba",
   "metadata": {},
   "outputs": [
    {
     "name": "stdout",
     "output_type": "stream",
     "text": [
      "enter the first number:4\n",
      "enter the second number:8\n",
      "100\n",
      "1000\n",
      "\n",
      "print the binary value after adding zero\n",
      "0100\n",
      "1000\n",
      "\n",
      "This binary value is anagram\n"
     ]
    }
   ],
   "source": [
    "# 8. Check if binary representations of two numbers are an anagram\n",
    "from collections import Counter\n",
    "a=int(input(\"enter the first number:\"))   # 4\n",
    "b=int(input(\"enter the second number:\"))  # 10\n",
    "b1=bin(a).replace(\"0b\",\"\") # 100 \n",
    "print(b1)\n",
    "b2=bin(b).replace(\"0b\",\"\")  # 1010    len is not same then\n",
    "print(b2)\n",
    "zeroes=abs(len(b1)-len(b2))   #3-4=-1  abs is absolute value then (-1) is getting (1) value \n",
    "if (len(b1)<len(b2)):\n",
    "    b1=\"0\"*zeroes+b1   # then we add zero\n",
    "else:                    \n",
    "    b2=\"0\"*zeroes+b2   # b1=0100  b2=1010\n",
    "print(\"\\nprint the binary value after adding zero\")\n",
    "print(b1)\n",
    "print(b2)\n",
    "\n",
    "d1=Counter(b1)\n",
    "d2=Counter(b2)\n",
    "if(d1==d2):\n",
    "    print(\"\\nThis binary value is anagram\")\n",
    "else:\n",
    "    print(\"\\nThis binary value is not anagram\")\n",
    "    "
   ]
  },
  {
   "cell_type": "code",
   "execution_count": 35,
   "id": "b81d4bb6",
   "metadata": {},
   "outputs": [
    {
     "name": "stdout",
     "output_type": "stream",
     "text": [
      "['ant', 'magenta', 'magnate', 'tan', 'gnamate']\n",
      "['ant', 'aaegmnt', 'aaegmnt', 'ant', 'aaegmnt']\n",
      "3\n"
     ]
    }
   ],
   "source": [
    "# 9. Python Counter to find the size of the largest subset of anagram words\n",
    "\n",
    "from collections import Counter\n",
    "def check(s):\n",
    "    lst=s.split()\n",
    "    print(lst)\n",
    "    for i in range(0,len(lst)):\n",
    "        lst[i]=''.join(sorted(lst[i]))\n",
    "    print(lst)\n",
    "    d=Counter(lst)\n",
    "    print(max(d.values()))\n",
    "s=\" ant magenta magnate tan gnamate\"\n",
    "check(s)"
   ]
  },
  {
   "cell_type": "code",
   "execution_count": 5,
   "id": "746b4aed",
   "metadata": {},
   "outputs": [
    {
     "name": "stdout",
     "output_type": "stream",
     "text": [
      "{'a': 'z', 'b': 'y', 'c': 'x', 'd': 'w', 'e': 'v', 'f': 'u', 'g': 't', 'h': 's', 'i': 'r', 'j': 'q', 'k': 'p', 'l': 'o', 'm': 'n', 'n': 'm', 'o': 'l', 'p': 'k', 'q': 'j', 'r': 'i', 's': 'h', 't': 'g', 'u': 'f', 'v': 'e', 'w': 'd', 'x': 'c', 'y': 'b', 'z': 'a'}\n",
      "Enter a word :welcome\n"
     ]
    },
    {
     "data": {
      "text/plain": [
       "'dvoxlnv'"
      ]
     },
     "execution_count": 5,
     "metadata": {},
     "output_type": "execute_result"
    }
   ],
   "source": [
    "#10. Python Dictionary to find mirror characters in a string\n",
    "\n",
    "aplha = \"abcdefghijklmnopqrstuvwxyz\"\n",
    "rev_aplha = aplha[::-1]\n",
    "rev_aplha\n",
    "dict1 = dict(zip(aplha, rev_aplha))\n",
    "print(dict1)\n",
    "string = input(\"Enter a word :\")\n",
    "\n",
    "mirror_string = \"\"\n",
    "\n",
    "for char in string:\n",
    "    mirror_string = mirror_string + dict1[char]\n",
    "    \n",
    "mirror_string  "
   ]
  },
  {
   "cell_type": "code",
   "execution_count": 37,
   "id": "bb791f84",
   "metadata": {},
   "outputs": [
    {
     "name": "stdout",
     "output_type": "stream",
     "text": [
      " 1 :  5\n",
      " 5 :  2\n",
      " 3 :  3\n",
      " 4 :  3\n",
      " 2 :  4\n"
     ]
    }
   ],
   "source": [
    "# 11. Counting the frequencies in a list using a dictionary in Python\n",
    "def CountFrequency(my_list):\n",
    " \n",
    "    # Creating an empty dictionary\n",
    "    freq = {}\n",
    "    for item in my_list:\n",
    "        if (item in freq):\n",
    "            freq[item] += 1\n",
    "        else:\n",
    "            freq[item] = 1\n",
    " \n",
    "    for key, value in freq.items():\n",
    "        print (\"% d : % d\"%(key, value))\n",
    "my_list =[1, 1, 1, 5, 5, 3, 1, 3, 3, 1, 4, 4, 4, 2, 2, 2, 2]\n",
    " \n",
    "CountFrequency(my_list)\n"
   ]
  },
  {
   "cell_type": "code",
   "execution_count": 38,
   "id": "e7363a64",
   "metadata": {},
   "outputs": [
    {
     "name": "stdout",
     "output_type": "stream",
     "text": [
      "{'Key 1': 1, 'Key 2': 2, 'Key 3': 3, 'Key 4': 4, 'Key 5': 5}\n"
     ]
    }
   ],
   "source": [
    "# 12. Python program to convert a list of Tuples into Dictionary\n",
    "\n",
    "tuples = [('Key 1', 1), ('Key 2', 2), ('Key 3', 3), ('Key 4', 4), ('Key 5', 5)]\n",
    "\n",
    "# converting to dict\n",
    "result = dict(tuples)\n",
    "\n",
    "# printing the result\n",
    "print(result)"
   ]
  },
  {
   "cell_type": "code",
   "execution_count": 2,
   "id": "2d2d6f73",
   "metadata": {},
   "outputs": [
    {
     "name": "stdout",
     "output_type": "stream",
     "text": [
      "Sample dictionary is :  {1: 'abort', 2: 'cat', 3: 'dent', 4: 'bat', 5: 'fill', 6: 'python', 7: 'data', 8: 'guv'}\n",
      "Ordered words in a dictionary are :  ['abort', 'abort', 'abort', 'abort']\n"
     ]
    }
   ],
   "source": [
    "# 13. Scraping And Finding Ordered Words In A Dictionary using Python\n",
    " #ordered words are words in which all characters in word are in alphabetical order\n",
    "\n",
    "    words = {1:'abort', 2:'cat',3:'dent', 4:'bat',5:'fill',6:'python',7:'data',8:'guv'}\n",
    "def find_ordered_words(words):\n",
    "    ordered_words = []\n",
    "    for value in words.values():\n",
    "        for i in range(len(value)-1):\n",
    "            if ord(value[i]) > ord(value[i+1]):\n",
    "                break\n",
    "            else:\n",
    "                ordered_words.append(value)\n",
    "        return ordered_words\n",
    "print('Sample dictionary is : ', words)\n",
    "print('Ordered words in a dictionary are : ',find_ordered_words(words))"
   ]
  },
  {
   "cell_type": "code",
   "execution_count": 4,
   "id": "fb27af0b",
   "metadata": {},
   "outputs": [
    {
     "name": "stdout",
     "output_type": "stream",
     "text": [
      "List of tuples is :  [(1, 1), (2, 8), (3, 27), (4, 64), (5, 125), (6, 216), (7, 343), (8, 512), (9, 729), (10, 1000)]\n"
     ]
    }
   ],
   "source": [
    "# 14. Create a list of tuples from the given list having a number and its cube in each tuple \n",
    "\n",
    "numbers = [1,2,3,4,5,6,7,8,9,10]\n",
    "def get_list_of_tuples(numbers):\n",
    "    return [(i,i**3) for i in numbers]\n",
    "print('List of tuples is : ', get_list_of_tuples(numbers))\n"
   ]
  },
  {
   "cell_type": "code",
   "execution_count": 40,
   "id": "8a8d76a4",
   "metadata": {},
   "outputs": [
    {
     "name": "stdout",
     "output_type": "stream",
     "text": [
      "Orignal Tuple List : [(200, 6), (100, 3), (400, 12), (300, 9)]\n",
      "\n",
      "Sorted Tuple List: [(100, 3), (200, 6), (300, 9), (400, 12)]\n"
     ]
    }
   ],
   "source": [
    "# 15. Sort a list of tuples by the second Item\n",
    "\n",
    "tuple = [(200, 6), (100, 3), (400, 12), (300, 9)]\n",
    "print(\"Orignal Tuple List :\" ,tuple)\n",
    "#function\n",
    "def Sort(tuple): \n",
    "    # Sorts in Ascending order \n",
    "    tuple.sort(key = lambda a: a[1]) \n",
    "    return tuple \n",
    "\n",
    "# printing the sorted list of tuples\n",
    "print(\"\\nSorted Tuple List:\" ,Sort(tuple))\n"
   ]
  },
  {
   "cell_type": "code",
   "execution_count": 41,
   "id": "762af3eb",
   "metadata": {},
   "outputs": [
    {
     "name": "stdout",
     "output_type": "stream",
     "text": [
      "Sorted Array in Ascending Order:\n",
      "[1, 3, 4, 5, 9]\n"
     ]
    }
   ],
   "source": [
    "# 16. Python Program for Insertion Sort\n",
    "\n",
    "# Insertion sort in Python\n",
    "\n",
    "\n",
    "\n",
    "def insertionSort(array):\n",
    "\n",
    "    for step in range(1, len(array)):\n",
    "        key = array[step]\n",
    "        j = step - 1\n",
    "        \n",
    "        # Compare key with each element on the left of it until an element smaller than it is found\n",
    "        # For descending order, change key<array[j] to key>array[j].        \n",
    "        while j >= 0 and key < array[j]:\n",
    "            array[j + 1] = array[j]\n",
    "            j = j - 1\n",
    "        \n",
    "        # Place key at after the element just smaller than it.\n",
    "        array[j + 1] = key\n",
    "\n",
    "\n",
    "data = [9, 5, 1, 4, 3]\n",
    "insertionSort(data)\n",
    "print('Sorted Array in Ascending Order:')\n",
    "print(data)# 17. Python Program for SelectionSort\n"
   ]
  },
  {
   "cell_type": "code",
   "execution_count": 46,
   "id": "e42139ae",
   "metadata": {},
   "outputs": [
    {
     "name": "stdout",
     "output_type": "stream",
     "text": [
      "Sorted Array in Ascending Order:\n",
      "[-9, -2, 0, 11, 45]\n"
     ]
    }
   ],
   "source": [
    "#  17. Python Program for SelectionSort\n",
    "\n",
    "# Selection sort in Python\n",
    "\n",
    "\n",
    "def selectionSort(array, size):\n",
    "   \n",
    "    for step in range(size):\n",
    "        min_idx = step\n",
    "\n",
    "        for i in range(step + 1, size):\n",
    "         \n",
    "            # to sort in descending order, change > to < in this line\n",
    "            # select the minimum element in each loop\n",
    "            if array[i] < array[min_idx]:\n",
    "                min_idx = i\n",
    "         \n",
    "        # put min at the correct position\n",
    "        (array[step], array[min_idx]) = (array[min_idx], array[step])\n",
    "\n",
    "\n",
    "data = [-2, 45, 0, 11, -9]\n",
    "size = len(data)\n",
    "selectionSort(data, size)\n",
    "print('Sorted Array in Ascending Order:')\n",
    "print(data)"
   ]
  },
  {
   "cell_type": "code",
   "execution_count": 42,
   "id": "5a687a59",
   "metadata": {},
   "outputs": [
    {
     "name": "stdout",
     "output_type": "stream",
     "text": [
      "Sorted Array in Ascending Order:\n",
      "[-9, -2, 0, 11, 45]\n"
     ]
    }
   ],
   "source": [
    "# 18. Python Program for Bubble Sort\n",
    "def bubbleSort(array):\n",
    "    \n",
    "  # loop to access each array element\n",
    "  for i in range(len(array)):\n",
    "\n",
    "    # loop to compare array elements\n",
    "    for j in range(0, len(array) - i - 1):\n",
    "\n",
    "      # compare two adjacent elements\n",
    "      # change > to < to sort in descending order\n",
    "      if array[j] > array[j + 1]:\n",
    "\n",
    "        # swapping elements if elements\n",
    "        # are not in the intended order\n",
    "        temp = array[j]\n",
    "        array[j] = array[j+1]\n",
    "        array[j+1] = temp\n",
    "\n",
    "\n",
    "data = [-2, 45, 0, 11, -9]\n",
    "\n",
    "bubbleSort(data)\n",
    "\n",
    "print('Sorted Array in Ascending Order:')\n",
    "print(data)\n"
   ]
  },
  {
   "cell_type": "code",
   "execution_count": 43,
   "id": "6925d06f",
   "metadata": {},
   "outputs": [
    {
     "name": "stdout",
     "output_type": "stream",
     "text": [
      "Splitting  [14, 46, 43, 27, 57, 41, 45, 21, 70]\n",
      "Splitting  [14, 46, 43, 27]\n",
      "Splitting  [14, 46]\n",
      "Splitting  [14]\n",
      "Merging  [14]\n",
      "Splitting  [46]\n",
      "Merging  [46]\n",
      "Merging  [14, 46]\n",
      "Splitting  [43, 27]\n",
      "Splitting  [43]\n",
      "Merging  [43]\n",
      "Splitting  [27]\n",
      "Merging  [27]\n",
      "Merging  [27, 43]\n",
      "Merging  [14, 27, 43, 46]\n",
      "Splitting  [57, 41, 45, 21, 70]\n",
      "Splitting  [57, 41]\n",
      "Splitting  [57]\n",
      "Merging  [57]\n",
      "Splitting  [41]\n",
      "Merging  [41]\n",
      "Merging  [41, 57]\n",
      "Splitting  [45, 21, 70]\n",
      "Splitting  [45]\n",
      "Merging  [45]\n",
      "Splitting  [21, 70]\n",
      "Splitting  [21]\n",
      "Merging  [21]\n",
      "Splitting  [70]\n",
      "Merging  [70]\n",
      "Merging  [21, 70]\n",
      "Merging  [21, 45, 70]\n",
      "Merging  [21, 41, 45, 57, 70]\n",
      "Merging  [14, 21, 27, 41, 43, 45, 46, 57, 70]\n",
      "[14, 21, 27, 41, 43, 45, 46, 57, 70]\n"
     ]
    }
   ],
   "source": [
    "# 19. Python Program for Merge Sort\n",
    "def mergeSort(nlist):\n",
    "    print(\"Splitting \",nlist)\n",
    "    if len(nlist)>1:\n",
    "        mid = len(nlist)//2\n",
    "        lefthalf = nlist[:mid]\n",
    "        righthalf = nlist[mid:]\n",
    "\n",
    "        mergeSort(lefthalf)\n",
    "        mergeSort(righthalf)\n",
    "        i=j=k=0       \n",
    "        while i < len(lefthalf) and j < len(righthalf):\n",
    "            if lefthalf[i] < righthalf[j]:\n",
    "                nlist[k]=lefthalf[i]\n",
    "                i=i+1\n",
    "            else:\n",
    "                nlist[k]=righthalf[j]\n",
    "                j=j+1\n",
    "            k=k+1\n",
    "\n",
    "        while i < len(lefthalf):\n",
    "            nlist[k]=lefthalf[i]\n",
    "            i=i+1\n",
    "            k=k+1\n",
    "\n",
    "        while j < len(righthalf):\n",
    "            nlist[k]=righthalf[j]\n",
    "            j=j+1\n",
    "            k=k+1\n",
    "    print(\"Merging \",nlist)\n",
    "\n",
    "nlist = [14,46,43,27,57,41,45,21,70]\n",
    "mergeSort(nlist)\n",
    "print(nlist)\n"
   ]
  },
  {
   "cell_type": "code",
   "execution_count": 45,
   "id": "5840d1da",
   "metadata": {},
   "outputs": [
    {
     "name": "stdout",
     "output_type": "stream",
     "text": [
      "Sorted array is: \n",
      "0 1 2 3 4 5 6 7 8 9 \n"
     ]
    }
   ],
   "source": [
    "#or\n",
    "def mergeSort(arr):\n",
    "\n",
    "    if len(arr) > 1:\n",
    "\n",
    "        a = len(arr)//2\n",
    "\n",
    "        l = arr[:a]\n",
    "\n",
    "        r = arr[a:]\n",
    "\n",
    "        # Sort the two halves\n",
    "\n",
    "        mergeSort(l)\n",
    "\n",
    "        mergeSort(r) \n",
    "\n",
    "        b = c = d = 0\n",
    "\n",
    "        while b < len(l) and c < len(r):\n",
    "\n",
    "            if l[b] < r[c]:\n",
    "\n",
    "                arr[d] = l[b]\n",
    "\n",
    "                b += 1\n",
    "\n",
    "            else:\n",
    "\n",
    "                arr[d] = r[c]\n",
    "\n",
    "                c += 1\n",
    "\n",
    "            d += 1\n",
    "\n",
    "        while b < len(l):\n",
    "\n",
    "            arr[d] = l[b]\n",
    "\n",
    "            b += 1\n",
    "\n",
    "            d += 1\n",
    "\n",
    "        while c < len(r):\n",
    "\n",
    "            arr[d] = r[c]\n",
    "\n",
    "            c += 1\n",
    "\n",
    "            d += 1\n",
    "\n",
    "\n",
    "def printList(arr):\n",
    "\n",
    "    for i in range(len(arr)):\n",
    "\n",
    "        print(arr[i], end=\" \")\n",
    "\n",
    "    print()\n",
    " \n",
    "\n",
    "# Driver program\n",
    "\n",
    "if __name__ == '__main__':\n",
    "\n",
    "    arr = [0,1,3,5,7,9,2,4,6,8] \n",
    "\n",
    "    mergeSort(arr) \n",
    "\n",
    "    print(\"Sorted array is: \")\n",
    "\n",
    "    printList(arr)"
   ]
  },
  {
   "cell_type": "code",
   "execution_count": 44,
   "id": "99536673",
   "metadata": {},
   "outputs": [
    {
     "name": "stdout",
     "output_type": "stream",
     "text": [
      "Sorted array is:\n",
      "2 3 4 5 5 6 7 8 "
     ]
    }
   ],
   "source": [
    "# 20. Python Program for QuickSortSor\n",
    "# divide function\n",
    "def partition(arr,low,high):\n",
    "   i = ( low-1 )\n",
    "   pivot = arr[high] # pivot element\n",
    "   for j in range(low , high):\n",
    "      # If current element is smaller\n",
    "      if arr[j] <= pivot:\n",
    "         # increment\n",
    "         i = i+1\n",
    "         arr[i],arr[j] = arr[j],arr[i]\n",
    "   arr[i+1],arr[high] = arr[high],arr[i+1]\n",
    "   return ( i+1 )\n",
    "# sort\n",
    "def quickSort(arr,low,high):\n",
    "   if low < high:\n",
    "      # index\n",
    "      pi = partition(arr,low,high)\n",
    "      # sort the partitions\n",
    "      quickSort(arr, low, pi-1)\n",
    "      quickSort(arr, pi+1, high)\n",
    "# main\n",
    "arr = [2,5,3,8,6,5,4,7]\n",
    "n = len(arr)\n",
    "quickSort(arr,0,n-1)\n",
    "print (\"Sorted array is:\")\n",
    "for i in range(n):\n",
    "   print (arr[i],end=\" \")\n"
   ]
  }
 ],
 "metadata": {
  "kernelspec": {
   "display_name": "Python 3 (ipykernel)",
   "language": "python",
   "name": "python3"
  },
  "language_info": {
   "codemirror_mode": {
    "name": "ipython",
    "version": 3
   },
   "file_extension": ".py",
   "mimetype": "text/x-python",
   "name": "python",
   "nbconvert_exporter": "python",
   "pygments_lexer": "ipython3",
   "version": "3.9.12"
  }
 },
 "nbformat": 4,
 "nbformat_minor": 5
}
