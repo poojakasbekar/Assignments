{
 "cells": [
  {
   "cell_type": "markdown",
   "id": "ab0568b5",
   "metadata": {},
   "source": [
    "### Assignment - 10 (NumPy)"
   ]
  },
  {
   "cell_type": "code",
   "execution_count": 2,
   "id": "070e5be2",
   "metadata": {},
   "outputs": [
    {
     "data": {
      "text/plain": [
       "array([0., 0., 0., 0., 0., 0., 0., 0., 0., 0.])"
      ]
     },
     "execution_count": 2,
     "metadata": {},
     "output_type": "execute_result"
    }
   ],
   "source": [
    "# 1. Create a null vector of size 10\n",
    "import numpy as np\n",
    "x=np.zeros(10)\n",
    "x"
   ]
  },
  {
   "cell_type": "code",
   "execution_count": 3,
   "id": "b298c4e8",
   "metadata": {},
   "outputs": [
    {
     "name": "stdout",
     "output_type": "stream",
     "text": [
      "200 bytes\n"
     ]
    }
   ],
   "source": [
    "# 2.  How to find the memory size of an array\n",
    "n=np.zeros((5,5))\n",
    "print(\"%d bytes\" % (n.size * n.itemsize))"
   ]
  },
  {
   "cell_type": "code",
   "execution_count": 6,
   "id": "93a19e21",
   "metadata": {},
   "outputs": [
    {
     "data": {
      "text/plain": [
       "array([0., 0., 0., 0., 0., 1., 6., 0., 0., 0.])"
      ]
     },
     "execution_count": 6,
     "metadata": {},
     "output_type": "execute_result"
    }
   ],
   "source": [
    "# 3. Create a null vector of size 10 but the fifth value which is 1\n",
    "x=np.zeros(10)\n",
    "x\n",
    "x[5]=1\n",
    "x[6]=6\n",
    "x\n"
   ]
  },
  {
   "cell_type": "code",
   "execution_count": 10,
   "id": "1f1400bb",
   "metadata": {},
   "outputs": [
    {
     "data": {
      "text/plain": [
       "array([15, 16, 17, 18, 19, 20, 21, 22, 23, 24, 25, 26, 27, 28, 29, 30, 31,\n",
       "       32, 33, 34, 35, 36, 37, 38, 39, 40, 41, 42, 43, 44, 45, 46, 47, 48,\n",
       "       49, 50, 51, 52, 53, 54])"
      ]
     },
     "execution_count": 10,
     "metadata": {},
     "output_type": "execute_result"
    }
   ],
   "source": [
    "# 4. Create a vector with values ranging from 15 to 45\n",
    "x=np.arange(15,55)\n",
    "x"
   ]
  },
  {
   "cell_type": "code",
   "execution_count": 14,
   "id": "53dad307",
   "metadata": {},
   "outputs": [
    {
     "name": "stdout",
     "output_type": "stream",
     "text": [
      "original array\n",
      "[13 14 15 16 17 18 19]\n",
      "\n",
      "Reversing array\n",
      "[19 18 17 16 15 14 13]\n"
     ]
    }
   ],
   "source": [
    "# 5.Reverse a vector (The first element becomes last)\n",
    "x=np.arange(13,20)\n",
    "print(\"original array\")\n",
    "print(x)\n",
    "print(\"\\nReversing array\")\n",
    "x=x[::-1]\n",
    "print(x)"
   ]
  },
  {
   "cell_type": "code",
   "execution_count": 19,
   "id": "bea5ec58",
   "metadata": {},
   "outputs": [
    {
     "name": "stdout",
     "output_type": "stream",
     "text": [
      "Add\n",
      "6\n",
      "subtract\n",
      "-2\n",
      "Multiply\n",
      "8\n",
      "divide\n",
      "0.5\n"
     ]
    }
   ],
   "source": [
    "# 6. Write a NumPy program to add, subtract, multiply, divide arguments element-wise\n",
    "import numpy as np\n",
    "print(\"Add\")\n",
    "print(np.add(2,4))\n",
    "print(\"subtract\")\n",
    "print(np.subtract(2,4))\n",
    "print(\"Multiply\")\n",
    "print(np.multiply(2,4))\n",
    "print(\"divide\")\n",
    "print(np.divide(2,4))"
   ]
  },
  {
   "cell_type": "code",
   "execution_count": 23,
   "id": "1cbcfdee",
   "metadata": {},
   "outputs": [
    {
     "name": "stdout",
     "output_type": "stream",
     "text": [
      "original array\n",
      "[-0.7 -1.5 -1.6  0.3  1.5  1.8  2. ]\n",
      "\n",
      "round element of the array to the nereasest integer\n",
      "[-1. -2. -2.  0.  2.  2.  2.]\n"
     ]
    }
   ],
   "source": [
    "# 7. Write a NumPy program to round elements of the array to the nearest integer.\n",
    "import numpy as np\n",
    "x=np.array([-.7,-1.5,-1.6,0.3,1.5,1.8,2.0])\n",
    "print(\"original array\")\n",
    "print(x)\n",
    "x=np.rint(x)\n",
    "print(\"\\nround element of the array to the nereasest integer\")\n",
    "print(x)"
   ]
  },
  {
   "cell_type": "code",
   "execution_count": 8,
   "id": "6a23216d",
   "metadata": {},
   "outputs": [
    {
     "data": {
      "text/plain": [
       "array([-1., -2., -2.,  0.,  2.,  2.,  2.])"
      ]
     },
     "execution_count": 8,
     "metadata": {},
     "output_type": "execute_result"
    }
   ],
   "source": [
    "x=np.array([-.7,-1.5,-1.6,0.3,1.5,1.8,2.0])\n",
    "x1=np.around(x)\n",
    "x1"
   ]
  },
  {
   "cell_type": "code",
   "execution_count": 26,
   "id": "5bdbdbd1",
   "metadata": {},
   "outputs": [
    {
     "name": "stdout",
     "output_type": "stream",
     "text": [
      "original array\n",
      "[ 3.1  3.5  4.5  2.9 -3.1 -3.5 -5.9]\n",
      "\n",
      "floor: [ 3.  3.  4.  2. -4. -4. -6.]\n",
      "\n",
      "ceil: [ 4.  4.  5.  3. -3. -3. -5.]\n"
     ]
    }
   ],
   "source": [
    "# 8. Write a NumPy program to get the floor and ceiling values of the elements of a NumPy array\n",
    "x=np.array([3.1,3.5,4.5,2.9,-3.1,-3.5,-5.9])\n",
    "print(\"original array\")\n",
    "print(x)\n",
    "x1=np.floor(x)\n",
    "x2=np.ceil(x)\n",
    "print(\"\\nfloor:\",x1)\n",
    "print(\"\\nceil:\",x2)"
   ]
  },
  {
   "cell_type": "code",
   "execution_count": 10,
   "id": "d8dce4d1",
   "metadata": {},
   "outputs": [
    {
     "name": "stdout",
     "output_type": "stream",
     "text": [
      "original array\n",
      "[[10 20]\n",
      " [30 40]]\n",
      "25.0\n",
      "\n",
      "mean of each column\n",
      "[15. 35.]\n",
      "\n",
      "mean of each row\n",
      "[20. 30.]\n"
     ]
    }
   ],
   "source": [
    "# 9. Write a NumPy program to calculate mean across dimensions, in a 2D NumPy array\n",
    "import numpy as np\n",
    "x=np.array([[10,20],[30,40]])\n",
    "print(\"original array\")\n",
    "print(x)\n",
    "print(x.mean())\n",
    "\n",
    "print(\"\\nmean of each column\")\n",
    "print(x.mean(axis=1))\n",
    "\n",
    "print(\"\\nmean of each row\")\n",
    "print(x.mean(axis=0))\n"
   ]
  },
  {
   "cell_type": "code",
   "execution_count": 19,
   "id": "429884fc",
   "metadata": {},
   "outputs": [
    {
     "data": {
      "text/plain": [
       "5"
      ]
     },
     "execution_count": 19,
     "metadata": {},
     "output_type": "execute_result"
    }
   ],
   "source": [
    "x=np.array([[[10,20],[30,40],[10,20],[30,40]]],ndmin=5)\n",
    "np.ndim(x)\n",
    "\n"
   ]
  },
  {
   "cell_type": "code",
   "execution_count": 32,
   "id": "f3349358",
   "metadata": {},
   "outputs": [
    {
     "name": "stdout",
     "output_type": "stream",
     "text": [
      "original array\n",
      "[-180.  -90.   90.  180.]\n",
      "[-3.14159265 -1.57079633  1.57079633  3.14159265]\n",
      "[-3.14159265 -1.57079633  1.57079633  3.14159265]\n"
     ]
    }
   ],
   "source": [
    "# 10. Write a NumPy program to convert angles from degrees to radians for all elements in a given array\n",
    "x=np.array([-180.,-90.,90.,180.])\n",
    "print(\"original array\")\n",
    "print(x)\n",
    "r1=np.radians(x)\n",
    "r2=np.deg2rad(x)\n",
    "print(r1)\n",
    "print(r2)"
   ]
  },
  {
   "cell_type": "markdown",
   "id": "8149a023",
   "metadata": {},
   "source": [
    "##  11.What is the use of all and any function in numpy?\n",
    "The any() function is used to test whether any array element along a given axis evaluates to True.\n",
    "\n",
    "Returns single boolean unless axis is not None.\n",
    "\n",
    "-syntax:-\n",
    " numpy.any(a, axis=None, out=None, keepdims = <no value>)\n",
    "\n",
    "-The numpy.all() function tests whether all array elements along the mentioned axis evaluate to True.\n",
    "    \n",
    "    -Syntax: numpy.all(array,\n",
    "                    axis = None,\n",
    "                    out = None,\n",
    "                    keepdims = class numpy._globals._NoValue at 0x40ba726c)\n",
    " \n"
   ]
  },
  {
   "cell_type": "code",
   "execution_count": 22,
   "id": "6d775c86",
   "metadata": {},
   "outputs": [
    {
     "data": {
      "text/plain": [
       "True"
      ]
     },
     "execution_count": 22,
     "metadata": {},
     "output_type": "execute_result"
    }
   ],
   "source": [
    "x=np.array([1,2,3,4,5,6,0])\n",
    "np.any(x)"
   ]
  },
  {
   "cell_type": "code",
   "execution_count": 25,
   "id": "9d34971b",
   "metadata": {},
   "outputs": [
    {
     "data": {
      "text/plain": [
       "False"
      ]
     },
     "execution_count": 25,
     "metadata": {},
     "output_type": "execute_result"
    }
   ],
   "source": [
    "x=np.array([1,2,3,4,5,6,False])\n",
    "np.all(x)"
   ]
  },
  {
   "cell_type": "code",
   "execution_count": 41,
   "id": "15316d2e",
   "metadata": {},
   "outputs": [
    {
     "name": "stdout",
     "output_type": "stream",
     "text": [
      "[[0 1 2]\n",
      " [3 4 5]\n",
      " [6 7 8]]\n"
     ]
    }
   ],
   "source": [
    "# 12.Create a 3x3 matrix with values ranging from 0 to 8\n",
    "# [[0 1 2]\n",
    "# [3 4 5]\n",
    "# [6 7 8]]\n",
    "\n",
    "import numpy as np\n",
    "x=np.arange(0, 9).reshape(3,3)\n",
    "print(x)"
   ]
  },
  {
   "cell_type": "code",
   "execution_count": 49,
   "id": "190fcbc9",
   "metadata": {},
   "outputs": [
    {
     "name": "stdout",
     "output_type": "stream",
     "text": [
      "original array\n",
      "[[0 1 2]\n",
      " [3 4 5]\n",
      " [6 7 8]]\n",
      "\n",
      "reversed_colunm\n",
      "[[2 1 0]\n",
      " [5 4 3]\n",
      " [8 7 6]]\n"
     ]
    }
   ],
   "source": [
    "# 13.  How to reverse the columns of a 2D array?\n",
    "# ([[2, 1, 0],\n",
    "# [5, 4, 3],\n",
    "# [8, 7, 6]])\n",
    "x=np.array([[0,1,2],[3,4,5],[6,7,8]])\n",
    "print(\"original array\")\n",
    "print(x)\n",
    "reversed_column=np.flip(x,axis=1)\n",
    "print(\"\\nreversed_colunm\")\n",
    "print(reversed_column)"
   ]
  },
  {
   "cell_type": "code",
   "execution_count": 51,
   "id": "af03029e",
   "metadata": {},
   "outputs": [
    {
     "name": "stdout",
     "output_type": "stream",
     "text": [
      "original array\n",
      "[[0 1 2]\n",
      " [3 4 5]\n",
      " [6 7 8]]\n",
      "\n",
      "reversed_row\n",
      "[[6 7 8]\n",
      " [3 4 5]\n",
      " [0 1 2]]\n"
     ]
    }
   ],
   "source": [
    "# 14.  How to reverse the rows of a 2D array?\n",
    "# [[6, 7, 8],\n",
    "# [3, 4, 5],\n",
    "# [0, 1, 2]]\n",
    "\n",
    "x=np.array([[0,1,2],[3,4,5],[6,7,8]])\n",
    "print(\"original array\")\n",
    "print(x)\n",
    "\n",
    "reversed_row=np.flip(x,axis=0)\n",
    "print(\"\\nreversed_row\")\n",
    "print(reversed_row)"
   ]
  },
  {
   "cell_type": "code",
   "execution_count": 28,
   "id": "5517738e",
   "metadata": {},
   "outputs": [
    {
     "name": "stdout",
     "output_type": "stream",
     "text": [
      "original array\n",
      "[0 1 2 0 0 4 0]\n",
      "\n",
      "indiceses of non zero element\n",
      "[1 2 5]\n"
     ]
    }
   ],
   "source": [
    "# 15. Find indices of non-zero elements from [1,2,0,0,4,0]\n",
    "x=np.array([0,1,2,0,0,4,0])\n",
    "print(\"original array\")\n",
    "print(x)\n",
    "print(\"\\nindiceses of non zero element\")\n",
    "result=np.where(x != 0)[0]\n",
    "print(result)"
   ]
  },
  {
   "cell_type": "code",
   "execution_count": 60,
   "id": "efbf7d37",
   "metadata": {},
   "outputs": [
    {
     "name": "stdout",
     "output_type": "stream",
     "text": [
      "original array\n",
      "[[10 20]\n",
      " [30 40]]\n",
      "\n",
      "Determinant of given array\n",
      "-200.0000000000001\n"
     ]
    }
   ],
   "source": [
    "# 16.Write a NumPy program to compute the determinant of an array.\n",
    "x=np.array([[10,20],[30,40]])\n",
    "print(\"original array\")\n",
    "print(x)\n",
    "result=np.linalg.det(x)\n",
    "print(\"\\nDeterminant of given array\")\n",
    "print(result)"
   ]
  },
  {
   "cell_type": "code",
   "execution_count": 61,
   "id": "b70bb2d9",
   "metadata": {},
   "outputs": [
    {
     "name": "stdout",
     "output_type": "stream",
     "text": [
      "original array\n",
      "[[10 20]\n",
      " [30 40]]\n",
      "\n",
      "Inverse of the given matrix\n",
      "[[-0.2   0.1 ]\n",
      " [ 0.15 -0.05]]\n"
     ]
    }
   ],
   "source": [
    "# 17. Write a NumPy program to compute the inverse of a given matrix\n",
    "x=np.array([[10,20],[30,40]])\n",
    "print(\"original array\")\n",
    "print(x)\n",
    "result=np.linalg.inv(x)\n",
    "print(\"\\nInverse of the given matrix\")\n",
    "print(result)"
   ]
  },
  {
   "cell_type": "code",
   "execution_count": 65,
   "id": "02d128a7",
   "metadata": {},
   "outputs": [
    {
     "name": "stdout",
     "output_type": "stream",
     "text": [
      "original array\n",
      "[0.05541143 0.83370438 0.93737095 0.50167817 0.9573896  0.59241837\n",
      " 0.06291831 0.93755707 0.72802444 0.12032817 0.9353408  0.34556795\n",
      " 0.5089886  0.17836232 0.22794872 0.13092345 0.46458925 0.98055494\n",
      " 0.40029828 0.7248523  0.37067407 0.7751461  0.83798741 0.59867061\n",
      " 0.01699319 0.72651595 0.20504151 0.14858382 0.76693643 0.9820164 ]\n"
     ]
    },
    {
     "data": {
      "text/plain": [
       "0.5350930995499306"
      ]
     },
     "execution_count": 65,
     "metadata": {},
     "output_type": "execute_result"
    }
   ],
   "source": [
    "# 18. Create a random vector of size 30 and find the mean value\n",
    "\n",
    "x= np.random.random(30)\n",
    "print(\"original array\")\n",
    "print(x)\n",
    "result=x.mean()\n",
    "result"
   ]
  },
  {
   "cell_type": "code",
   "execution_count": 32,
   "id": "1265bd96",
   "metadata": {},
   "outputs": [
    {
     "name": "stdout",
     "output_type": "stream",
     "text": [
      "(array([ 1,  2,  3,  4,  5,  6,  7,  8,  9, 10], dtype=int64),)\n"
     ]
    }
   ],
   "source": [
    "# 19.. How to extract all numbers between a given range from a NumPy array?\n",
    "x=np.arange(25)\n",
    "result=np.where((x >= 1) & (x <= 10))\n",
    "print(result)\n",
    "#x\n"
   ]
  },
  {
   "cell_type": "code",
   "execution_count": 36,
   "id": "635d7a3c",
   "metadata": {},
   "outputs": [
    {
     "name": "stdout",
     "output_type": "stream",
     "text": [
      "[[[0.74977381 0.86355728 0.8838535 ]\n",
      "  [0.37663866 0.00427389 0.43772906]\n",
      "  [0.85940786 0.43196337 0.69452314]]\n",
      "\n",
      " [[0.27398775 0.98822588 0.47456953]\n",
      "  [0.42165748 0.91973257 0.75837837]\n",
      "  [0.09890989 0.67288543 0.2746717 ]]\n",
      "\n",
      " [[0.81035396 0.22360827 0.3215976 ]\n",
      "  [0.75167312 0.58994514 0.84710259]\n",
      "  [0.03214654 0.36085302 0.52875412]]]\n"
     ]
    }
   ],
   "source": [
    "# 20. . Create a 3x3x3 array with random values\n",
    "x=np.random.random((3,3,3))\n",
    "print(x)"
   ]
  },
  {
   "cell_type": "code",
   "execution_count": 75,
   "id": "e1ab7c0e",
   "metadata": {},
   "outputs": [
    {
     "name": "stdout",
     "output_type": "stream",
     "text": [
      "[[0.76055332 0.83328708 0.29355891 0.84679472 0.16312489 0.04128083\n",
      "  0.49316958 0.59075524 0.75944857 0.2655041 ]\n",
      " [0.72914055 0.11250109 0.50020746 0.22063577 0.84959375 0.5724795\n",
      "  0.28509971 0.12601421 0.73465143 0.82445446]\n",
      " [0.04714663 0.5931612  0.5050218  0.99623784 0.43996226 0.51556383\n",
      "  0.54845372 0.63451678 0.82285623 0.24393444]\n",
      " [0.12363332 0.09599126 0.52750599 0.37996004 0.1343168  0.69718267\n",
      "  0.34386085 0.53423154 0.82562147 0.97585409]\n",
      " [0.89118988 0.22725125 0.80930111 0.90978326 0.92562594 0.55728262\n",
      "  0.82883588 0.08243277 0.52148148 0.3172785 ]\n",
      " [0.86000326 0.82482159 0.07132537 0.08563604 0.60156791 0.78763959\n",
      "  0.43817268 0.25877105 0.73839293 0.28638644]\n",
      " [0.94837658 0.44149267 0.45741533 0.35006147 0.16840466 0.67096039\n",
      "  0.33968645 0.4542874  0.44155557 0.29954544]\n",
      " [0.0045157  0.61457536 0.22453195 0.4242114  0.77011611 0.56742498\n",
      "  0.95431088 0.60813064 0.92179207 0.95960643]\n",
      " [0.72232611 0.58645624 0.50865622 0.89350985 0.45703281 0.72099864\n",
      "  0.47998287 0.90112458 0.68919467 0.70376211]\n",
      " [0.10179394 0.31350915 0.1678332  0.46279819 0.89392278 0.44949893\n",
      "  0.13370136 0.86525504 0.07103235 0.77956388]]\n",
      "\n",
      "minimum and maximum value \n",
      "0.004515704057349579 0.9962378352598117\n"
     ]
    }
   ],
   "source": [
    "# 21. Create a 10x10 array with random values and find the minimum and maximum values\n",
    "x= np.random.random((10,10))\n",
    "print(x)\n",
    "xmin,xmax=x.min(),x.max()\n",
    "print(\"\\nminimum and maximum value \")\n",
    "print(xmin,xmax)"
   ]
  },
  {
   "cell_type": "code",
   "execution_count": 38,
   "id": "72fbc34a",
   "metadata": {},
   "outputs": [
    {
     "data": {
      "text/plain": [
       "array([[1., 1., 1., 1., 1., 1., 1., 1., 1., 1.],\n",
       "       [1., 0., 0., 0., 0., 0., 0., 0., 0., 1.],\n",
       "       [1., 0., 0., 0., 0., 0., 0., 0., 0., 1.],\n",
       "       [1., 0., 0., 0., 0., 0., 0., 0., 0., 1.],\n",
       "       [1., 0., 0., 0., 0., 0., 0., 0., 0., 1.],\n",
       "       [1., 0., 0., 0., 0., 0., 0., 0., 0., 1.],\n",
       "       [1., 0., 0., 0., 0., 0., 0., 0., 0., 1.],\n",
       "       [1., 0., 0., 0., 0., 0., 0., 0., 0., 1.],\n",
       "       [1., 0., 0., 0., 0., 0., 0., 0., 0., 1.],\n",
       "       [1., 1., 1., 1., 1., 1., 1., 1., 1., 1.]])"
      ]
     },
     "execution_count": 38,
     "metadata": {},
     "output_type": "execute_result"
    }
   ],
   "source": [
    "# 22. Create a 2d array with 1 on the border and 0 inside\n",
    "x=np.ones((10,10))\n",
    "x[1:-1,1:-1]=0\n",
    "x"
   ]
  },
  {
   "cell_type": "code",
   "execution_count": 78,
   "id": "0022695e",
   "metadata": {},
   "outputs": [
    {
     "data": {
      "text/plain": [
       "array([[1, 0, 0, 0],\n",
       "       [0, 2, 0, 0],\n",
       "       [0, 0, 3, 0],\n",
       "       [0, 0, 0, 4]])"
      ]
     },
     "execution_count": 78,
     "metadata": {},
     "output_type": "execute_result"
    }
   ],
   "source": [
    "# 23. Create a 5x5 matrix with values 1,2,3,4 just below the diagonal\n",
    "x=np.diag([1,2,3,4])\n",
    "x"
   ]
  },
  {
   "cell_type": "code",
   "execution_count": 46,
   "id": "d43753e2",
   "metadata": {},
   "outputs": [
    {
     "data": {
      "text/plain": [
       "array([[1., 0., 0., 0.],\n",
       "       [0., 1., 0., 0.],\n",
       "       [0., 0., 1., 0.],\n",
       "       [0., 0., 0., 1.]])"
      ]
     },
     "execution_count": 46,
     "metadata": {},
     "output_type": "execute_result"
    }
   ],
   "source": [
    "# 24. Create a 3x3 identity matrix\n",
    "x=np.identity(4)\n",
    "x"
   ]
  },
  {
   "cell_type": "code",
   "execution_count": 44,
   "id": "0a9064f4",
   "metadata": {},
   "outputs": [
    {
     "data": {
      "text/plain": [
       "array([[1., 0., 0.],\n",
       "       [0., 1., 0.],\n",
       "       [0., 0., 1.],\n",
       "       [0., 0., 0.]])"
      ]
     },
     "execution_count": 44,
     "metadata": {},
     "output_type": "execute_result"
    }
   ],
   "source": [
    "x=np.eye(4,3)\n",
    "x"
   ]
  },
  {
   "cell_type": "code",
   "execution_count": 84,
   "id": "8c46e722",
   "metadata": {},
   "outputs": [
    {
     "name": "stdout",
     "output_type": "stream",
     "text": [
      "checkbord pattern\n",
      "[[0 1 0 1 0 1 0 1]\n",
      " [1 0 1 0 1 0 1 0]\n",
      " [0 1 0 1 0 1 0 1]\n",
      " [1 0 1 0 1 0 1 0]\n",
      " [0 1 0 1 0 1 0 1]\n",
      " [1 0 1 0 1 0 1 0]\n",
      " [0 1 0 1 0 1 0 1]\n",
      " [1 0 1 0 1 0 1 0]]\n"
     ]
    }
   ],
   "source": [
    "# 25. Create a 8x8 matrix and fill it with a checkerboard pattern\n",
    "# [[0 1 0 1 0 1 0 1]\n",
    "# [1 0 1 0 1 0 1 0]\n",
    "# [0 1 0 1 0 1 0 1]\n",
    "# [1 0 1 0 1 0 1 0]\n",
    "# [0 1 0 1 0 1 0 1]\n",
    "# [1 0 1 0 1 0 1 0]\n",
    "# [0 1 0 1 0 1 0 1]\n",
    "# [1 0 1 0 1 0 1 0]]\n",
    "\n",
    "print(\"checkbord pattern\")\n",
    "x=np.zeros((8,8),dtype=int)\n",
    "x[1::2,::2]=1\n",
    "x[::2,1::2]=1\n",
    "print(x)\n"
   ]
  },
  {
   "cell_type": "code",
   "execution_count": 85,
   "id": "f6ea0308",
   "metadata": {},
   "outputs": [
    {
     "data": {
      "text/plain": [
       "array([[3., 3.],\n",
       "       [3., 3.],\n",
       "       [3., 3.],\n",
       "       [3., 3.],\n",
       "       [3., 3.]])"
      ]
     },
     "execution_count": 85,
     "metadata": {},
     "output_type": "execute_result"
    }
   ],
   "source": [
    "# 26. Multiply a 5x3 matrix by a 3x2 matrix (real matrix product)\n",
    "x=np.dot(np.ones((5,3)),np.ones((3,2)))\n",
    "x"
   ]
  },
  {
   "cell_type": "code",
   "execution_count": 87,
   "id": "205158ad",
   "metadata": {},
   "outputs": [
    {
     "name": "stdout",
     "output_type": "stream",
     "text": [
      "first array\n",
      "[[0.20766893 0.89450743 0.95034234]\n",
      " [0.10384368 0.37080263 0.13087364]\n",
      " [0.22801862 0.02290082 0.84700773]\n",
      " [0.05379616 0.13784517 0.13293753]\n",
      " [0.18287888 0.63070115 0.33848692]]\n",
      "\n",
      "second array\n",
      "[[0.68612749 0.46204713]\n",
      " [0.9130364  0.47837521]\n",
      " [0.31326638 0.5164363 ]]\n",
      "\n",
      "dot product array\n",
      "[[1.25691551 1.01465429]\n",
      " [0.45080462 0.29295136]\n",
      " [0.44269817 0.55373607]\n",
      " [0.20441354 0.15945184]\n",
      " [0.80736791 0.56101739]]\n"
     ]
    }
   ],
   "source": [
    "x=np.random.random((5,3))\n",
    "print(\"first array\")\n",
    "print(x)\n",
    "y=np.random.random((3,2))\n",
    "print(\"\\nsecond array\")\n",
    "print(y)\n",
    "z=np.dot(x,y)\n",
    "print(\"\\ndot product array\")\n",
    "print(z)"
   ]
  },
  {
   "cell_type": "code",
   "execution_count": 88,
   "id": "27ecbe22",
   "metadata": {},
   "outputs": [
    {
     "data": {
      "text/plain": [
       "array([ 0,  1,  2,  3, -4, -5, -6, -7, -8,  9, 10])"
      ]
     },
     "execution_count": 88,
     "metadata": {},
     "output_type": "execute_result"
    }
   ],
   "source": [
    "# 27.Given a 1D array, negate all elements which are between 3 and 8, in place\n",
    "x=np.arange(11)\n",
    "x[(3<x) & (x <=8)]*=-1\n",
    "x"
   ]
  },
  {
   "cell_type": "code",
   "execution_count": 94,
   "id": "4df0c40e",
   "metadata": {},
   "outputs": [
    {
     "name": "stdout",
     "output_type": "stream",
     "text": [
      "[32.11  51.5    0.112]\n",
      "[32. 52.  0.]\n"
     ]
    }
   ],
   "source": [
    "# 28. How to round away from zero a float array?\n",
    "x=np.array([32.11, 51.5, 0.112])\n",
    "print(x)\n",
    "result=np.round(x)\n",
    "print(result)"
   ]
  },
  {
   "cell_type": "code",
   "execution_count": 98,
   "id": "c9c8a15e",
   "metadata": {},
   "outputs": [
    {
     "name": "stdout",
     "output_type": "stream",
     "text": [
      "array1\n",
      "[10 20 30 40 50]\n",
      "array2\n",
      "[10 30 50 60 70]\n",
      "\n",
      "common value\n",
      "[10 30 50]\n"
     ]
    }
   ],
   "source": [
    "# 29. How to find common values between the two arrays?\n",
    "array1=np.array([10,20,30,40,50])\n",
    "print(\"array1\")\n",
    "print(array1)\n",
    "array2=np.array([10,30,50,60,70])\n",
    "print(\"array2\")\n",
    "print(array2)\n",
    "result=np.intersect1d(array1,array2)\n",
    "print(\"\\ncommon value\")\n",
    "print(result)"
   ]
  },
  {
   "cell_type": "code",
   "execution_count": 102,
   "id": "3b4762e6",
   "metadata": {},
   "outputs": [
    {
     "name": "stdout",
     "output_type": "stream",
     "text": [
      "[0.09090909 0.18181818 0.27272727 0.36363636 0.45454545 0.54545455\n",
      " 0.63636364 0.72727273 0.81818182 0.90909091]\n"
     ]
    }
   ],
   "source": [
    "# 30. Create a vector of size 10 with values ranging from 0 to 1, both excluded\n",
    "x=np.linspace(0,1,12,endpoint=True)[1:-1]\n",
    "print(x)"
   ]
  },
  {
   "cell_type": "code",
   "execution_count": 104,
   "id": "aca0263d",
   "metadata": {},
   "outputs": [
    {
     "name": "stdout",
     "output_type": "stream",
     "text": [
      "original array\n",
      "[0.73305183 0.74696123 0.17630667 0.52427284 0.86687175 0.18928023\n",
      " 0.59578169 0.54328942 0.42378203 0.01464964]\n",
      "\n",
      "sorted array\n",
      "[0.01464964 0.17630667 0.18928023 0.42378203 0.52427284 0.54328942\n",
      " 0.59578169 0.73305183 0.74696123 0.86687175]\n"
     ]
    }
   ],
   "source": [
    "# 31.  Create a random vector of size 10 and sort it\n",
    "x=np.random.random(10)\n",
    "print(\"original array\")\n",
    "print(x)\n",
    "x.sort()\n",
    "print(\"\\nsorted array\")\n",
    "print(x)"
   ]
  },
  {
   "cell_type": "code",
   "execution_count": 117,
   "id": "ef6b6641",
   "metadata": {},
   "outputs": [
    {
     "name": "stdout",
     "output_type": "stream",
     "text": [
      "original array\n",
      "[[0. 0. 0. 0. 0.]\n",
      " [0. 0. 0. 0. 0.]\n",
      " [0. 0. 0. 0. 0.]\n",
      " [0. 0. 0. 0. 0.]\n",
      " [0. 0. 0. 0. 0.]]\n",
      "\n",
      "result of row value\n",
      "[[0. 1. 2. 3. 4.]\n",
      " [0. 1. 2. 3. 4.]\n",
      " [0. 1. 2. 3. 4.]\n",
      " [0. 1. 2. 3. 4.]\n",
      " [0. 1. 2. 3. 4.]]\n"
     ]
    }
   ],
   "source": [
    "# 32. Create a 5x5 matrix with row values ranging from 0 to 4\n",
    "# [[0. 1. 2. 3. 4.]\n",
    "# [0. 1. 2. 3. 4.]\n",
    "# [0. 1. 2. 3. 4.]\n",
    "# [0. 1. 2. 3. 4.]\n",
    "# [0. 1. 2. 3. 4.]]\n",
    "x=np.zeros((5,5))\n",
    "print(\"original array\")\n",
    "print(x)\n",
    "x +=np.arange(5)\n",
    "print(\"\\nresult of row value\")\n",
    "\n",
    "print(x)"
   ]
  },
  {
   "cell_type": "code",
   "execution_count": 50,
   "id": "b0f0cdad",
   "metadata": {},
   "outputs": [
    {
     "name": "stdout",
     "output_type": "stream",
     "text": [
      "[0 0 0]\n",
      "[0 0 0]\n",
      "True\n"
     ]
    }
   ],
   "source": [
    "# 33.Consider two random arrays A and B, check if they are equal\n",
    "x=np.random.randint(0,1,3)\n",
    "print(x)\n",
    "y=np.random.randint(0,1,3)\n",
    "print(y)\n",
    "z=np.allclose(x,y)\n",
    "print(z)"
   ]
  },
  {
   "cell_type": "code",
   "execution_count": 128,
   "id": "19f5450e",
   "metadata": {},
   "outputs": [
    {
     "name": "stdout",
     "output_type": "stream",
     "text": [
      "original array\n",
      "[0.4921468  0.15298872 0.27687645 0.60727468 0.69379658 0.67586064\n",
      " 0.09881232 0.36786762 0.62186391 0.04396414]\n",
      "\n",
      "replace the maximum value by 0\n",
      "[0.4921468  0.15298872 0.27687645 0.60727468 0.         0.67586064\n",
      " 0.09881232 0.36786762 0.62186391 0.04396414]\n"
     ]
    }
   ],
   "source": [
    "# 34.Create a random vector of size 10 and replace the maximum value by 0\n",
    "x=np.random.random(10)\n",
    "print(\"original array\")\n",
    "print(x)\n",
    "x[x.argmax()]=0\n",
    "print(\"\\nreplace the maximum value by 0\")\n",
    "print(x)"
   ]
  },
  {
   "cell_type": "code",
   "execution_count": 188,
   "id": "531b5826",
   "metadata": {},
   "outputs": [
    {
     "name": "stdout",
     "output_type": "stream",
     "text": [
      "array\n",
      " [[1 3]\n",
      " [4 7]]\n",
      "(0, 0) 1\n",
      "(0, 1) 3\n",
      "(1, 0) 4\n",
      "(1, 1) 7\n"
     ]
    }
   ],
   "source": [
    "# 35. How to find out multiple indices of an item?\n",
    "array=np.random.randint(1,10,size=(2,2))\n",
    "print(\"array\\n\",array)\n",
    "for i,v in np.ndenumerate(array):\n",
    " print(i,v)"
   ]
  },
  {
   "cell_type": "code",
   "execution_count": 131,
   "id": "9ff529da",
   "metadata": {},
   "outputs": [
    {
     "name": "stdout",
     "output_type": "stream",
     "text": [
      "[20 30 40  5  1]\n",
      "(0,) 20\n",
      "(1,) 30\n",
      "(2,) 40\n",
      "(3,) 5\n",
      "(4,) 1\n"
     ]
    }
   ],
   "source": [
    "# 36. What is the equivalent of enumerate for NumPy arrays?\n",
    "x=np.array([20,30,40,5,1])\n",
    "print(x)\n",
    "for i,v in np.ndenumerate(x):\n",
    "    print(i,v)\n"
   ]
  },
  {
   "cell_type": "code",
   "execution_count": 164,
   "id": "ec080385",
   "metadata": {},
   "outputs": [
    {
     "name": "stdout",
     "output_type": "stream",
     "text": [
      "[[9 2 3]\n",
      " [4 5 6]\n",
      " [7 0 5]]\n",
      "\n",
      "sort column\n",
      "[[2 3 9]\n",
      " [4 5 6]\n",
      " [0 5 7]]\n"
     ]
    }
   ],
   "source": [
    "# 37.  How to sort an array by the nth column?\n",
    "x=np.array([[9,2,3],[4,5,6],[7,0,5]])\n",
    "print(x)\n",
    "result=np.sort(x,axis=1)\n",
    "print(\"\\nsort column\")\n",
    "print(result)"
   ]
  },
  {
   "cell_type": "code",
   "execution_count": 148,
   "id": "0011571a",
   "metadata": {},
   "outputs": [
    {
     "name": "stdout",
     "output_type": "stream",
     "text": [
      "[[4 3 1]\n",
      " [5 7 0]\n",
      " [9 9 3]\n",
      " [8 2 4]]\n",
      "\n",
      "swap two rows of an array\n",
      "[[5 7 0]\n",
      " [4 3 1]\n",
      " [9 9 3]\n",
      " [8 2 4]]\n"
     ]
    }
   ],
   "source": [
    "# 38. How to swap two rows of an array?\n",
    "a = np.array([[4,3, 1],[5 ,7, 0],[9, 9, 3],[8, 2, 4]]) \n",
    "print(a)\n",
    "a[[0, 1]] = a[[1, 0]]\n",
    "print(\"\\nswap two rows of an array\")\n",
    "print(a)\n"
   ]
  },
  {
   "cell_type": "code",
   "execution_count": 154,
   "id": "f1a860bf",
   "metadata": {},
   "outputs": [
    {
     "name": "stdout",
     "output_type": "stream",
     "text": [
      "[[2 4]\n",
      " [3 5]]\n",
      "mean of numpy array\n",
      "3.5\n",
      "\n",
      "mean of axis 0\n",
      "[2.5 4.5]\n",
      "\n",
      "mean of axis 1\n",
      "[3. 4.]\n"
     ]
    }
   ],
   "source": [
    "# 39.  How to compute the mean of a NumPy array?\n",
    "x=np.array([[2,4],[3,5]])\n",
    "print(x)\n",
    "print(\"mean of numpy array\")\n",
    "print(np.mean(x))\n",
    "\n",
    "a=np.mean(x,axis=0)\n",
    "print(\"\\nmean of axis 0\")\n",
    "print(a)\n",
    "b=np.mean(x,axis=1)\n",
    "print(\"\\nmean of axis 1\")\n",
    "print(b)"
   ]
  },
  {
   "cell_type": "code",
   "execution_count": 158,
   "id": "31a8861a",
   "metadata": {},
   "outputs": [
    {
     "name": "stdout",
     "output_type": "stream",
     "text": [
      "[[2 5]\n",
      " [6 7]]\n",
      "median of numpy array\n",
      "5.5\n",
      "\n",
      "median of axis of 0\n",
      "[4. 6.]\n",
      "\n",
      "median of axis of 1\n",
      "[3.5 6.5]\n"
     ]
    }
   ],
   "source": [
    "# 40.How to compute the median of a NumPy array?\n",
    "x=np.array([[2,5],[6,7]])\n",
    "print(x)\n",
    "print(\"median of numpy array\")\n",
    "print(np.median(x))\n",
    "y=np.median(x,axis=0)\n",
    "print(\"\\nmedian of axis of 0\")\n",
    "print(y)\n",
    "z=np.median(x,axis=1)\n",
    "print(\"\\nmedian of axis of 1\")\n",
    "print(z)"
   ]
  },
  {
   "cell_type": "code",
   "execution_count": 167,
   "id": "019f9b84",
   "metadata": {},
   "outputs": [
    {
     "name": "stdout",
     "output_type": "stream",
     "text": [
      "[[4 3 1]\n",
      " [5 7 0]\n",
      " [9 9 3]\n",
      " [8 2 4]]\n",
      "2.92854723180093\n"
     ]
    }
   ],
   "source": [
    "# 41. How to compute the standard deviation of a NumPy array?\n",
    "a = np.array([[4,3, 1],[5 ,7, 0],[9, 9, 3],[8, 2, 4]]) \n",
    "print(a)\n",
    "result=np.std(a)\n",
    "print(result)\n"
   ]
  },
  {
   "cell_type": "code",
   "execution_count": 172,
   "id": "bd309610",
   "metadata": {},
   "outputs": [
    {
     "name": "stdout",
     "output_type": "stream",
     "text": [
      "[2 3 4 5 6 5 2 3 5 5 1 5 5 7 8]\n",
      "ModeResult(mode=array([5]), count=array([6]))\n"
     ]
    }
   ],
   "source": [
    "# 42. How to compute the mode of a NumPy array?\n",
    "from scipy.stats import mode\n",
    "array1 = np.array([2,3,4,5,6,5,2,3,5,5,1,5,5,7,8])\n",
    "print(array1)\n",
    "mode = mode(array1)\n",
    "print(mode)"
   ]
  },
  {
   "cell_type": "code",
   "execution_count": 52,
   "id": "0a356f6b",
   "metadata": {},
   "outputs": [
    {
     "name": "stdout",
     "output_type": "stream",
     "text": [
      "[[0.52825894 0.46632905]\n",
      " [0.03501464 0.25005945]]\n",
      "\n",
      "three decimal places value\n",
      "[[0.528 0.466]\n",
      " [0.035 0.25 ]]\n"
     ]
    }
   ],
   "source": [
    "# 43. How to print only 3 decimal places in a python NumPy array?\n",
    "\n",
    "x=np.random.rand(2,2)\n",
    "print(x)\n",
    "print(\"\\nthree decimal places value\")\n",
    "print(np.around(x,3))"
   ]
  },
  {
   "cell_type": "code",
   "execution_count": 180,
   "id": "b2a1c054",
   "metadata": {},
   "outputs": [
    {
     "name": "stdout",
     "output_type": "stream",
     "text": [
      "[[[1 2]\n",
      "  [3 4]]]\n",
      "\n",
      "inverse of given matrix\n",
      "[[[-2.   1. ]\n",
      "  [ 1.5 -0.5]]]\n"
     ]
    }
   ],
   "source": [
    "# 44. Write a NumPy program to compute the inverse of a given matrix\n",
    "a = np.array([[[1,2],[3,4]]]) \n",
    "print(a)\n",
    "result=np.linalg.inv(a)\n",
    "print(\"\\ninverse of given matrix\")\n",
    "print(result)"
   ]
  },
  {
   "cell_type": "code",
   "execution_count": 181,
   "id": "d785dab4",
   "metadata": {},
   "outputs": [
    {
     "name": "stdout",
     "output_type": "stream",
     "text": [
      "\n",
      "Original array1:\n",
      "[0 1 2]\n",
      "\n",
      "Original array1:\n",
      "[2 1 0]\n",
      "\n",
      "Covariance matrix of the said arrays:\n",
      " [[ 1. -1.]\n",
      " [-1.  1.]]\n"
     ]
    }
   ],
   "source": [
    "# 45.. Write a NumPy program to compute the covariance matrix of two given arrays\n",
    "x = np.array([0, 1, 2])\n",
    "y = np.array([2, 1, 0])\n",
    "print(\"\\nOriginal array1:\")\n",
    "print(x)\n",
    "print(\"\\nOriginal array1:\")\n",
    "print(y)\n",
    "print(\"\\nCovariance matrix of the said arrays:\\n\",np.cov(x, y))"
   ]
  },
  {
   "cell_type": "code",
   "execution_count": 183,
   "id": "63094dd9",
   "metadata": {},
   "outputs": [
    {
     "name": "stdout",
     "output_type": "stream",
     "text": [
      "Original array:\n",
      "[0 3 2 6 1 5 1 4 5 7 1 3 9 1 3 0 5 7 0 8 1 9 6 5 7 8 2 9 4 9]\n",
      "Most frequent value in the above array:\n",
      "1\n"
     ]
    }
   ],
   "source": [
    "# 46. How to find the most frequent value in a NumPy array?\n",
    "x = np.random.randint(0, 10, 30)\n",
    "print(\"Original array:\")\n",
    "print(x)\n",
    "print(\"Most frequent value in the above array:\")\n",
    "print(np.bincount(x).argmax())"
   ]
  },
  {
   "cell_type": "code",
   "execution_count": 184,
   "id": "b03589a2",
   "metadata": {},
   "outputs": [
    {
     "name": "stdout",
     "output_type": "stream",
     "text": [
      "3D Numpy array:\n",
      "[[[ 1  2  3]\n",
      "  [ 4  5  6]]\n",
      "\n",
      " [[ 7  8  9]\n",
      "  [10 11 12]]]\n"
     ]
    }
   ],
   "source": [
    "# 47. How to convert 1D array to 3D array?\n",
    "arr = np.array([1, 2, 3, 4, 5, 6, 7, 8, 9, 10, 11, 12])\n",
    "arr_3d = np.reshape(arr, (2, 2, 3))\n",
    "print('3D Numpy array:')\n",
    "print(arr_3d)"
   ]
  },
  {
   "cell_type": "code",
   "execution_count": 53,
   "id": "800394fe",
   "metadata": {},
   "outputs": [
    {
     "name": "stdout",
     "output_type": "stream",
     "text": [
      "array [[[[12 17]\n",
      "   [16 16]\n",
      "   [17 14]]\n",
      "\n",
      "  [[15 17]\n",
      "   [14 18]\n",
      "   [17 11]]\n",
      "\n",
      "  [[18 14]\n",
      "   [17 16]\n",
      "   [18 14]]]\n",
      "\n",
      "\n",
      " [[[11 16]\n",
      "   [10 19]\n",
      "   [11 12]]\n",
      "\n",
      "  [[19 10]\n",
      "   [14 12]\n",
      "   [12 16]]\n",
      "\n",
      "  [[17 11]\n",
      "   [11 15]\n",
      "   [13 15]]]\n",
      "\n",
      "\n",
      " [[[19 10]\n",
      "   [11 13]\n",
      "   [14 15]]\n",
      "\n",
      "  [[11 15]\n",
      "   [13 12]\n",
      "   [19 16]]\n",
      "\n",
      "  [[12 17]\n",
      "   [10 14]\n",
      "   [13 10]]]]\n"
     ]
    },
    {
     "ename": "ValueError",
     "evalue": "cannot reshape array of size 54 into shape (4,6)",
     "output_type": "error",
     "traceback": [
      "\u001b[1;31m---------------------------------------------------------------------------\u001b[0m",
      "\u001b[1;31mValueError\u001b[0m                                Traceback (most recent call last)",
      "Input \u001b[1;32mIn [53]\u001b[0m, in \u001b[0;36m<cell line: 4>\u001b[1;34m()\u001b[0m\n\u001b[0;32m      2\u001b[0m arr\u001b[38;5;241m=\u001b[39mnp\u001b[38;5;241m.\u001b[39mrandom\u001b[38;5;241m.\u001b[39mrandint(\u001b[38;5;241m10\u001b[39m,\u001b[38;5;241m20\u001b[39m,size\u001b[38;5;241m=\u001b[39m(\u001b[38;5;241m3\u001b[39m,\u001b[38;5;241m3\u001b[39m,\u001b[38;5;241m3\u001b[39m,\u001b[38;5;241m2\u001b[39m),dtype\u001b[38;5;241m=\u001b[39m\u001b[38;5;28mint\u001b[39m)\n\u001b[0;32m      3\u001b[0m \u001b[38;5;28mprint\u001b[39m(\u001b[38;5;124m\"\u001b[39m\u001b[38;5;124marray\u001b[39m\u001b[38;5;124m\"\u001b[39m,arr)\n\u001b[1;32m----> 4\u001b[0m arr \u001b[38;5;241m=\u001b[39m\u001b[43marr\u001b[49m\u001b[38;5;241;43m.\u001b[39;49m\u001b[43mreshape\u001b[49m\u001b[43m(\u001b[49m\u001b[38;5;241;43m4\u001b[39;49m\u001b[43m,\u001b[49m\u001b[38;5;241;43m6\u001b[39;49m\u001b[43m)\u001b[49m\n\u001b[0;32m      5\u001b[0m \u001b[38;5;28mprint\u001b[39m(\u001b[38;5;124m\"\u001b[39m\u001b[38;5;130;01m\\n\u001b[39;00m\u001b[38;5;124mconverted 2D array\u001b[39m\u001b[38;5;130;01m\\n\u001b[39;00m\u001b[38;5;124m\"\u001b[39m,arr)\n",
      "\u001b[1;31mValueError\u001b[0m: cannot reshape array of size 54 into shape (4,6)"
     ]
    }
   ],
   "source": [
    "# 48. How to convert 4D array to 2D array?\n",
    "arr=np.random.randint(10,20,size=(2,2,3,2),dtype=int)\n",
    "print(\"array\",arr)\n",
    "arr =arr.reshape(4,6)\n",
    "print(\"\\nconverted 2D array\\n\",arr) "
   ]
  },
  {
   "cell_type": "code",
   "execution_count": 186,
   "id": "e08db34a",
   "metadata": {},
   "outputs": [
    {
     "name": "stdout",
     "output_type": "stream",
     "text": [
      "[[0. 0. 0. 0. 0. 0. 0. 0.]\n",
      " [0. 0. 0. 0. 0. 0. 0. 0.]\n",
      " [0. 0. 0. 0. 0. 0. 0. 0.]\n",
      " [0. 0. 0. 0. 0. 0. 0. 0.]]\n"
     ]
    }
   ],
   "source": [
    "# 49. Create a Numpy array filled with all zeros\n",
    "arr1=np.zeros([4,8])\n",
    "print(arr1)"
   ]
  },
  {
   "cell_type": "code",
   "execution_count": 187,
   "id": "09b3b794",
   "metadata": {},
   "outputs": [
    {
     "name": "stdout",
     "output_type": "stream",
     "text": [
      "array : \n",
      " [[1 2 3 4 4]\n",
      " [3 4 5 7 8]\n",
      " [8 7 4 3 1]]\n",
      "Number of rows :  3\n",
      "Number of column :  5\n"
     ]
    }
   ],
   "source": [
    "# 50. Find the number of rows and columns of a given matrix using NumPy\n",
    "arr1=np.array([[1,2,3,4,4],[3,4,5,7,8],[8,7,4,3,1]])\n",
    "print(\"array : \\n\",arr1)\n",
    "print(\"Number of rows : \",arr1.shape[0])\n",
    "print(\"Number of column : \",arr1.shape[1])"
   ]
  }
 ],
 "metadata": {
  "kernelspec": {
   "display_name": "Python 3 (ipykernel)",
   "language": "python",
   "name": "python3"
  },
  "language_info": {
   "codemirror_mode": {
    "name": "ipython",
    "version": 3
   },
   "file_extension": ".py",
   "mimetype": "text/x-python",
   "name": "python",
   "nbconvert_exporter": "python",
   "pygments_lexer": "ipython3",
   "version": "3.9.12"
  }
 },
 "nbformat": 4,
 "nbformat_minor": 5
}
