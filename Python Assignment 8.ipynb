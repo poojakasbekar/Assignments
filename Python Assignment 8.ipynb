{
 "cells": [
  {
   "cell_type": "markdown",
   "id": "5ea13be7",
   "metadata": {},
   "source": [
    "### Assignment no 8\n",
    "using Object-Oriented Programming"
   ]
  },
  {
   "cell_type": "markdown",
   "id": "3025e4c3",
   "metadata": {},
   "source": [
    "###  1.What Is Object-Oriented Programming?\n",
    "The word object-oriented is the made up of two words object and oriented. object i\n",
    "s an entity that exists in the real world. The meaning of oriented is interested i\n",
    "n a particular kind of thing or entity.\n",
    "Object Oriented Programming(OOP) consist of object and classes and revolves around\n",
    "object.\n",
    "An object is an entity that has unique attributes and behavior. OOP is the most po\n",
    "pular programming model among developers. It is well suited for programs that are\n",
    "large, complex, and actively updated or maintained. It simplifies software develo\n",
    "pment and maintenance by providing major concepts such as abstraction, inheritanc\n",
    "e, polymorphism, and encapsulation.\n",
    "some of the features of OOP are:\n",
    " 1. Provides a clear program structure and a clean code\n",
    " 2. Facilitates easy maintenance and modification of existing code.\n",
    " 3. Faster and cheaper, efficient developement.\n",
    " 4. Since the class is sharable, the code can be reused and many other such Adv\n",
    "antages."
   ]
  },
  {
   "cell_type": "markdown",
   "id": "0c3658a3",
   "metadata": {},
   "source": [
    "### 2.Difference between Procedural programming and OOPs?\n",
    "-      Procedural programming:\n",
    "1. In procedural programming, the program is \n",
    "divided into small parts called functions.\n",
    "2.Procedural programming follows a top-down approach.\n",
    "3.There is no access specifier in procedural programming.\n",
    "4.Adding new data and functions is not easy.\n",
    "5.Procedural programming does not have any proper way of hiding data so it is less secure.\n",
    "6.In procedural programming, overloading is not possible.\n",
    "7.In procedural programming, there is no concept of data hiding and inheritance.\n",
    "8.In procedural programming, the function is more important than the data.\n",
    "9.Procedural programming is based on the unreal world.\n",
    "10.Procedural programming is used for designing medium-sized programs.\n",
    "11.Procedural programming uses the concept of procedure abstraction.\n",
    "12.Code reusability absent in procedural programming,\n",
    "   Examples: C, FORTRAN, Pascal, Basic, etc.\n",
    "\n",
    "-   Object Oriented Programming:\n",
    "1. In object-oriented programming, the program is divided into small parts called objects.\n",
    "2. Object-oriented programming follows a bottom-up approach.\n",
    "3. Object-oriented programming has access specifiers like private, public, protected, etc.\n",
    "4. Adding new data and function is easy.\n",
    "5. Object-oriented programming provides data hiding so it is more secure.\n",
    "6. Overloading is possible in object-oriented programming.\n",
    "7. In object-oriented programming, the concept of data hiding and inheritance is used.\n",
    "8. In object-oriented programming, data is more important than function.\n",
    "9. Object-oriented programming is based on the real world.\n",
    "10. Object-oriented programming is used for designing large and complex programs\n",
    "11. Object-oriented programming uses the concept of data abstraction.\n",
    "12. Code reusability present in object-oriented programming.\n",
    "   Examples: C++, Java, Python, C#, etc.\n"
   ]
  },
  {
   "cell_type": "markdown",
   "id": "e85e7281",
   "metadata": {},
   "source": [
    "### 3.What are the fundamental principles/features of Object-Oriented Programming \n",
    " * Class\n",
    " * Object\n",
    " * Method\n",
    " * Inheritance\n",
    " * Polymorphism\n",
    " * Data Abstraction\n",
    " * Encapsulation"
   ]
  },
  {
   "cell_type": "markdown",
   "id": "4416ff8c",
   "metadata": {},
   "source": [
    "### 4.What is an object?\n",
    "Object is a real word enity that has unique attributes and behaviour. It actual\n",
    "ly exist such as TV, chair, table, employee, student etc. In python, evrything is\n",
    "an object. When we create a vaiable which holdes integer value, that variable is\n",
    "also an object of int class(built-in python class). The list is also a obect that\n",
    "holdes other objects and belongs to list class.\n",
    " When we define a class, it needs to create an object to allocate the memory.\n"
   ]
  },
  {
   "cell_type": "markdown",
   "id": "0d392e0e",
   "metadata": {},
   "source": [
    "### 5.What is a class?\n",
    "A class is a collection of objects. A class contains the blueprints or the prot\n",
    "otype from which the objects are being created. It is a logical entity that contai\n",
    "ns some attributes and methods.\n",
    " We will se the example of class and object now:"
   ]
  },
  {
   "cell_type": "code",
   "execution_count": 7,
   "id": "85018cb0",
   "metadata": {},
   "outputs": [
    {
     "name": "stdout",
     "output_type": "stream",
     "text": [
      "We are in INIT Method\n",
      "We are in Mymethod1\n",
      "Class_var1: python\n",
      "Class Var2 : Data science\n",
      "a >>  20\n",
      "Self.add :  50\n",
      "We are in Mymethod1\n",
      "Class_var1: python\n"
     ]
    }
   ],
   "source": [
    "var1 = 100                        # Global variable\n",
    "\n",
    "class ClassName():                # ClassName\n",
    "    class_var1 = \"python\"         # class variable\n",
    "    class_var2 = \"Data science\"   # class variable\n",
    "    \n",
    "    def __init__(self, x1, x2, x3, x4):  # Automatically excutes while creating an object\n",
    "        print(\"We are in INIT Method\")\n",
    "        \n",
    "        \n",
    "    def my_method1(self):                 # Method\n",
    "        print(\"We are in Mymethod1\")\n",
    "        print(\"Class_var1:\", self.class_var1)\n",
    "        x = 50                           # local variable\n",
    "        \n",
    "        self.a = 20                      # instance variable\n",
    "        self.b = 30                      # instance variable\n",
    "        self.add = self.a + self.b       # instance variable\n",
    "        \n",
    "        \n",
    "    def my_method2(self):               # Method\n",
    "        print(\"Class Var2 :\", self.class_var2)\n",
    "        print(\"a >> \", self.a)\n",
    "        print(\"Self.add : \", self.add)\n",
    "        self.my_method1()\n",
    "obj1=ClassName(10,20,30,40)\n",
    "obj1.my_method1()\n",
    "obj1.my_method2()\n"
   ]
  },
  {
   "cell_type": "markdown",
   "id": "af236f2a",
   "metadata": {},
   "source": [
    "### 6.What is the difference between a class and an object?"
   ]
  },
  {
   "cell_type": "markdown",
   "id": "d813f014",
   "metadata": {},
   "source": [
    "### Class is template and can be used to create multiple objets with diffrent \n",
    "attributes. Object is an instance of class \n",
    "There is no memory allocation when we create a class but it happens when we create\n",
    "abject of a class. \n",
    "Class is created only one time where as object are created as we need them to use.\n",
    "Class is declared using 'class' keyword and object is created by calling class wit\n",
    "h attributes if any. \n",
    "Class is logical entity and object is physical entity \n",
    "example: As above Car is class. hyundai_i20, tata_tiago, hyundai_creta can be \n",
    "objects of class car."
   ]
  },
  {
   "cell_type": "markdown",
   "id": "231325a1",
   "metadata": {},
   "source": [
    "### 7.Can you call the base class method without creating an instance?\n",
    "yes"
   ]
  },
  {
   "cell_type": "code",
   "execution_count": 4,
   "id": "b1ea10c6",
   "metadata": {},
   "outputs": [
    {
     "name": "stdout",
     "output_type": "stream",
     "text": [
      "*playing music*\n"
     ]
    }
   ],
   "source": [
    "class Music:\n",
    "    @staticmethod\n",
    "    def play():\n",
    "        print(\"*playing music*\")\n",
    "\n",
    "Music.play()"
   ]
  },
  {
   "cell_type": "markdown",
   "id": "166c8363",
   "metadata": {},
   "source": [
    "### Static method can be called without creating an object or instance. \n",
    "Simply create the method and call it directly.\n",
    "This is in a sense orthogonal to object orientated programming: we call a method without creating objects."
   ]
  },
  {
   "cell_type": "markdown",
   "id": "40ae2426",
   "metadata": {},
   "source": [
    "### 8. What is inheritance?\n",
    "Inheritance is a feature of OOP in python which allows one class to inherits properties of other class"
   ]
  },
  {
   "cell_type": "code",
   "execution_count": 6,
   "id": "abe0815a",
   "metadata": {},
   "outputs": [
    {
     "name": "stdout",
     "output_type": "stream",
     "text": [
      "\n",
      " Student name :  Pooja\n",
      "\n",
      " Student batch name :  evenng 20 aug 22 Python and DS\n",
      "\n",
      " Class location :  Pune\n"
     ]
    }
   ],
   "source": [
    "class Velocity:\n",
    "    def __init__(self,location):\n",
    "        self.location = location\n",
    " \n",
    "    def get_location(self):\n",
    "        return f'Location is {self.location}'\n",
    " \n",
    " \n",
    "class Student(Velocity): # Student is derived class from base class Velocity\n",
    "    def __init__(self,name, batch_name,location):\n",
    "        Velocity.__init__(self,location)\n",
    "        self.name = name\n",
    "        self.batch_name = batch_name\n",
    " \n",
    "    def get_details(self):\n",
    "        print('\\n Student name : ',self.name)\n",
    "        print('\\n Student batch name : ',self.batch_name)\n",
    "        print('\\n Class location : ',self.location)\n",
    " \n",
    "s = Student('Pooja','evenng 20 aug 22 Python and DS', 'Pune') \n",
    "s.get_details()"
   ]
  },
  {
   "cell_type": "markdown",
   "id": "e6523847",
   "metadata": {},
   "source": [
    "### 9. What are the different types of inheritance?\n",
    "- Single Inheritance:-\n",
    "  This allows single derived class to inherit properties of single base class\n",
    "- Multiple inheritance:-\n",
    "  This allows single derived class to inherit the properties from multiple base classes\n",
    "- Multilevel inheritance:-\n",
    "  The properties that are part of the base class, as well as the class that is \n",
    "  derived from it, are passed on to the new class. It is similar to a relationship\n",
    "  involving grandparents and children.\n",
    "- Hierarchical inheritance:-\n",
    "  Inheritance where we have single base class and multiple derived classes is\n",
    "  called as hirarchical inheritance.\n",
    "- Hybrid inheritance:-\n",
    "  This includes all types of inheritances in it."
   ]
  },
  {
   "cell_type": "markdown",
   "id": "487c79e8",
   "metadata": {},
   "source": [
    "### 10.What is the difference between multiple and multilevel inheritances?\n",
    "Multiple inheritance allows single derived class to inherit the properties from\n",
    "multiple base classes where as in Multilevel inheritance the properties that are\n",
    "part of the base class, as well as the class that is derived from it, are passed \n",
    "on to the new class. It is similar to a relationship involving grandparents and \n",
    "children."
   ]
  },
  {
   "cell_type": "code",
   "execution_count": 3,
   "id": "a32ee775",
   "metadata": {},
   "outputs": [
    {
     "name": "stdout",
     "output_type": "stream",
     "text": [
      "This is method1 of Base class\n",
      "This is method2 of Derived class\n"
     ]
    }
   ],
   "source": [
    "# multiple inheritanc\n",
    "class Base:\n",
    "    def method1(self):\n",
    "        print('This is method1 of Base class')\n",
    " \n",
    "class Derived(Base):\n",
    "    def method2(self):\n",
    "        print('This is method2 of Derived class')\n",
    " \n",
    "d = Derived()\n",
    "d.method1()\n",
    "d.method2()\n"
   ]
  },
  {
   "cell_type": "code",
   "execution_count": 5,
   "id": "e4806fa1",
   "metadata": {},
   "outputs": [
    {
     "name": "stdout",
     "output_type": "stream",
     "text": [
      "This is method3 of New class\n",
      "This is method2 of Derived class\n",
      "This is method1 of Base class\n"
     ]
    }
   ],
   "source": [
    "# multilevel inheritance\n",
    "\n",
    "class Base:\n",
    "    def method1(self):\n",
    "        print('This is method1 of Base class')\n",
    " \n",
    "class Derived(Base):\n",
    "    def method2(self):\n",
    "        print('This is method2 of Derived class')\n",
    " \n",
    "class New(Derived):\n",
    "    def method3(self):\n",
    "        print('This is method3 of New class')\n",
    " \n",
    "n = New()\n",
    "n.method3()\n",
    "n.method2()\n",
    "n.method1()\n"
   ]
  },
  {
   "cell_type": "markdown",
   "id": "ae27420a",
   "metadata": {},
   "source": [
    "### 11. What are the limitations of inheritance?\n",
    "Decreases the Execution Speed: loading multiple classes because they are \n",
    "interdependent on each other.\n",
    "Tightly Coupled Classes: this means that even though parent classes can be executed\n",
    "independently, child classes cannot be executed without defining their parent classes.\n"
   ]
  },
  {
   "cell_type": "markdown",
   "id": "90d0c78e",
   "metadata": {},
   "source": [
    "### 12. What are the superclass and subclass?\n",
    "Superclass is nothing but base class or parent class from which other classes can\n",
    "inherit the properties. Subclass is also called as derived class or child class \n",
    "which inherits properties of superclass."
   ]
  },
  {
   "cell_type": "markdown",
   "id": "f13c7074",
   "metadata": {},
   "source": [
    "### 13.What is the super keyword?\n",
    "The super keyword refers to superclass (parent) objects.It is used to call superclass methods,and to access the superclass\n",
    "constructor.The most common use of the super keyword is to eliminate the confusion between superclasses and subclasses that have methods with the same name.\n"
   ]
  },
  {
   "cell_type": "markdown",
   "id": "973f7098",
   "metadata": {},
   "source": [
    "### 14. What is encapsulation?\n",
    "Encapsulation is one of the fundamental concepts in object-oriented programming (OOP). \n",
    "It describes the idea of wrapping data and the methods that work on data with\n",
    "in one unit. This puts restrictions on accessing variables and methods directly and\n",
    "prevents data modification accidentally. An object's method can change a variable's\n",
    "value to prevent accidental changes. These variables are called private variables.\n",
    "A class is an example of encapsulation as it encapsulates all the data that is member\n",
    "functions, variables, etc.\n",
    "\n",
    "\n"
   ]
  },
  {
   "cell_type": "markdown",
   "id": "c768a687",
   "metadata": {},
   "source": [
    "### 15. What is the name mangling and how does it work?\n",
    "Python's private and secured members can be accessed from outside the class using\n",
    "Python name mangling.\n"
   ]
  },
  {
   "cell_type": "code",
   "execution_count": 7,
   "id": "84afea54",
   "metadata": {},
   "outputs": [
    {
     "ename": "AttributeError",
     "evalue": "'Base' object has no attribute '__b'",
     "output_type": "error",
     "traceback": [
      "\u001b[1;31m---------------------------------------------------------------------------\u001b[0m",
      "\u001b[1;31mAttributeError\u001b[0m                            Traceback (most recent call last)",
      "Input \u001b[1;32mIn [7]\u001b[0m, in \u001b[0;36m<cell line: 6>\u001b[1;34m()\u001b[0m\n\u001b[0;32m      4\u001b[0m      \u001b[38;5;28mself\u001b[39m\u001b[38;5;241m.\u001b[39m__b \u001b[38;5;241m=\u001b[39m \u001b[38;5;124m\"\u001b[39m\u001b[38;5;124mMachine learning\u001b[39m\u001b[38;5;124m\"\u001b[39m \n\u001b[0;32m      5\u001b[0m base \u001b[38;5;241m=\u001b[39m Base() \n\u001b[1;32m----> 6\u001b[0m \u001b[43mbase\u001b[49m\u001b[38;5;241;43m.\u001b[39;49m\u001b[43m__b\u001b[49m\n",
      "\u001b[1;31mAttributeError\u001b[0m: 'Base' object has no attribute '__b'"
     ]
    }
   ],
   "source": [
    "class Base: \n",
    " def __init__(self): \n",
    "     self.a = \"Python\" \n",
    "     self.__b = \"Machine learning\" \n",
    "base = Base() \n",
    "base.__b #if we try to access private member of class outside the class, it will throw"
   ]
  },
  {
   "cell_type": "code",
   "execution_count": 8,
   "id": "231bbdd0",
   "metadata": {},
   "outputs": [
    {
     "data": {
      "text/plain": [
       "'Machine learning'"
      ]
     },
     "execution_count": 8,
     "metadata": {},
     "output_type": "execute_result"
    }
   ],
   "source": [
    "base._Base__b # we have to use 'object_name._ClassName__variablename' to aceess private variables"
   ]
  },
  {
   "cell_type": "markdown",
   "id": "033d3931",
   "metadata": {},
   "source": [
    "### 16. What is the difference between public and private access modifiers?\n",
    "The access modifiers in Python are used to modify the default scope of variables.\n",
    "Variables with the public access modifiers can be accessed anywhere inside or out\n",
    "side the class, the private variables can only be accessed inside the class.\n",
    "To create a private variable, you need to prefix double underscores with the name\n",
    "of the variable. For public variables, you do not have to add any prefixes at all."
   ]
  },
  {
   "cell_type": "markdown",
   "id": "8967c9b2",
   "metadata": {},
   "source": [
    "### 17.  Is Python 100 percent object-oriented?\n",
    "No, Python is not 100% object-oriented. I feel, we can do python programming even\n",
    "without using OOPS cocepts. Encapsulation is one of the most important concept of\n",
    "OOPS but it is not fully supported by Python. Encapsulation means restricting acce\n",
    "ss to the private variables and methods of class but, as we studied we can still a\n",
    "ccess the private methods and variables of the class using \"name mangling method\".\n",
    "Python is not strictly OOP language but very dynamic language with large number of\n",
    "libraries and can be used in any environment as per requirement."
   ]
  },
  {
   "cell_type": "markdown",
   "id": "353b0386",
   "metadata": {},
   "source": [
    "### 18.What is data abstraction?\n",
    "Abstraction is used to hide the internal functionality of the function from the users.\n",
    "The users only interact with the basic implementation of the function, but inner\n",
    "working is hidden. User is familiar with that \"what function does\" but they don't \n",
    "know \"how it does.\"\n",
    "for example, we all use the smartphone and very much familiar with its functions \n",
    "such as camera, voice-recorder, call-dialing, etc., but we don't know how these \n",
    "operations are happening in the background. \n",
    "In Python, abstraction can be achieved by using abstract classes and interfaces. A\n",
    "class that consists of one or more abstract method is called the abstract class. A\n",
    "bstract methods do not contain their implementation. Abstract class can be inherited\n",
    "by the subclass and abstract method gets its definition in the subclass. Abstraction\n",
    "classes are meant to be the blueprint of the other class. An abstract class\n",
    "can be useful when we are designing large functions. An abstract class is also helpful\n",
    "to provide the standard interface for different implementations of components.\n",
    "Python provides the abc module to use the abstraction in the Python program.\n"
   ]
  },
  {
   "cell_type": "markdown",
   "id": "78dcc726",
   "metadata": {},
   "source": [
    "### 19. How to achieve data abstraction?\n",
    "Data Abstraction in Python can be achieved through creating abstract classes and inheriting them later. "
   ]
  },
  {
   "cell_type": "markdown",
   "id": "a8f7c607",
   "metadata": {},
   "source": [
    "### 20. What is an abstract class?\n",
    "Classes that cannot be instantiated are called as abstrat classes. We cannot create \n",
    "objects of an abstract class and these are only meant to be inherited. Then an object\n",
    "of the derived class is used to access the features of the base class."
   ]
  },
  {
   "cell_type": "code",
   "execution_count": 14,
   "id": "064240b7",
   "metadata": {},
   "outputs": [
    {
     "ename": "TypeError",
     "evalue": "Can't instantiate abstract class Car with abstract method get_mileage",
     "output_type": "error",
     "traceback": [
      "\u001b[1;31m---------------------------------------------------------------------------\u001b[0m",
      "\u001b[1;31mTypeError\u001b[0m                                 Traceback (most recent call last)",
      "Input \u001b[1;32mIn [14]\u001b[0m, in \u001b[0;36m<cell line: 9>\u001b[1;34m()\u001b[0m\n\u001b[0;32m      5\u001b[0m  \u001b[38;5;129m@abstractmethod\u001b[39m\n\u001b[0;32m      6\u001b[0m  \u001b[38;5;28;01mdef\u001b[39;00m \u001b[38;5;21mget_mileage\u001b[39m(\u001b[38;5;28mself\u001b[39m): \u001b[38;5;66;03m# this method is never executed\u001b[39;00m\n\u001b[0;32m      7\u001b[0m     \u001b[38;5;28;01mpass\u001b[39;00m\n\u001b[1;32m----> 9\u001b[0m c \u001b[38;5;241m=\u001b[39m \u001b[43mCar\u001b[49m\u001b[43m(\u001b[49m\u001b[43m)\u001b[49m\n",
      "\u001b[1;31mTypeError\u001b[0m: Can't instantiate abstract class Car with abstract method get_mileage"
     ]
    }
   ],
   "source": [
    "### 21.\n",
    "from abc import ABC, abstractmethod #to create abstract class, we need abc module\n",
    "class Car(ABC): # Car inherited ABC class\n",
    " # @abstractmethod decorator is used to declare abstract method, which will be defin\n",
    " @abstractmethod\n",
    " def get_mileage(self): # this method is never executed\n",
    "    pass\n",
    " \n",
    "c = Car() "
   ]
  },
  {
   "cell_type": "code",
   "execution_count": 23,
   "id": "74b8ca99",
   "metadata": {},
   "outputs": [
    {
     "name": "stdout",
     "output_type": "stream",
     "text": [
      "Mileage is 15km/l\n",
      "Mileage is 18km/l\n",
      "Mileage is 21km/l\n"
     ]
    }
   ],
   "source": [
    "class Car(ABC): # Car inherited ABC class\n",
    " # @abstractmethod decorator is used to declare abstract method, which will be defin\n",
    " @abstractmethod\n",
    " def get_mileage(self): # this method is never executed\n",
    "     pass\n",
    "# same abstarct method 'get_mileage()' is defined differently and returning different v\n",
    "# three child classes\n",
    "class HyndaiI20(Car):\n",
    "     def get_mileage(self):\n",
    "        return 'Mileage is 15km/l'\n",
    "class TataTiago(Car):\n",
    "     def get_mileage(self):\n",
    "        return 'Mileage is 18km/l'\n",
    "class Duster(Car):\n",
    "     def get_mileage(self):\n",
    "        return 'Mileage is 21km/l'\n",
    "h = HyndaiI20()\n",
    "print(h.get_mileage())\n",
    "t = TataTiago()\n",
    "print(t.get_mileage())\n",
    "d = Duster()\n",
    "print(d.get_mileage())"
   ]
  },
  {
   "cell_type": "markdown",
   "id": "a072e4e5",
   "metadata": {},
   "source": [
    "### 22. Differentiate between data abstraction and encapsulation\n",
    "Abstraction is hiding the details and implementation of the code. Encapsulation is\n",
    "hiding the data and controlling the visibility of the code. \n",
    "Abstraction focuses on what object can do rather than how it does it. Encapsulation\n",
    "focus on hiding internal detailes of how object does something.\n",
    "Abstraction can be used in design level while encapsulation is something used in \n",
    "implementation level."
   ]
  },
  {
   "cell_type": "markdown",
   "id": "8cb5a6d1",
   "metadata": {},
   "source": [
    "### 23. What is polymorphism?\n",
    "Polymorphism refers to having multiple forms. Polymorphism is a programming term t\n",
    "hat refers to the use of the same function name, but with different signatures, fo\n",
    "r multiple types."
   ]
  },
  {
   "cell_type": "code",
   "execution_count": 21,
   "id": "b7216efd",
   "metadata": {},
   "outputs": [
    {
     "name": "stdout",
     "output_type": "stream",
     "text": [
      "Mango are sweet\n",
      "Oranges are tangy\n"
     ]
    }
   ],
   "source": [
    "class Mango:\n",
    "    def taste(self):\n",
    "        print(\"Mango are sweet\")\n",
    "class Orange:    \n",
    "    def taste(self):\n",
    "        print(\"Oranges are tangy\")\n",
    "def tast(obj):\n",
    "    obj.taste()\n",
    "m=Mango()\n",
    "o=Orange()\n",
    "tast(m)\n",
    "tast(o)\n",
    "        "
   ]
  },
  {
   "cell_type": "markdown",
   "id": "2e05cb51",
   "metadata": {},
   "source": [
    "### 24. What is the overloading method?\n",
    "Method overloading is a means by which you can call the same method in different \n",
    "ways, i.e. with different parameters based on the number of arguments or their diff\n",
    "erent datatypes.\n"
   ]
  },
  {
   "cell_type": "code",
   "execution_count": 22,
   "id": "0ee83f8e",
   "metadata": {},
   "outputs": [
    {
     "name": "stdout",
     "output_type": "stream",
     "text": [
      "3\n",
      "data science\n"
     ]
    }
   ],
   "source": [
    "def addition(a,b):\n",
    " return a + b\n",
    "print(addition(1,2))\n",
    "print(addition('data ', 'science'))"
   ]
  },
  {
   "cell_type": "markdown",
   "id": "e958b6e9",
   "metadata": {},
   "source": [
    "### 25.What are the limitations of OOPs?\n",
    "\n",
    " * Programs created using OOP can consume large amount of memory, thus may resul\n",
    " t in slower execution of programmes.\n",
    " * It is not suitable for all types of problems.\n",
    " * Code written using OOP are difficult to understand if you do not have good ex\n",
    "perience or proper documentation\n",
    " * Programmer needs to do heavy amount of planning to create a software using th\n",
    "is approach."
   ]
  },
  {
   "cell_type": "code",
   "execution_count": null,
   "id": "8e4ad4b4",
   "metadata": {},
   "outputs": [],
   "source": []
  }
 ],
 "metadata": {
  "kernelspec": {
   "display_name": "Python 3 (ipykernel)",
   "language": "python",
   "name": "python3"
  },
  "language_info": {
   "codemirror_mode": {
    "name": "ipython",
    "version": 3
   },
   "file_extension": ".py",
   "mimetype": "text/x-python",
   "name": "python",
   "nbconvert_exporter": "python",
   "pygments_lexer": "ipython3",
   "version": "3.9.12"
  }
 },
 "nbformat": 4,
 "nbformat_minor": 5
}
