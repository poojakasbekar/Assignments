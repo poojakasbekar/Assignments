{
 "cells": [
  {
   "cell_type": "markdown",
   "id": "780eda96",
   "metadata": {},
   "source": [
    "## Assignment 2"
   ]
  },
  {
   "cell_type": "code",
   "execution_count": null,
   "id": "95f40438",
   "metadata": {},
   "outputs": [],
   "source": [
    "# 1. What is a List?\n",
    "a list is one of the data types in python to store a sequence of multiple data types in a single item. \n",
    "Lists are ordered which means elements are stored in a particular order. \n",
    "Lists are mutable which means we can access and modify the list elements and it also allows duplicate values. \n",
    "List items are enclosed in square brackets and separated by commas. \n",
    "We can create a new list by using the list() constructor."
   ]
  },
  {
   "cell_type": "code",
   "execution_count": null,
   "id": "dc8f1dc5",
   "metadata": {},
   "outputs": [],
   "source": [
    "# 2. What is a Tuple?\n",
    "Tuples are used to store multiple items in a single variable but it is defined the items or value in a round ()\n",
    "bracket\n",
    "A tuple is a collection which is ordered and unchangeable."
   ]
  },
  {
   "cell_type": "code",
   "execution_count": null,
   "id": "a98d1311",
   "metadata": {},
   "outputs": [],
   "source": [
    "# 3. What is the difference between List and Tuple?\n",
    "LIST:-\n",
    "    1. Mutable >> add, delete, update, insert\n",
    "    2. Ordered\n",
    "    3. Duplicate items are allowed\n",
    "    4. Enclosed by square []\n",
    "    5. More Functional (append, extend, remove, sort, reverse)\n",
    "    6. Used  to store any datatype(Heterogenous data types)\n",
    "            Data Types : int, float, str, list, tuple, dict, .... etc\n",
    "    7. List requires more memory\n",
    "    8. List are slower than tuple\n",
    "    9. We cannot use tuples as a key in dictionary\n",
    "TUPLE:-\n",
    "    1. Immutable\n",
    "    2. Ordered\n",
    "    3. Duplicates items are allowed\n",
    "    4. Enclosed by ()\n",
    "    5. Less Functional\n",
    "    6. Used to store any dataype(Heterogenous datatypes)\n",
    "         Data Types : int, float, str, list, tuple, dict, .... etc\n",
    "    7. Tuple require less memory\n",
    "    8. Tuple is faster than list\n",
    "    9. We cannot use tuples as a key in dictionary"
   ]
  },
  {
   "cell_type": "code",
   "execution_count": 9,
   "id": "9dc9f276",
   "metadata": {},
   "outputs": [
    {
     "name": "stdout",
     "output_type": "stream",
     "text": [
      "largest element in list is: 9\n"
     ]
    }
   ],
   "source": [
    "# 4.Python Program to find the largest element in the list\n",
    "\n",
    "list1 = [1,3,4,6,8,9]\n",
    "print(\"largest element in list is:\", max(list1))\n",
    "    "
   ]
  },
  {
   "cell_type": "code",
   "execution_count": 12,
   "id": "0705538b",
   "metadata": {},
   "outputs": [
    {
     "name": "stdout",
     "output_type": "stream",
     "text": [
      "[2, 20, 30, 11, 40]\n",
      "[40, 20, 30, 11, 2]\n"
     ]
    }
   ],
   "source": [
    "# 5. Python program to interchange first and last elements in a list.\n",
    "\n",
    "list1 = [2,20,30,11,40]\n",
    "print(list1)\n",
    "list1[0] , list1[-1] = list1[-1] , list1[0]\n",
    "print(list1)"
   ]
  },
  {
   "cell_type": "code",
   "execution_count": 12,
   "id": "34a177d3",
   "metadata": {},
   "outputs": [
    {
     "name": "stdout",
     "output_type": "stream",
     "text": [
      "Enter number of elements: 5\n",
      "2\n",
      "4\n",
      "3\n",
      "5\n",
      "6\n",
      "Enter indexes to be swapped \n",
      "index 1: 1\n",
      "index 2: 3\n",
      "Initial List:  [2, 4, 3, 5, 6]\n",
      "List after Swapping:  [2, 5, 3, 4, 6]\n"
     ]
    }
   ],
   "source": [
    "# 6. Python program to swap two elements in a list ?\n",
    "myList = []\n",
    "length = int(input(\"Enter number of elements: \"))\n",
    "for i in range(0, length):\n",
    "    val = int(input())\n",
    "    myList.append(val)\n",
    "\n",
    "print(\"Enter indexes to be swapped \")\n",
    "index1 = int(input(\"index 1: \"))\n",
    "index2 = int(input(\"index 2: \"))\n",
    "\n",
    "print(\"Initial List: \", myList)\n",
    "# Swapping given elements\n",
    "myList[index1], myList[index2] = myList[index2], myList[index1]\n",
    "\n",
    "# Printing list \n",
    "print(\"List after Swapping: \", myList)"
   ]
  },
  {
   "cell_type": "code",
   "execution_count": 1,
   "id": "8dc0cd90",
   "metadata": {},
   "outputs": [
    {
     "name": "stdout",
     "output_type": "stream",
     "text": [
      "[7, 6, 5, 4, 3, 2, 1]\n"
     ]
    }
   ],
   "source": [
    "# 7. Python program to Reverse a List\n",
    "\n",
    "List = [1,2,3,4,5,6,7]\n",
    "List.reverse()\n",
    "print(List)"
   ]
  },
  {
   "cell_type": "code",
   "execution_count": 20,
   "id": "19b74211",
   "metadata": {},
   "outputs": [
    {
     "name": "stdout",
     "output_type": "stream",
     "text": [
      "count_char=3\n"
     ]
    }
   ],
   "source": [
    "# 8. Python program to count occurrences of an element in a list\n",
    "\n",
    "list1 = ['a','b','c','a','d','a','b','c']\n",
    "count_char = list1.count('a')\n",
    "print(f'{count_char=}')"
   ]
  },
  {
   "cell_type": "code",
   "execution_count": 17,
   "id": "84574e8d",
   "metadata": {},
   "outputs": [
    {
     "name": "stdout",
     "output_type": "stream",
     "text": [
      "[1, 3, 4, 5, 6, 8, 9, 10]\n",
      "sum of the elements in a list 46\n"
     ]
    }
   ],
   "source": [
    "# 9. Python program to find the sum of elements in a list\n",
    "\n",
    "list1 = [1,3,4,5,6,8,9,10]\n",
    "print(list1)\n",
    "print(\"sum of the elements in a list\",sum(list1))"
   ]
  },
  {
   "cell_type": "code",
   "execution_count": 22,
   "id": "7367a777",
   "metadata": {},
   "outputs": [
    {
     "name": "stdout",
     "output_type": "stream",
     "text": [
      "Multiplication of list: 24\n"
     ]
    }
   ],
   "source": [
    "# 10. Python program to Multiply all numbers in the list\n",
    "import math\n",
    "list1 = [1,2,3,4]\n",
    "a = math.prod(list1)\n",
    "print(\"Multiplication of list:\",a)\n"
   ]
  },
  {
   "cell_type": "code",
   "execution_count": null,
   "id": "3ace9d1b",
   "metadata": {},
   "outputs": [],
   "source": [
    "# 11. What are the ways to find the length of a list\n",
    "\n",
    "Find the length of list using len function in Python\n",
    "Find the length of list using for loop in Python\n",
    "Find the length of a nested list using len function in Python\n",
    "Find the length of a list of lists in Python"
   ]
  },
  {
   "cell_type": "code",
   "execution_count": 33,
   "id": "93db21d8",
   "metadata": {},
   "outputs": [
    {
     "name": "stdout",
     "output_type": "stream",
     "text": [
      "Smallest element is: 4\n"
     ]
    }
   ],
   "source": [
    "# 12. Python program to find the smallest and largest number in a list (Without min-max function)\n",
    "# list of numbers\n",
    "list1 = [10, 20, 4, 45, 99]\n",
    " \n",
    "# sorting the list\n",
    "list1.sort()\n",
    " \n",
    "# printing the first element\n",
    "print(\"Smallest element is:\", list1[0])"
   ]
  },
  {
   "cell_type": "code",
   "execution_count": 31,
   "id": "d12096db",
   "metadata": {},
   "outputs": [
    {
     "name": "stdout",
     "output_type": "stream",
     "text": [
      "Largest element is: 99\n"
     ]
    }
   ],
   "source": [
    "list1 = [10, 20, 4, 45, 99]\n",
    "list1.sort(reverse=True)\n",
    "print(\"Largest element is:\", list1[0])"
   ]
  },
  {
   "cell_type": "code",
   "execution_count": 34,
   "id": "65b5464d",
   "metadata": {},
   "outputs": [
    {
     "name": "stdout",
     "output_type": "stream",
     "text": [
      "lagest element is: 99\n"
     ]
    }
   ],
   "source": [
    "# or \n",
    "\n",
    "# list of numbers\n",
    "list1 = [10, 20, 4, 45, 99]\n",
    " \n",
    "# sorting the list\n",
    "list1.sort()\n",
    " \n",
    "# printing the last element\n",
    "print(\"lagest element is:\", list1[-1])\n",
    "    "
   ]
  },
  {
   "cell_type": "code",
   "execution_count": 2,
   "id": "24438b17",
   "metadata": {},
   "outputs": [
    {
     "name": "stdout",
     "output_type": "stream",
     "text": [
      "Please enter the radius of a circle(in cm)::4.5\n",
      "Area of circle is 63.6154cm^2\n"
     ]
    }
   ],
   "source": [
    " # 13.  Python Program to find the area of a circle\n",
    "radius = eval(input('Please enter the radius of a circle(in cm)::'))\n",
    "print(f'Area of circle is {round(3.1415 * radius**2,4)}cm^2')"
   ]
  },
  {
   "cell_type": "code",
   "execution_count": 6,
   "id": "cb93ea69",
   "metadata": {},
   "outputs": [
    {
     "name": "stdout",
     "output_type": "stream",
     "text": [
      "1\n",
      "2\n",
      "3\n",
      "4\n",
      "5\n",
      "6\n",
      "Given list is :['1', '2', '3', '4', '5', '6']\n",
      "4\n",
      "The deleted value is 4\n",
      "Final list is : ['1', '2', '3', '5', '6']\n"
     ]
    }
   ],
   "source": [
    "# 14. Take inputs from the user to make a list. Again take one input from the user\n",
    "# and search it in the list and delete that element, if found. Iterate over a list\n",
    "# using for loop.\n",
    "n=6\n",
    "l1=[]\n",
    "for i in range(0,n):\n",
    "    l1.append(str(input()))\n",
    "print(f\"Given list is :{l1}\")\n",
    "\n",
    "a=input()\n",
    "if a in l1:\n",
    "    print(f'The deleted value is {a}')\n",
    "    l1.remove(a)\n",
    "    print(f'Final list is : {l1}')\n",
    "else:\n",
    "    print(f'Value not present in string')"
   ]
  },
  {
   "cell_type": "code",
   "execution_count": 5,
   "id": "7f93d488",
   "metadata": {},
   "outputs": [
    {
     "data": {
      "text/plain": [
       "[4, 25, 36, 144]"
      ]
     },
     "execution_count": 5,
     "metadata": {},
     "output_type": "execute_result"
    }
   ],
   "source": [
    "# 15. You are given a list of integer elements. Make a new list that will store a\n",
    "# square of elements of the previous list. (With and without list comprehension)\n",
    "# i. Input_list = [2,5,6,12]\n",
    "# ii. Output_list = [4,25,36,144]\n",
    "\n",
    "#using without list compressio:-\n",
    "list1 = [2,5,6,12]\n",
    "square_list = []\n",
    "\n",
    "for num in list1:\n",
    "    square_list.append(num ** 2)\n",
    "\n",
    "square_list"
   ]
  },
  {
   "cell_type": "code",
   "execution_count": 4,
   "id": "e65ee58b",
   "metadata": {},
   "outputs": [
    {
     "data": {
      "text/plain": [
       "[4, 25, 36, 144]"
      ]
     },
     "execution_count": 4,
     "metadata": {},
     "output_type": "execute_result"
    }
   ],
   "source": [
    "# using list compression:-\n",
    "list1 = [2,5,6,12]\n",
    "\n",
    "square_list = [num ** 2 for num in list1]\n",
    "\n",
    "square_list"
   ]
  },
  {
   "cell_type": "code",
   "execution_count": 11,
   "id": "9c2062a4",
   "metadata": {},
   "outputs": [
    {
     "name": "stdout",
     "output_type": "stream",
     "text": [
      "Listeven:- [0, 2, 4, 6, 8, 10, 12, 14, 16, 18, 20, 22, 24, 26, 28, 30, 32, 34, 36, 38, 40, 42, 44, 46, 48, 50, 52, 54, 56, 58, 60, 62, 64, 66, 68, 70, 72, 74, 76, 78, 80, 82, 84, 86, 88, 90, 92, 94, 96, 98, 100, 102, 104, 106, 108, 110, 112, 114, 116, 118, 120, 122, 124, 126, 128, 130, 132, 134, 136, 138, 140, 142, 144, 146, 148, 150]\n",
      "\n",
      "Listodd:- [1, 3, 5, 7, 9, 11, 13, 15, 17, 19, 21, 23, 25, 27, 29, 31, 33, 35, 37, 39, 41, 43, 45, 47, 49, 51, 53, 55, 57, 59, 61, 63, 65, 67, 69, 71, 73, 75, 77, 79, 81, 83, 85, 87, 89, 91, 93, 95, 97, 99, 101, 103, 105, 107, 109, 111, 113, 115, 117, 119, 121, 123, 125, 127, 129, 131, 133, 135, 137, 139, 141, 143, 145, 147, 149]\n"
     ]
    }
   ],
   "source": [
    "# 16. WAP to create two lists, one containing all even numbers and the other\n",
    "# containing all odd numbers between 0 to 151\n",
    "#list1 = [11,12,10,13]\n",
    "listeven = []\n",
    "listodd  = []\n",
    "\n",
    "for num in range(0,151):\n",
    "    if num%2 == 0:\n",
    "        listeven.append(num)\n",
    "    else:\n",
    "        listodd.append(num)\n",
    "#print(\"List\",list1)\n",
    "print(\"Listeven:-\",listeven)\n",
    "print()\n",
    "print(\"Listodd:-\",listodd)\n",
    "        "
   ]
  },
  {
   "cell_type": "code",
   "execution_count": 6,
   "id": "c49e600c",
   "metadata": {},
   "outputs": [
    {
     "name": "stdout",
     "output_type": "stream",
     "text": [
      "List [2, 3, 4, 5, 6, 7, 8, 11, 12, 13, 14, 9, 10]\n",
      "count even numbers:- 7\n",
      "count odd numbers:- 6\n"
     ]
    }
   ],
   "source": [
    "# 17. Python program to Count Even and Odd numbers in a List\n",
    "list1 = [2,3,4,5,6,7,8,11,12,13,14,9,10]\n",
    "even_count = 0\n",
    "odd_count = 0\n",
    "\n",
    "for num in list1:\n",
    "    if num%2 == 0:\n",
    "        even_count +=1\n",
    "    else:\n",
    "        odd_count +=1\n",
    "print(\"List\",list1)\n",
    "print(\"count even numbers:-\",even_count)\n",
    "print(\"count odd numbers:-\",odd_count)\n"
   ]
  },
  {
   "cell_type": "code",
   "execution_count": 3,
   "id": "22d56adb",
   "metadata": {},
   "outputs": [
    {
     "name": "stdout",
     "output_type": "stream",
     "text": [
      "divisible by 3 : [0, 3, 6, 9, 12, 15, 18, 21, 24, 27, 30, 33, 36, 39, 42, 45, 48, 51, 54, 57, 60, 63, 66, 69, 72, 75, 78, 81, 84, 87, 90, 93, 96, 99, 102, 105, 108, 111, 114, 117, 120, 123, 126, 129, 132, 135, 138, 141, 144, 147, 150]\n",
      "\n",
      "divisible by 4 : [0, 4, 8, 12, 16, 20, 24, 28, 32, 36, 40, 44, 48, 52, 56, 60, 64, 68, 72, 76, 80, 84, 88, 92, 96, 100, 104, 108, 112, 116, 120, 124, 128, 132, 136, 140, 144, 148]\n",
      "\n",
      "divisible by 5 : [0, 5, 10, 15, 20, 25, 30, 35, 40, 45, 50, 55, 60, 65, 70, 75, 80, 85, 90, 95, 100, 105, 110, 115, 120, 125, 130, 135, 140, 145, 150]\n",
      "\n",
      "divisible by 6 : [0, 6, 12, 18, 24, 30, 36, 42, 48, 54, 60, 66, 72, 78, 84, 90, 96, 102, 108, 114, 120, 126, 132, 138, 144, 150]\n",
      "\n",
      "divisible by 7 : [0, 7, 14, 21, 28, 35, 42, 49, 56, 63, 70, 77, 84, 91, 98, 105, 112, 119, 126, 133, 140, 147]\n",
      "\n",
      "divisible by 8 : [0, 8, 16, 24, 32, 40, 48, 56, 64, 72, 80, 88, 96, 104, 112, 120, 128, 136, 144]\n",
      "\n",
      "divisible by 9 : [0, 9, 18, 27, 36, 45, 54, 63, 72, 81, 90, 99, 108, 117, 126, 135, 144]\n",
      "\n",
      "divisible by 10 : [0, 10, 20, 30, 40, 50, 60, 70, 80, 90, 100, 110, 120, 130, 140, 150]\n"
     ]
    }
   ],
   "source": [
    "# 18. WAP to make new lists, containing only numbers which are divisible by 4, 6,\n",
    "# 8, 10, 3, 5, 7, and 9 in separate lists for range(0,151)\n",
    "\n",
    "div_3=[ ]\n",
    "div_4=[ ]\n",
    "div_5=[ ]\n",
    "div_6=[ ]\n",
    "div_7=[ ]\n",
    "div_8=[ ]\n",
    "div_9=[ ]\n",
    "div_10 =[ ]\n",
    "for i in range(151):\n",
    "    if i % 3 ==0:\n",
    "        div_3.append(i)\n",
    "    if i%4==0:\n",
    "        div_4.append(i)\n",
    "    if i % 5==0:\n",
    "        div_5.append(i)\n",
    "    if i % 6==0:\n",
    "        div_6.append(i)\n",
    "    if i % 7==0:\n",
    "        div_7.append(i)\n",
    "    if i % 8==0:\n",
    "        div_8.append(i)\n",
    "    if i % 9==0:\n",
    "        div_9.append(i)\n",
    "    if i % 10==0:\n",
    "        div_10.append(i)\n",
    "print(\"divisible by 3 :\",div_3)\n",
    "print()\n",
    "print(\"divisible by 4 :\",div_4)\n",
    "print()\n",
    "print(\"divisible by 5 :\",div_5)\n",
    "print()\n",
    "print(\"divisible by 6 :\",div_6)\n",
    "print()\n",
    "print(\"divisible by 7 :\",div_7)\n",
    "print()\n",
    "print(\"divisible by 8 :\",div_8)\n",
    "print()\n",
    "print(\"divisible by 9 :\",div_9)\n",
    "print()\n",
    "print(\"divisible by 10 :\",div_10)\n",
    " "
   ]
  },
  {
   "cell_type": "code",
   "execution_count": 13,
   "id": "86a66410",
   "metadata": {},
   "outputs": [
    {
     "name": "stdout",
     "output_type": "stream",
     "text": [
      "Int list : [2, 3, 4, 5, 9]\n",
      "Float list : [2.2, 3.4, 4.5]\n",
      "String list : ['python', 'data', 'science']\n"
     ]
    }
   ],
   "source": [
    "# 19. From a list containing ints, strings, and floats, make three lists to store them separately.\n",
    "list1 = [2,3,4,5,2.2,3.4,'python',9,4.5,'data','science']\n",
    "int_list = []\n",
    "float_list = []\n",
    "str_list = []\n",
    "for val in list1:\n",
    "    if type(val) == int:\n",
    "        int_list.append(val)\n",
    "    elif type(val) == float:\n",
    "        float_list.append(val)\n",
    "    else:\n",
    "        str_list.append(val)\n",
    "print(\"Int list :\",int_list)\n",
    "print(\"Float list :\",float_list)\n",
    "print(\"String list :\",str_list)"
   ]
  },
  {
   "cell_type": "code",
   "execution_count": null,
   "id": "f2140a68",
   "metadata": {},
   "outputs": [],
   "source": [
    "# 20. What’s The Difference Between The Python append() and extend() Methods?\n",
    "append():-\n",
    "    Python’s append() function inserts a single element into an existing list. \n",
    "    The element will be added to the end of the old list rather than being returned to a new list. \n",
    "syntax of append()\n",
    "# Adds an object (a number, a string or a \n",
    "# another list) at the end of my_list\n",
    "my_list.append(object)\n",
    "\n",
    "extend():-\n",
    "    Iterates over its argument and adding each element to the list and extending the list. \n",
    "    The length of the list increases by a number of elements in its argument.\n",
    "syntax of extend()\n",
    "# Each element of an iterable gets appended \n",
    "# to my_list\n",
    "my_list.extend(iterable) "
   ]
  },
  {
   "cell_type": "code",
   "execution_count": 14,
   "id": "e6d48135",
   "metadata": {},
   "outputs": [
    {
     "name": "stdout",
     "output_type": "stream",
     "text": [
      "[1, 2, 3, 4, 5, 'red', 'green', 'blue']\n"
     ]
    }
   ],
   "source": [
    "# 21. Write a Python program to append a list to the second list\n",
    "list1 = [1,2,3,4,5]\n",
    "list2 = [\"red\",\"green\",\"blue\"]\n",
    "final_list = list1 + list2\n",
    "print(final_list)"
   ]
  },
  {
   "cell_type": "code",
   "execution_count": 16,
   "id": "c425f109",
   "metadata": {},
   "outputs": [
    {
     "name": "stdout",
     "output_type": "stream",
     "text": [
      "[4, 5, 6, [1, 2, 3]]\n"
     ]
    }
   ],
   "source": [
    "l1 = [1,2,3]\n",
    "l2 = [4,5,6]\n",
    "l2.append(l1)\n",
    "print(l2)"
   ]
  },
  {
   "cell_type": "code",
   "execution_count": 7,
   "id": "b96dbc99",
   "metadata": {},
   "outputs": [
    {
     "name": "stdout",
     "output_type": "stream",
     "text": [
      "Third-largest number in a [1, 2, 3, 4, 5, 6, 7, 8, 9, 10] is 8\n"
     ]
    }
   ],
   "source": [
    "# 22. Write a Python program to find the third-largest number in a list\n",
    "num_list = [1,2,3,4,5,6,7,8,9,10]\n",
    "print(f'Third-largest number in a {num_list} is ',end='')\n",
    "num_list.sort(reverse=True)\n",
    "print(num_list[2])"
   ]
  },
  {
   "cell_type": "code",
   "execution_count": 14,
   "id": "25547e1a",
   "metadata": {},
   "outputs": [
    {
     "name": "stdout",
     "output_type": "stream",
     "text": [
      "frequency of the 'apple'= 4\n"
     ]
    }
   ],
   "source": [
    "# 23. Write a Python program to get the frequency of the elements in a list.\n",
    "fruit=[\"mango\",\"apple\",\"pineapple\",\"apple\",\"mango\",\"watremelon\",\"apple\",\"banana\",\"apple\"]\n",
    "print(\"frequency of the 'apple'=\",fruit.count(\"apple\"))"
   ]
  },
  {
   "cell_type": "code",
   "execution_count": 4,
   "id": "3dcf7765",
   "metadata": {},
   "outputs": [
    {
     "name": "stdout",
     "output_type": "stream",
     "text": [
      "Yes, [1, 2, [3, 4], ['python', 'a', 'b'], 'python', [8, 9], ['A', 'B', 'C'], 'a', 'b', 'a'] contains a sublist\n"
     ]
    }
   ],
   "source": [
    "# 24. Write a Python program to check whether a list contains a sublist\n",
    "list2 = [1,2,[3,4],['python','a','b'],'python',[8,9],['A','B','C'],'a','b','a']\n",
    "#list2 = [1,2,3,4]\n",
    "for item in list2:\n",
    "    if type(item) == list:\n",
    "        print(f'Yes, {list2} contains a sublist')\n",
    "        break\n",
    "else:\n",
    "    print(f'No, {list2} does not contain a sublist')\n"
   ]
  },
  {
   "cell_type": "code",
   "execution_count": 10,
   "id": "360b3b65",
   "metadata": {},
   "outputs": [
    {
     "data": {
      "text/plain": [
       "[[1, 2, 3, 4, 5], ['welcome', 'to', 'python', 'science'], [12, 11, 2.3, 14]]"
      ]
     },
     "execution_count": 10,
     "metadata": {},
     "output_type": "execute_result"
    }
   ],
   "source": [
    "# 25. Write a Python program to generate all sublists of a list\n",
    "list=[]\n",
    "list1=[1,2,3,4,5]\n",
    "list2=['welcome','to','python','science']\n",
    "list3=[12,11,2.3,14]\n",
    "list.append(list1),list.append(list2),list.append(list3)\n",
    "list\n",
    "\n",
    "\n"
   ]
  },
  {
   "cell_type": "code",
   "execution_count": 19,
   "id": "b2af9bee",
   "metadata": {},
   "outputs": [
    {
     "name": "stdout",
     "output_type": "stream",
     "text": [
      "{'White', 'Green'}\n"
     ]
    }
   ],
   "source": [
    "# 26.Write a Python program to find common items from two lists\n",
    "color1 = [\"Red\", \"Green\", \"Orange\", \"White\"]\n",
    "color2 = [\"Black\", \"Green\", \"White\", \"Pink\"]\n",
    "print(set(color1) & set(color2))"
   ]
  },
  {
   "cell_type": "code",
   "execution_count": null,
   "id": "8965bb64",
   "metadata": {},
   "outputs": [],
   "source": [
    "# 27. How to flatten a list in python?\n",
    "There are two ways to do this::\n",
    "a. Using nested for loops\n",
    "b. Using list comprehension"
   ]
  },
  {
   "cell_type": "code",
   "execution_count": 20,
   "id": "10e5abdc",
   "metadata": {},
   "outputs": [
    {
     "name": "stdout",
     "output_type": "stream",
     "text": [
      "[1, 2, 3, 11, 12, 22, 23, 25, 34, 44, 64, 122]\n"
     ]
    }
   ],
   "source": [
    "# 28. How to sort a list in ascending and descending order without using the sort function?\n",
    "number = [64, 25, 12, 22, 11, 1,2,44,3,122, 23, 34] \n",
    " \n",
    "for i in range(len(number)): \n",
    "    for j in range(i + 1, len(number)): \n",
    " \n",
    "        if number[i] > number[j]: \n",
    "           number[i], number[j] = number[j], number[i] \n",
    " \n",
    "print (number) "
   ]
  },
  {
   "cell_type": "code",
   "execution_count": 21,
   "id": "523cde34",
   "metadata": {},
   "outputs": [
    {
     "name": "stdout",
     "output_type": "stream",
     "text": [
      "Sorted Tuple : (1, 2, 3, 5, 6, 7, 24)\n"
     ]
    }
   ],
   "source": [
    "# 29. How to sort a tuple?\n",
    "#use the sorted() built-in function to sort a Tuple\n",
    "tuple_ = (5, 2, 24, 3, 1, 6, 7)  \n",
    "sorted_ = tuple(sorted(tuple_))  \n",
    "print('Sorted Tuple :', sorted_)  \n",
    "#print(type(sorted_)) "
   ]
  },
  {
   "cell_type": "code",
   "execution_count": 23,
   "id": "2ba72de6",
   "metadata": {},
   "outputs": [
    {
     "name": "stdout",
     "output_type": "stream",
     "text": [
      "given list [11, 33, 50]\n",
      "the integer is: 113350\n"
     ]
    }
   ],
   "source": [
    "# 30. Write a Python program to convert a list of multiple integers into a single integer\n",
    "# a. [11, 33, 50] >>> 113350\n",
    "\n",
    "List1 = [11,33,50]\n",
    "print(\"given list\",List1)\n",
    "a = int(\"\".join(map(str, List1)))\n",
    "print(\"the integer is:\",a)"
   ]
  },
  {
   "cell_type": "code",
   "execution_count": null,
   "id": "bc09fd26",
   "metadata": {},
   "outputs": [],
   "source": [
    "# 31. Difference between del and clear?\n",
    "Del\n",
    "   it is python keyword\n",
    "   del can delete specific elements from the list or the complete list.\n",
    "syntax\n",
    "   del list_name[index]   # delete specific element\n",
    "   del list_name          #delete the complete list\n",
    "\n",
    "clear\n",
    "  clear() is a list method.\n",
    "  The clear() method can delete all the elements from the list, making the list empty.\n",
    "syntax\n",
    "   list_name.clear()"
   ]
  },
  {
   "cell_type": "code",
   "execution_count": null,
   "id": "15f956ca",
   "metadata": {},
   "outputs": [],
   "source": [
    "# 32. Difference between remove and pop?\n",
    "remove\n",
    "   remove() is a list method.\n",
    "   It can delete a specific value from the list.\n",
    "syntax   \n",
    "    list_name.remove(value)\n",
    "\n",
    "pop\n",
    "   It is a list method.\t\n",
    "   pop() can delete specific values from the list using its index.\n",
    "syntax\n",
    "  list_name.pop(index)"
   ]
  },
  {
   "cell_type": "code",
   "execution_count": null,
   "id": "3dbd5f29",
   "metadata": {},
   "outputs": [],
   "source": [
    "# 33. Difference between indexing and Slicing?\n",
    "Indexing is used to access single element of an object using its index,\n",
    "while slicing allow us to access subset of elements of any iterable based on start index, end\n",
    "index and step-size."
   ]
  },
  {
   "cell_type": "code",
   "execution_count": null,
   "id": "ec071fbc",
   "metadata": {},
   "outputs": [],
   "source": [
    "# 34. Difference between sort and sorted?\n",
    "sort() function sorts the list and affect the original list. This function is used only for lists\n",
    "sorted() function sorts the list and does not affect the original list. We need\n",
    "to assign the result to new variable.\n",
    "This function is applicable to any sequence data type."
   ]
  },
  {
   "cell_type": "code",
   "execution_count": null,
   "id": "6a154240",
   "metadata": {},
   "outputs": [],
   "source": [
    "# 35. Difference between reverse and reversed?\n",
    "reverse() function reverses the list and affect the original list. This function\n",
    "is used only for lists\n",
    "\n",
    "reversed() function does not actually reverse the list but returns an iterator that\n",
    "accesses the given sequence in the reverse order. This function is applicable\n",
    "to any sequence data type."
   ]
  },
  {
   "cell_type": "code",
   "execution_count": null,
   "id": "7a6c967c",
   "metadata": {},
   "outputs": [],
   "source": [
    "# 36. Difference between copy and deep copy?\n",
    "copy() returns a shallow copy of the object(e.g list) means it constructs a new\n",
    "object and then populates it with references to the child objects found in the\n",
    "original. Any changes made to a copy of an object do reflect in the original object.\n",
    "\n",
    "deepcopy() returns the deep copy of the object means first constructing a new\n",
    "collection object and then recursively populating it with copies of the child obj\n",
    "ects found in the original. Any changes made to a copy of the object do not reflect\n",
    "in the original object."
   ]
  },
  {
   "cell_type": "code",
   "execution_count": 8,
   "id": "cb1660bf",
   "metadata": {},
   "outputs": [
    {
     "name": "stdout",
     "output_type": "stream",
     "text": [
      "list is empty\n"
     ]
    }
   ],
   "source": [
    "# 37. How to check whether the list is empty or not?\n",
    "l1 = [1,2,3,4,5,6,7]\n",
    "\n",
    "l2 = []\n",
    "\n",
    "if l2:\n",
    "    print(\"list is not empty\")\n",
    "else:\n",
    "    print(\"list is empty\")"
   ]
  },
  {
   "cell_type": "code",
   "execution_count": 11,
   "id": "cab43756",
   "metadata": {},
   "outputs": [
    {
     "name": "stdout",
     "output_type": "stream",
     "text": [
      "Concatenated list  :  [1, 4, 5, 6, 5, 3, 5, 7, 2, 5]\n"
     ]
    }
   ],
   "source": [
    "# 38. How to concatenate two lists?\n",
    "list1 = [1, 4, 5, 6, 5]\n",
    "list2 = [3, 5, 7, 2, 5]\n",
    "  \n",
    "# using list.extend() to concat\n",
    "list1.extend(list2)\n",
    "  \n",
    "# Printing concatenated list\n",
    "print (\"Concatenated list  : \", list1)"
   ]
  },
  {
   "cell_type": "code",
   "execution_count": null,
   "id": "4d6cfa32",
   "metadata": {},
   "outputs": [],
   "source": [
    "# 39. How to find the occurrences of an element in the python list?\n",
    "Count occurrences of an element in a list Using count()\n"
   ]
  },
  {
   "cell_type": "code",
   "execution_count": null,
   "id": "00f8321b",
   "metadata": {},
   "outputs": [],
   "source": [
    "# 40.How to flatten a list in python ?\n",
    "There are two ways to do this::\n",
    "a. Using nested for loops\n",
    "b. Using list comprehension"
   ]
  }
 ],
 "metadata": {
  "kernelspec": {
   "display_name": "Python 3 (ipykernel)",
   "language": "python",
   "name": "python3"
  },
  "language_info": {
   "codemirror_mode": {
    "name": "ipython",
    "version": 3
   },
   "file_extension": ".py",
   "mimetype": "text/x-python",
   "name": "python",
   "nbconvert_exporter": "python",
   "pygments_lexer": "ipython3",
   "version": "3.9.12"
  }
 },
 "nbformat": 4,
 "nbformat_minor": 5
}
