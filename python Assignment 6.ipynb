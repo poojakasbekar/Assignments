{
 "cells": [
  {
   "cell_type": "markdown",
   "id": "2955e653",
   "metadata": {},
   "source": [
    "###  Assignment no 6"
   ]
  },
  {
   "cell_type": "markdown",
   "id": "ffc70e11",
   "metadata": {},
   "source": [
    "#### Python Programming (Lambda Function, Built in Function)\n"
   ]
  },
  {
   "cell_type": "code",
   "execution_count": 4,
   "id": "5b99021d",
   "metadata": {},
   "outputs": [
    {
     "name": "stdout",
     "output_type": "stream",
     "text": [
      "original list of tuple\n",
      "[('English', 88), ('Science', 82), ('Math', 80), ('physics', 85)]\n",
      "\n",
      "sorting the list of tuples\n",
      "[('Math', 80), ('Science', 82), ('physics', 85), ('English', 88)]\n"
     ]
    }
   ],
   "source": [
    "# 1.Write a Python program to sort a list of tuples using Lambda.\n",
    "\n",
    "sub_marks=[('English',88),('Science',82),('Math',80),('physics',85)]\n",
    "print(\"original list of tuple\")\n",
    "print(sub_marks)\n",
    "\n",
    "sub_marks.sort(key=lambda x:x[1])\n",
    "print(\"\\nsorting the list of tuples\")\n",
    "print(sub_marks)"
   ]
  },
  {
   "cell_type": "code",
   "execution_count": 11,
   "id": "b3f2f5f0",
   "metadata": {},
   "outputs": [
    {
     "name": "stdout",
     "output_type": "stream",
     "text": [
      "original list of dictionary\n",
      "[{'english': 60, 'gread': 'D'}, {'science': 82, 'gread': 'B'}, {'maths': 90, 'gread': 'A'}, {'physics': 70, 'gread': 'C'}]\n",
      "\n",
      "sorting the list of dictionary\n",
      "[{'maths': 90, 'gread': 'A'}, {'science': 82, 'gread': 'B'}, {'physics': 70, 'gread': 'C'}, {'english': 60, 'gread': 'D'}]\n"
     ]
    }
   ],
   "source": [
    "# 2. Write a Python program to sort a list of dictionaries using Lambda\n",
    " \n",
    "sub_marks1=[{'english':60,'gread':'D'},{'science':82,'gread':'B'},{'maths':90,'gread':'A'},{'physics':70,'gread':'C'}]\n",
    "print(\"original list of dictionary\")\n",
    "print(sub_marks1)\n",
    "\n",
    "sorted_marks=sorted(sub_marks1,key=lambda x:x['gread'])\n",
    "print(\"\\nsorting the list of dictionary\")\n",
    "print(sorted_marks)"
   ]
  },
  {
   "cell_type": "code",
   "execution_count": 18,
   "id": "481058bb",
   "metadata": {},
   "outputs": [
    {
     "name": "stdout",
     "output_type": "stream",
     "text": [
      "[4, 9, 16, 25, 36, 49, 64, 81, 100]\n"
     ]
    }
   ],
   "source": [
    "# 3. Write a Python program to find square and cube every number in a given list of integers using Lambda\n",
    "\n",
    "# square\n",
    "list1= [2,3,4,5,6,7,8,9,10]\n",
    "result=list(map(lambda x : x**2,list1))\n",
    "print(result)\n",
    "    "
   ]
  },
  {
   "cell_type": "code",
   "execution_count": 19,
   "id": "82dd3e77",
   "metadata": {},
   "outputs": [
    {
     "name": "stdout",
     "output_type": "stream",
     "text": [
      "[8, 27, 64, 125, 216, 343, 512, 729, 1000]\n"
     ]
    }
   ],
   "source": [
    "# cube\n",
    "list2= [2,3,4,5,6,7,8,9,10]\n",
    "result=list(map(lambda x : x**3,list2))\n",
    "print(result)"
   ]
  },
  {
   "cell_type": "code",
   "execution_count": 18,
   "id": "ed4473c5",
   "metadata": {},
   "outputs": [
    {
     "name": "stdout",
     "output_type": "stream",
     "text": [
      "True\n",
      "False\n"
     ]
    }
   ],
   "source": [
    "# 4. Write a Python program to find if a given string starts with a given character using Lambda\n",
    " \n",
    "starts_with = lambda x: True if x.startswith('P') else False\n",
    "print(starts_with('Python'))\n",
    "\n",
    "\n",
    "starts_with = lambda x: True if x.startswith('p') else False\n",
    "print(starts_with('java'))"
   ]
  },
  {
   "cell_type": "code",
   "execution_count": 20,
   "id": "26cce6e0",
   "metadata": {},
   "outputs": [
    {
     "name": "stdout",
     "output_type": "stream",
     "text": [
      "True\n",
      "False\n",
      "False\n",
      "True\n",
      "False\n",
      "True\n"
     ]
    }
   ],
   "source": [
    "# 5. Write a Python program to check whether a given string is number or not using Lambda\n",
    "\n",
    "is_num = lambda q: q.isdigit()\n",
    "print(is_num('26587'))\n",
    "print(is_num('4.2365'))\n",
    "print(is_num('-12547'))\n",
    "print(is_num('00'))\n",
    "print(is_num('A001'))\n",
    "print(is_num('001'))\n",
    "\n"
   ]
  },
  {
   "cell_type": "code",
   "execution_count": 2,
   "id": "d101ae07",
   "metadata": {},
   "outputs": [
    {
     "data": {
      "text/plain": [
       "[0, 1, 1, 2, 3, 5, 8, 13, 21, 34]"
      ]
     },
     "execution_count": 2,
     "metadata": {},
     "output_type": "execute_result"
    }
   ],
   "source": [
    "# 6. Write a Python program to create Fibonacci series using Lambda\n",
    "# using reduce()\n",
    "from functools import reduce\n",
    "fib= lambda n: reduce(lambda x,y :x+[x[-1] + x[-2]],range(n-2),[0,1])\n",
    "fib(10)"
   ]
  },
  {
   "cell_type": "code",
   "execution_count": 17,
   "id": "b9e0dc99",
   "metadata": {},
   "outputs": [
    {
     "name": "stdout",
     "output_type": "stream",
     "text": [
      "[0, 1, 1, 2, 3, 5, 8, 13, 21, 34]\n"
     ]
    }
   ],
   "source": [
    "#or\n",
    "n =10\n",
    "fibo = lambda n: n if n <= 1 else fibo(n - 1) + fibo(n - 2)\n",
    "list1 = list(map(fibo, range(0, n)))\n",
    "print(list1)"
   ]
  },
  {
   "cell_type": "code",
   "execution_count": 35,
   "id": "b8199633",
   "metadata": {},
   "outputs": [
    {
     "name": "stdout",
     "output_type": "stream",
     "text": [
      "[1, 2, 3, 5, 6, 7, 8, 9, 10]\n",
      "[1, 2, 4, 8, 9]\n",
      "intersection of two given array [1, 2, 8, 9]\n"
     ]
    }
   ],
   "source": [
    "# 7. Write a Python program to find the intersection of two given arrays using Lambda\n",
    "array_num1=[1,2,3,5,6,7,8,9,10]\n",
    "array_num2=[1,2,4,8,9]\n",
    "print(array_num1)\n",
    "print(array_num2)\n",
    "result=list(filter(lambda x: x in array_num1,array_num2))\n",
    "print(\"intersection of two given array\",result)"
   ]
  },
  {
   "cell_type": "code",
   "execution_count": 2,
   "id": "7c8f98e5",
   "metadata": {},
   "outputs": [
    {
     "name": "stdout",
     "output_type": "stream",
     "text": [
      "[-2, -10, -55, -23, 3, 4, 23, 20, 10, 1]\n"
     ]
    }
   ],
   "source": [
    "# 8. Write a Python program to rearrange positive and negative numbers in a given array using Lambda\n",
    "array1 = [3,4,-2,-10,23,20,10,-55,1,-23]\n",
    "rearrange_numbers= lambda array1:[x for x in array1 if x < 0] + [x for x in array1 if x>=0 ]\n",
    "new_array = rearrange_numbers(array1)\n",
    "print(new_array)\n"
   ]
  },
  {
   "cell_type": "code",
   "execution_count": 41,
   "id": "d358c18c",
   "metadata": {},
   "outputs": [
    {
     "name": "stdout",
     "output_type": "stream",
     "text": [
      "[1, 2, 3, 4, 5, 6, 7, 8, 9, 10, 11]\n",
      "count of odd number is : 6\n",
      "count of even number is: 5\n"
     ]
    }
   ],
   "source": [
    "# 9. Write a Python program to count the even, odd numbers in a given array of integers using Lambda\n",
    "\n",
    "array_nums=[1,2,3,4,5,6,7,8,9,10,11]\n",
    "print(array_nums)\n",
    "odd_num= len(list(filter(lambda x: (x%2 != 0),array_nums)))\n",
    "even_num=len(list(filter(lambda x: (x%2==0),array_nums)))\n",
    "print(\"count of odd number is :\",odd_num)\n",
    "print(\"count of even number is:\",even_num)"
   ]
  },
  {
   "cell_type": "code",
   "execution_count": 20,
   "id": "891d25a0",
   "metadata": {},
   "outputs": [
    {
     "name": "stdout",
     "output_type": "stream",
     "text": [
      "[1, 2, 3]\n",
      "[4, 5, 6]\n",
      "\n",
      "after adding two list\n",
      "[5, 7, 9]\n"
     ]
    }
   ],
   "source": [
    "# 10. Write a Python program to add two given lists using map and lambda\n",
    "\n",
    "num1=[1,2,3]\n",
    "num2=[4,5,6]\n",
    "print(num1)\n",
    "print(num2)\n",
    "result=map(lambda x,y: x+y,num1,num2)\n",
    "print(\"\\nafter adding two list\")\n",
    "print(list(result))"
   ]
  },
  {
   "cell_type": "code",
   "execution_count": 4,
   "id": "b1baf59c",
   "metadata": {},
   "outputs": [
    {
     "name": "stdout",
     "output_type": "stream",
     "text": [
      "[19, 65, 57, 39, 152, 639, 121, 44, 90, 190]\n",
      "\n",
      "number is divisible by ninteen and thirteen:\n",
      "[19, 65, 57, 39, 152, 190]\n"
     ]
    }
   ],
   "source": [
    "# 11. Write a Python program to find numbers divisible by nineteen or thirteen from a list of numbers using Lambda\n",
    "\n",
    "num = [19,65,57,39,152,639,121,44,90,190]\n",
    "print(num)\n",
    "result=list(filter(lambda x:(x%19==0 or x%13==0),num))\n",
    "print(\"\\nnumber is divisible by ninteen and thirteen:\")\n",
    "print(result)"
   ]
  },
  {
   "cell_type": "code",
   "execution_count": 6,
   "id": "7c787777",
   "metadata": {},
   "outputs": [
    {
     "name": "stdout",
     "output_type": "stream",
     "text": [
      "['php', 'java', 'radar', 'aaa', 'abc', 'python']\n",
      "\n",
      "list of palindrome\n",
      "['php', 'radar', 'aaa']\n"
     ]
    }
   ],
   "source": [
    "# 12. Write a Python program to find palindromes in a given list of strings using Lambda\n",
    "text=[\"php\",\"java\",\"radar\",\"aaa\",\"abc\",\"python\"]\n",
    "print(text)\n",
    "res=list(filter(lambda x :(x ==\"\".join(reversed(x))),text))\n",
    "print(\"\\nlist of palindrome\")\n",
    "print(res)"
   ]
  },
  {
   "cell_type": "code",
   "execution_count": 10,
   "id": "426b8636",
   "metadata": {},
   "outputs": [
    {
     "name": "stdout",
     "output_type": "stream",
     "text": [
      "['bcda', 'abce', 'cdba', 'cbea', 'abcd']\n",
      "\n",
      "anagram of 'abcd':\n",
      "['bcda', 'cdba', 'abcd']\n"
     ]
    }
   ],
   "source": [
    "# 13. Write a Python program to find all anagrams of a string in a given list of strings using lambda\n",
    "\n",
    "from collections import Counter\n",
    "txt=[\"bcda\",\"abce\",\"cdba\",\"cbea\",\"abcd\"]\n",
    "str=\"abcd\"\n",
    "print(txt)\n",
    "result=list(filter(lambda x:(Counter(str)==Counter(x)),txt))\n",
    "print(\"\\nanagram of 'abcd':\")\n",
    "print(result)\n"
   ]
  },
  {
   "cell_type": "code",
   "execution_count": 11,
   "id": "6f2bfdb4",
   "metadata": {},
   "outputs": [
    {
     "name": "stdout",
     "output_type": "stream",
     "text": [
      "[2, 3, 4, 5, 6, 7, 10]\n",
      "[4, 6, 8, 10, 12, 14, 20]\n"
     ]
    }
   ],
   "source": [
    "# 14 Write a Python program that multiplies each number of a given list with a given \n",
    "# number using lambda function. Print the result\n",
    "\n",
    "num=[2,3,4,5,6,7,10]\n",
    "n=2\n",
    "print(num)\n",
    "result=list(map(lambda number : number*n,num))\n",
    "print(result)"
   ]
  },
  {
   "cell_type": "code",
   "execution_count": 13,
   "id": "063bc4ef",
   "metadata": {},
   "outputs": [
    {
     "name": "stdout",
     "output_type": "stream",
     "text": [
      "[1, 2, -2, 3, -4, 5, -6, -7, 8, 9]\n",
      "\n",
      "sum of the negative numbers -19\n",
      "sum of the positive numbers 28\n"
     ]
    }
   ],
   "source": [
    "# 15. Write a Python program to calculate the sum of the positive and negative numbers of\n",
    "# a given list of numbers using lambda function\n",
    "num=[1,2,-2,3,-4,5,-6,-7,8,9]\n",
    "print(num)\n",
    "negative_num=list(filter(lambda x: x<0,num))\n",
    "positive_num=list(filter(lambda x: x>0,num))\n",
    "\n",
    "print(\"\\nsum of the negative numbers\",sum(negative_num))\n",
    "print(\"sum of the positive numbers\",sum(positive_num))"
   ]
  },
  {
   "cell_type": "code",
   "execution_count": 15,
   "id": "6d8b4a86",
   "metadata": {},
   "outputs": [
    {
     "name": "stdout",
     "output_type": "stream",
     "text": [
      "Longest List and its length:\n",
      " ([2, 45, 6, 7], 4)\n"
     ]
    }
   ],
   "source": [
    "# 16. Write a Python program to find the list with maximum and minimum length using lambda\n",
    "\n",
    "def longest(lst):\n",
    "    longestList = max(lst, key = lambda i: len(i))\n",
    "    maxLength = max(map(len, listA))\n",
    "    return longestList, maxLength\n",
    "# Driver Code\n",
    "listA = [[1,2], [2,45,6,7], [11,65,2]]\n",
    "print(\"Longest List and its length:\\n\",longest(listA))"
   ]
  },
  {
   "cell_type": "code",
   "execution_count": 5,
   "id": "b4d14f99",
   "metadata": {},
   "outputs": [
    {
     "name": "stdout",
     "output_type": "stream",
     "text": [
      "Given list :  [11, 23, 42, 51, 67]\n",
      "Yes, List is sorted.\n",
      "\n",
      "Given list :  [11, 23, 21, 51, 67]\n",
      "[11, 23, 21, 51, 67]\n",
      "No, List is not sorted.\n"
     ]
    }
   ],
   "source": [
    "# 17. Write a Python program to check whether a specified list is sorted or not using lambda\n",
    "\n",
    "listA = [11,23,42,51,67]\n",
    "#Given list\n",
    "print(\"Given list : \",listA)\n",
    "listA_copy = listA[:]\n",
    "# Apply sort to copy\n",
    "listA_copy.sort()\n",
    "if (listA == listA_copy):\n",
    "   print(\"Yes, List is sorted.\")\n",
    "else:\n",
    "   print(\"No, List is not sorted.\")\n",
    "\n",
    "\n",
    "# Checking again\n",
    "listB = [11,23,21,51,67]\n",
    "#Given list\n",
    "print(\"\\nGiven list : \",listB)\n",
    "listB_copy = listB[:]\n",
    "print(listB_copy)\n",
    "# Apply sort to copy\n",
    "listB_copy.sort()\n",
    "if (listB == listB_copy):\n",
    "   print(\"Yes, List is sorted.\")\n",
    "else:\n",
    "   print(\"No, List is not sorted.\")"
   ]
  },
  {
   "cell_type": "code",
   "execution_count": 18,
   "id": "5bacd6ab",
   "metadata": {},
   "outputs": [
    {
     "name": "stdout",
     "output_type": "stream",
     "text": [
      "list1 [1, 2, 3, 4, 5, 6, 7, 8, 9, 10]\n",
      "list2 [2, 4, 6, 8]\n",
      "\n",
      " remove all elements from list1 are present in list2\n",
      "[1, 3, 5, 7, 9, 10]\n"
     ]
    }
   ],
   "source": [
    "# 18. Write a Python program to remove all elements from a given list present in another list using lambda.\n",
    "def my_function(list1,list2):\n",
    "    result=list(filter(lambda x : x not in list2,list1 ))\n",
    "    return result\n",
    "list1=[1,2,3,4,5,6,7,8,9,10]\n",
    "list2=[2,4,6,8]\n",
    "print(\"list1\",list1)\n",
    "print(\"list2\",list2)\n",
    "print(\"\\n remove all elements from list1 are present in list2\")\n",
    "print(my_function(list1,list2))\n"
   ]
  },
  {
   "cell_type": "code",
   "execution_count": 2,
   "id": "4bec2daa",
   "metadata": {},
   "outputs": [
    {
     "data": {
      "text/plain": [
       "(123, 45, 6789, 10, 1112, 13)"
      ]
     },
     "execution_count": 2,
     "metadata": {},
     "output_type": "execute_result"
    }
   ],
   "source": [
    "# 19. Write a Python program to convert string element to integer inside a given tuple using lambda\n",
    "\n",
    "t1 = ('123', 'python', '45', '6789', 'data', '10', '1112', 'science', '13')\n",
    "tuple(map(int,list(filter(lambda x: x.isdigit(), t1))))"
   ]
  },
  {
   "cell_type": "code",
   "execution_count": 31,
   "id": "d75e5103",
   "metadata": {},
   "outputs": [
    {
     "name": "stdout",
     "output_type": "stream",
     "text": [
      "[3, 4, 8, 5, 0, 3, 8, 0, 4, 1, 2, 3, 5, 6, 7, 8, 3, 5]\n",
      "\n",
      "count the occurence of the item in list\n",
      "{3: 4, 4: 2, 8: 3, 5: 3, 0: 2, 1: 1, 2: 1, 6: 1, 7: 1}\n"
     ]
    }
   ],
   "source": [
    "# 20. Write a Python program to count the occurrences of the items in a given list using lambda\n",
    "\n",
    "def count_occurence(num):\n",
    "    result=dict(map(lambda x : (x,list(num).count(x)),num))\n",
    "    return result\n",
    "num=[3,4,8,5,0,3,8,0,4,1,2,3,5,6,7,8,3,5]\n",
    "print(num)\n",
    "\n",
    "print(\"\\ncount the occurence of the item in list\")\n",
    "print(count_occurence(num))"
   ]
  },
  {
   "cell_type": "code",
   "execution_count": 33,
   "id": "94ab64cd",
   "metadata": {},
   "outputs": [
    {
     "name": "stdout",
     "output_type": "stream",
     "text": [
      "[1, 2, 3]\n",
      "[4, 5, 6]\n",
      "[7, 8, 9]\n",
      "\n",
      "print new list after adding three above list\n",
      "[12, 15, 18]\n"
     ]
    }
   ],
   "source": [
    "# 21. Write a Python program to add three given lists using Python map and lambda\n",
    "\n",
    "num1=[1,2,3]\n",
    "num2=[4,5,6]\n",
    "num3=[7,8,9]\n",
    "print(num1)\n",
    "print(num2)\n",
    "print(num3)\n",
    "result= map(lambda x,y,z : x+y+z,num1,num2,num3)\n",
    "print(\"\\nprint new list after adding three above list\")\n",
    "print(list(result))\n",
    "\n",
    "\n"
   ]
  },
  {
   "cell_type": "code",
   "execution_count": 35,
   "id": "04c50003",
   "metadata": {},
   "outputs": [
    {
     "name": "stdout",
     "output_type": "stream",
     "text": [
      "['Red', 'Blue', 'Green', 'Pink', 'Yellow']\n",
      "[['R', 'e', 'd'], ['B', 'l', 'u', 'e'], ['G', 'r', 'e', 'e', 'n'], ['P', 'i', 'n', 'k'], ['Y', 'e', 'l', 'l', 'o', 'w']]\n"
     ]
    }
   ],
   "source": [
    "# 22.Write a Python program to listify the list of given strings individually using Python map\n",
    " \n",
    "a=['Red','Blue','Green','Pink','Yellow']\n",
    "print(a)\n",
    "result=list(map(list,a))\n",
    "print(result)"
   ]
  },
  {
   "cell_type": "code",
   "execution_count": 3,
   "id": "190ed16e",
   "metadata": {},
   "outputs": [
    {
     "name": "stdout",
     "output_type": "stream",
     "text": [
      "[2, 3, 4, 5, 6, 7]\n",
      "square of the element using map()\n",
      "[4, 9, 16, 25, 36, 49]\n"
     ]
    }
   ],
   "source": [
    "# 23. Write a Python program to square the elements of a list using map() function\n",
    "def square_fun(num):\n",
    "    return num*num\n",
    "num=[2,3,4,5,6,7]\n",
    "print(num)\n",
    "result=list(map(square_fun,num))\n",
    "print(\"square of the element using map()\")\n",
    "print(result)\n"
   ]
  },
  {
   "cell_type": "code",
   "execution_count": 38,
   "id": "01fe62c1",
   "metadata": {},
   "outputs": [
    {
     "name": "stdout",
     "output_type": "stream",
     "text": [
      "['one apple', 'two cherry', 'three watermelon']\n"
     ]
    }
   ],
   "source": [
    "# 24. Write a Python program to add two given lists and find the difference between lists. Use map() function\n",
    "listA=['one', 'two' , 'three']\n",
    "listB=['apple','cherry','watermelon']\n",
    "result=list(map(lambda x,y : x+ ' ' +y,listA,listB))\n",
    "print(result)\n"
   ]
  },
  {
   "cell_type": "code",
   "execution_count": 30,
   "id": "19b4b875",
   "metadata": {},
   "outputs": [
    {
     "name": "stdout",
     "output_type": "stream",
     "text": [
      "adding two list\n",
      "[3, 6, 7, 10, 12, 14, 16, 18, 23]\n",
      "\n",
      "difference between two list\n",
      "[-1, -2, -1, -2, -2, -2, -2, -2, 1]\n"
     ]
    }
   ],
   "source": [
    "list1=[1,2,3,4,5,6,7,8,12]\n",
    "list2=[2,4,4,6,7,8,9,10,11]\n",
    "result=list(map(lambda x,y : x+y,list1,list2))\n",
    "print(\"adding two list\")\n",
    "print(result)\n",
    "res=list(map(lambda x,y :x-y,list1,list2))\n",
    "print(\"\\ndifference between two list\")\n",
    "print(res)"
   ]
  },
  {
   "cell_type": "code",
   "execution_count": 11,
   "id": "9eed95e0",
   "metadata": {},
   "outputs": [
    {
     "name": "stdout",
     "output_type": "stream",
     "text": [
      "[1, 2, 3, 4, 5]\n",
      "(0, 1, 2, 3, 4)\n",
      "\n",
      "list of string\n",
      "['1', '2', '3', '4', '5']\n",
      "\n",
      "tuple of string\n",
      "('0', '1', '2', '3', '4')\n"
     ]
    }
   ],
   "source": [
    "# 25. Write a Python program to convert a given list of integers and a tuple of integers in a list of strings\n",
    "\n",
    "num_list=[1,2,3,4,5]\n",
    "num_tuple=(0,1,2,3,4)\n",
    "print(num_list)\n",
    "print(num_tuple)\n",
    "result_list = list(map(str,num_list))\n",
    "result_tuple = tuple(map(str,num_tuple))\n",
    "print(\"\\nlist of string\")\n",
    "print(result_list)\n",
    "print(\"\\ntuple of string\")\n",
    "print(result_tuple)"
   ]
  },
  {
   "cell_type": "code",
   "execution_count": 5,
   "id": "46b0cd8a",
   "metadata": {},
   "outputs": [
    {
     "data": {
      "text/plain": [
       "66"
      ]
     },
     "execution_count": 5,
     "metadata": {},
     "output_type": "execute_result"
    }
   ],
   "source": [
    "# 26. Write a Python program to compute the sum of elements of an given array of integers, use map() function\n",
    "list1 = [1,2,3,4,5,6,7,8,9,10,11]\n",
    "sum(map(lambda i:i ,list1))"
   ]
  },
  {
   "cell_type": "code",
   "execution_count": 23,
   "id": "a4eeae5f",
   "metadata": {},
   "outputs": [
    {
     "name": "stdout",
     "output_type": "stream",
     "text": [
      "[4, 1, 3, 4, 5, 2, 8, 7, 9]\n",
      "[2, 1, 3, 1, 2, 2, 8, 9, 9]\n",
      "Number of same pair in two given lists :  5\n"
     ]
    }
   ],
   "source": [
    "#  27. Write a Python program to count the same pair in two given lists. use map() function\n",
    "n1 = [4,1,3,4,5,2,8,7,9]\n",
    "n2 = [2,1,3,1,2,2,8,9,9]\n",
    "print(n1)\n",
    "print(n2)\n",
    "print('Number of same pair in two given lists : ',sum(map(lambda x,y: x == y, n1,n2)))"
   ]
  },
  {
   "cell_type": "code",
   "execution_count": 66,
   "id": "8c3fbe7e",
   "metadata": {},
   "outputs": [
    {
     "name": "stdout",
     "output_type": "stream",
     "text": [
      "Original list of strings:\n",
      "['Red', 'Green', 'Black', 'Orange']\n",
      "\n",
      "Convert the said list of strings into list of lists:\n",
      "[['R', 'e', 'd'], ['G', 'r', 'e', 'e', 'n'], ['B', 'l', 'a', 'c', 'k'], ['O', 'r', 'a', 'n', 'g', 'e']]\n"
     ]
    }
   ],
   "source": [
    "# 28. Write a Python program to convert a given list of strings into list of lists using map function\n",
    "\n",
    "def strings_to_listOflists(str):\n",
    "    result = map(list, str)\n",
    "    return list(result)\n",
    "\n",
    "colors = [\"Red\", \"Green\", \"Black\", \"Orange\"]\n",
    "print('Original list of strings:')\n",
    "print(colors)\n",
    "print(\"\\nConvert the said list of strings into list of lists:\")\n",
    "print(strings_to_listOflists(colors))\n"
   ]
  },
  {
   "cell_type": "code",
   "execution_count": 9,
   "id": "185e270a",
   "metadata": {},
   "outputs": [
    {
     "data": {
      "text/plain": [
       "[['p', 'h', 'y'],\n",
       " ['e', 'n', 'g'],\n",
       " ['m', 'a', 't', 'h'],\n",
       " ['c', 'h', 'e'],\n",
       " ['b', 'i', 'o'],\n",
       " ['e', 'l', 'e']]"
      ]
     },
     "execution_count": 9,
     "metadata": {},
     "output_type": "execute_result"
    }
   ],
   "source": [
    "subjects = ['phy','eng','math','che','bio','ele']\n",
    "list(map(lambda item:list(item),subjects))"
   ]
  },
  {
   "cell_type": "code",
   "execution_count": 67,
   "id": "4dd64400",
   "metadata": {},
   "outputs": [
    {
     "name": "stdout",
     "output_type": "stream",
     "text": [
      "Original list of tuples:\n",
      "[('red', 'pink'), ('white', 'black'), ('orange', 'green')]\n",
      "\n",
      "Convert the said list of tuples to a list of strings:\n",
      "['red pink', 'white black', 'orange green']\n"
     ]
    }
   ],
   "source": [
    "# 29. Write a Python program to convert a given list of tuples to a list of strings using map function\n",
    "\n",
    "def tuples_to_list_string(lst):\n",
    "    result = list(map(' '.join, lst))\n",
    "    return result   \n",
    "colors = [('red', 'pink'), ('white', 'black'), ('orange', 'green')]\n",
    "print(\"Original list of tuples:\")\n",
    "print(colors)\n",
    "print(\"\\nConvert the said list of tuples to a list of strings:\")\n",
    "print(tuples_to_list_string(colors))"
   ]
  },
  {
   "cell_type": "code",
   "execution_count": 12,
   "id": "a9536ff6",
   "metadata": {},
   "outputs": [
    {
     "data": {
      "text/plain": [
       "['phy', 'eng', 'math', 'che', 'bio']"
      ]
     },
     "execution_count": 12,
     "metadata": {},
     "output_type": "execute_result"
    }
   ],
   "source": [
    "#or\n",
    "subjects = [('p', 'h', 'y'), ('e', 'n', 'g'),('m', 'a', 't', 'h'), ('c', 'h', 'e'),('b','i','o')]\n",
    "list(map(lambda item:''.join(item),subjects))"
   ]
  },
  {
   "cell_type": "code",
   "execution_count": 1,
   "id": "0e7e3bec",
   "metadata": {},
   "outputs": [
    {
     "name": "stdout",
     "output_type": "stream",
     "text": [
      "[9, 3, 5, 8, 2, 4, 6]\n"
     ]
    }
   ],
   "source": [
    "# 30. Python program to find the diff. between two lists using filter() function\n",
    "list1=[1,3,5,7,9]\n",
    "list2=[1,2,4,6,7,8]\n",
    "a=list(set(list1) - set(list2))\n",
    "b=list(set(list2) - set(list1))\n",
    "total_diff=a+b\n",
    "print(total_diff)"
   ]
  },
  {
   "cell_type": "code",
   "execution_count": 16,
   "id": "b1b6ed80",
   "metadata": {},
   "outputs": [
    {
     "name": "stdout",
     "output_type": "stream",
     "text": [
      "Nick likes play football, fond tennis.\n"
     ]
    }
   ],
   "source": [
    "# 31. Python program to remove stop words from string using filter() function\n",
    "\n",
    "from gensim.parsing.preprocessing import remove_stopwords\n",
    "\n",
    "text = \"Nick likes to play football, however he is not too fond of tennis.\"\n",
    "filtered_sentence = remove_stopwords(text)\n",
    "\n",
    "print(filtered_sentence)"
   ]
  },
  {
   "cell_type": "code",
   "execution_count": 2,
   "id": "ab0b5164",
   "metadata": {},
   "outputs": [
    {
     "name": "stdout",
     "output_type": "stream",
     "text": [
      "[3, 5]\n"
     ]
    }
   ],
   "source": [
    "# 32. Python program to find common items in two arrays using lambda and filter() function.\n",
    "arr1=[1,3,4,5,7]\n",
    "arr2=[2,3,5,6]\n",
    "result=list(filter(lambda x : x in arr1,arr2))\n",
    "print(result)"
   ]
  },
  {
   "cell_type": "code",
   "execution_count": 3,
   "id": "dde10aa1",
   "metadata": {},
   "outputs": [
    {
     "name": "stdout",
     "output_type": "stream",
     "text": [
      "[1, 3, 5, 7, 9]\n"
     ]
    }
   ],
   "source": [
    "# 33. Python program to filter odd numbers from the list using filter() function\n",
    "list1=[1,2,3,4,5,6,7,8,9]\n",
    "result=list(filter(lambda x : x % 2 !=0,list1))\n",
    "print(result)"
   ]
  },
  {
   "cell_type": "code",
   "execution_count": 4,
   "id": "280a14cd",
   "metadata": {},
   "outputs": [
    {
     "name": "stdout",
     "output_type": "stream",
     "text": [
      "[2, 4, 6, 8, 10]\n"
     ]
    }
   ],
   "source": [
    "# 34. Python program to filter even numbers from the list using filter() function\n",
    "list2=[1,2,3,4,5,6,7,8,9,10]\n",
    "result=list(filter(lambda x : x % 2==0,list2))\n",
    "print(result)"
   ]
  },
  {
   "cell_type": "code",
   "execution_count": 15,
   "id": "b3c30c26",
   "metadata": {},
   "outputs": [
    {
     "data": {
      "text/plain": [
       "['P', 'y', 't', 'h', 'n', 'n', 'd', 's', 'c', 'n', 'c']"
      ]
     },
     "execution_count": 15,
     "metadata": {},
     "output_type": "execute_result"
    }
   ],
   "source": [
    "# 35. Python program that filters non-vowels from the list using filter() function\n",
    "\n",
    "list1 = ['P','y','t','h','o','n', 'a','n','d','s','c','i','e','n','c','e']\n",
    "list(filter(lambda i: i not in 'a,e,i,o,u', list1))\n"
   ]
  }
 ],
 "metadata": {
  "kernelspec": {
   "display_name": "Python 3 (ipykernel)",
   "language": "python",
   "name": "python3"
  },
  "language_info": {
   "codemirror_mode": {
    "name": "ipython",
    "version": 3
   },
   "file_extension": ".py",
   "mimetype": "text/x-python",
   "name": "python",
   "nbconvert_exporter": "python",
   "pygments_lexer": "ipython3",
   "version": "3.9.12"
  }
 },
 "nbformat": 4,
 "nbformat_minor": 5
}
