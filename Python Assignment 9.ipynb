{
 "cells": [
  {
   "cell_type": "markdown",
   "id": "a26b18b7",
   "metadata": {},
   "source": [
    "### Assignment no 9\n",
    "### Regular Expression"
   ]
  },
  {
   "cell_type": "code",
   "execution_count": 50,
   "id": "721aab43",
   "metadata": {},
   "outputs": [
    {
     "data": {
      "text/plain": [
       "['QWERT5678u', 'ABCDE1234w']"
      ]
     },
     "execution_count": 50,
     "metadata": {},
     "output_type": "execute_result"
    }
   ],
   "source": [
    "# 1.Write a python program to check that a string contains only a certain set of characters (in this case a-z, A-Z, and 0-9\n",
    "import re\n",
    "text = \"\"\" QWERT5678u\n",
    "            QWDFG7896L\n",
    "             ABCDE1234wr\"\"\"\n",
    "\n",
    "result = re.findall(\"[A-Z]{5}[0-9]{4}[a-z]\", text)\n",
    "result\n"
   ]
  },
  {
   "cell_type": "code",
   "execution_count": 53,
   "id": "8267fb6f",
   "metadata": {},
   "outputs": [
    {
     "data": {
      "text/plain": [
       "['', 'ata 1 science 2 ', 'nd 3 ', 'achine  4 ', 'earning']"
      ]
     },
     "execution_count": 53,
     "metadata": {},
     "output_type": "execute_result"
    }
   ],
   "source": [
    "# 2.Create a program to split a string by only the first occurrence of any substring\n",
    "import re\n",
    "string = \"Data 1 science 2 And 3 Machine  4 Learning\"\n",
    "re.split(\"[A-Z]\", string)"
   ]
  },
  {
   "cell_type": "code",
   "execution_count": 11,
   "id": "bc42ce59",
   "metadata": {},
   "outputs": [
    {
     "name": "stdout",
     "output_type": "stream",
     "text": [
      "['0bb', '0bb']"
     ]
    }
   ],
   "source": [
    "# 3.Code that would match a string that has an a followed by zero or more b's.\n",
    "file=\"abbb 0bb bmkfof 0bba tbb cgg\"\n",
    "result=re.findall(r'0b*',file)\n",
    "print(result,end=\"\")\n"
   ]
  },
  {
   "cell_type": "code",
   "execution_count": 64,
   "id": "1ab57490",
   "metadata": {},
   "outputs": [
    {
     "name": "stdout",
     "output_type": "stream",
     "text": [
      "Found a match!\n",
      "Found a match!\n",
      "Not matched!\n"
     ]
    }
   ],
   "source": [
    "import re\n",
    "def text_match(text):\n",
    "        patterns = 'pyt?hon'\n",
    "        if re.search(patterns,  text):\n",
    "                return 'Found a match!'\n",
    "        else:\n",
    "                return('Not matched!')\n",
    "print(text_match(\"python\"))\n",
    "print(text_match(\"pyhon\"))\n",
    "print(text_match(\"pyttthon\"))\n",
    "#print(text_match(\"ab\"))\n",
    "#print(text_match(\"0bc\"))\n",
    "#print(text_match(\"0bbb\"))"
   ]
  },
  {
   "cell_type": "code",
   "execution_count": 56,
   "id": "76c6d339",
   "metadata": {},
   "outputs": [
    {
     "data": {
      "text/plain": [
       "['123 56']"
      ]
     },
     "execution_count": 56,
     "metadata": {},
     "output_type": "execute_result"
    }
   ],
   "source": [
    "# 4.Wap to find Three-digit numbers followed by space followed by two-digit numbers in a string.\n",
    "text = \"\"\" QWERT5678U\n",
    "            QWDFG7896L\n",
    "            123 56 \"\"\"\n",
    "result = re.findall(\"\\d{3}\\s{1}\\d{2}\",text)\n",
    "result"
   ]
  },
  {
   "cell_type": "code",
   "execution_count": 12,
   "id": "5e22cb81",
   "metadata": {},
   "outputs": [
    {
     "data": {
      "text/plain": [
       "['222 33']"
      ]
     },
     "execution_count": 12,
     "metadata": {},
     "output_type": "execute_result"
    }
   ],
   "source": [
    "import re\n",
    "text = '''111 222 33 3 6 6 66666 665511 151 144 515 4511 65 1421 65852 665 115'''\n",
    "check = re.findall(r\"\\b\\d{3} \\d{2}\\b\",text)\n",
    "check"
   ]
  },
  {
   "cell_type": "code",
   "execution_count": 7,
   "id": "1462d5a5",
   "metadata": {},
   "outputs": [
    {
     "data": {
      "text/plain": [
       "['to', 'tooo', 'to']"
      ]
     },
     "execution_count": 7,
     "metadata": {},
     "output_type": "execute_result"
    }
   ],
   "source": [
    "# 5.Write a Python program that matches a string that has an a followed by one or more b's.\n",
    "file=\"welcome to python pppthyon wwloocome tooo to data science\"\n",
    "result=re.findall(r'to+',file)\n",
    "result\n"
   ]
  },
  {
   "cell_type": "code",
   "execution_count": 5,
   "id": "c1710f49",
   "metadata": {},
   "outputs": [
    {
     "name": "stdout",
     "output_type": "stream",
     "text": [
      "found match\n",
      "found match\n",
      "not found match\n",
      "found match\n"
     ]
    }
   ],
   "source": [
    "import re\n",
    "def my_function(text):\n",
    "    patterns=\"pyt+hon\"\n",
    "    if re.search(patterns,text):\n",
    "        return (\"found match\")\n",
    "    else:\n",
    "        return(\"not found match\")\n",
    "print(my_function(\"python\"))\n",
    "print(my_function(\"pyttthon\"))\n",
    "print(my_function(\"pyhon\"))\n",
    "print(my_function(\"pytthon\"))"
   ]
  },
  {
   "cell_type": "code",
   "execution_count": 76,
   "id": "e566c362",
   "metadata": {},
   "outputs": [
    {
     "name": "stdout",
     "output_type": "stream",
     "text": [
      "found match\n",
      "found match\n",
      "not found match\n",
      "not found match\n",
      "not found match\n",
      "not found match\n"
     ]
    }
   ],
   "source": [
    "# 6. Write a program to search inform in a string both in uppercase & in lowercase.(INFORM or inform)\n",
    "import re\n",
    "def text_match(text):\n",
    "    pattern=\"INFORM|inform\"\n",
    "    if re.search(pattern,text):\n",
    "        return(\"found match\")\n",
    "    else:\n",
    "        return(\"not found match\")\n",
    "print(text_match(\"INFORM\"))\n",
    "print(text_match(\"inform\"))\n",
    "print(text_match(\"Inform\"))\n",
    "print(text_match(\"java\"))\n",
    "print(text_match(\"iNFORM\"))\n",
    "print(text_match(\"IsssfM\"))\n"
   ]
  },
  {
   "cell_type": "code",
   "execution_count": 13,
   "id": "f73adc04",
   "metadata": {},
   "outputs": [
    {
     "data": {
      "text/plain": [
       "['INFORM', 'inform']"
      ]
     },
     "execution_count": 13,
     "metadata": {},
     "output_type": "execute_result"
    }
   ],
   "source": [
    "string='a text have both upper and lower case like INFORM an inform'\n",
    "check=re.findall(\"[a-zA-Z]{6}\",string)\n",
    "check"
   ]
  },
  {
   "cell_type": "code",
   "execution_count": 10,
   "id": "a65e8455",
   "metadata": {},
   "outputs": [
    {
     "name": "stdout",
     "output_type": "stream",
     "text": [
      "['python', 'pyhon']\n"
     ]
    }
   ],
   "source": [
    "# 7.WAP that matches a string that has an a followed by zero or one 'b'.\n",
    "import re\n",
    "string=\"python pyhon pytthon pyttttthon\"\n",
    "result=re.findall(r\"pyt?hon\",string)\n",
    "print(result)"
   ]
  },
  {
   "cell_type": "code",
   "execution_count": 9,
   "id": "9d05c96d",
   "metadata": {},
   "outputs": [
    {
     "name": "stdout",
     "output_type": "stream",
     "text": [
      "Found a match!\n",
      "Found a match!\n",
      "Not matched!\n"
     ]
    }
   ],
   "source": [
    "\n",
    "import re\n",
    "def text_match(text):\n",
    "        patterns = 'pyt?hon'\n",
    "        if re.search(patterns,  text):\n",
    "                return 'Found a match!'\n",
    "        else:\n",
    "                return('Not matched!')\n",
    "print(text_match(\"python\"))\n",
    "print(text_match(\"pyhon\"))\n",
    "print(text_match(\"pyttthon\"))\n"
   ]
  },
  {
   "cell_type": "code",
   "execution_count": 15,
   "id": "b025e64e",
   "metadata": {},
   "outputs": [
    {
     "data": {
      "text/plain": [
       "['99fbbb', 'rkbbb', 'abbbb', 'tiabbb']"
      ]
     },
     "execution_count": 15,
     "metadata": {},
     "output_type": "execute_result"
    }
   ],
   "source": [
    "# 8.WAP that matches a string that has an a followed by three 'b'. .\n",
    "text='illu ab 99fbbb rkbbbrt htnbb abbbb cbb strbbrt tiabbb'\n",
    "check = re.findall(\"\\w+[b]{3}\",text)\n",
    "check\n"
   ]
  },
  {
   "cell_type": "code",
   "execution_count": 24,
   "id": "84fbdf69",
   "metadata": {},
   "outputs": [
    {
     "data": {
      "text/plain": [
       "['fbb', 'kbbb', 'nbb', 'gbbb', 'cbb', 'rbb', 'abbb']"
      ]
     },
     "execution_count": 24,
     "metadata": {},
     "output_type": "execute_result"
    }
   ],
   "source": [
    "# 9. Write a Python program that matches a string that has an a followed by two to three 'b'\n",
    "text='illu ab stfbb rkbbbrt htnbb acgbbb cbb strbbrt tiabbbb'\n",
    "check = re.findall(\"\\w[b]{2,3}\",text)\n",
    "check"
   ]
  },
  {
   "cell_type": "code",
   "execution_count": 29,
   "id": "c3084733",
   "metadata": {},
   "outputs": [],
   "source": [
    "# 10. Find all the words starting in range of k-n using a for loop & re.\n",
    "text=\"\"\"Scientific data\" redirects here. For the journal, see Scientific Data (journal).\n",
    "For data in computer science, see Data (computer science). For other uses, see Data (disambiguation) and Datum (disambiguation).\n",
    "These are some of the different types of data.In the pursuit of knowledge, data (US: /ˈdætə/; UK: /ˈdeɪtə/) is a collection\n",
    "of discrete values that convey information, describing quantity, quality, fact, statistics, other basic units of meaning,\n",
    "or simply sequences of symbols that may be none mssdsds ldasdda kaadadxa\"\"\""
   ]
  },
  {
   "cell_type": "code",
   "execution_count": 30,
   "id": "8a1ad6eb",
   "metadata": {},
   "outputs": [
    {
     "name": "stdout",
     "output_type": "stream",
     "text": [
      "knowledge, meaning,\n",
      "or may none mssdsds ldasdda kaadadxa "
     ]
    }
   ],
   "source": [
    "data=text.split(\" \")\n",
    "for i in data:\n",
    "    if i.startswith(\"k\") or i.startswith(\"l\") or i.startswith(\"m\") or i.startswith(\"n\"):\n",
    "        print(i,end=\" \")"
   ]
  },
  {
   "cell_type": "code",
   "execution_count": 34,
   "id": "5c68126e",
   "metadata": {},
   "outputs": [
    {
     "name": "stdout",
     "output_type": "stream",
     "text": [
      "['knowledge', 'meaning', 'may', 'none', 'mssdsds', 'ldasdda', 'kaadadxa']\n"
     ]
    }
   ],
   "source": [
    "result=re.findall(r\"\\b[k-n]\\w*\",text)\n",
    "print(result)"
   ]
  },
  {
   "cell_type": "code",
   "execution_count": 35,
   "id": "618331eb",
   "metadata": {},
   "outputs": [
    {
     "name": "stdout",
     "output_type": "stream",
     "text": [
      "['name_student', 'mob_no', 'email_id']\n"
     ]
    }
   ],
   "source": [
    "# 11. Write a Python program to find sequences of lowercase letters joined with an underscore.\n",
    "text='''name_student : yogita ramesh thakur\n",
    " mob_no = 9878653427\n",
    " email_id = yogitathakur34@gmail.com\n",
    " dob = 12-6-1993 '''\n",
    "check=re.findall(\"[a-z]+_[a-z]+\",text)\n",
    "print(check)"
   ]
  },
  {
   "cell_type": "code",
   "execution_count": 37,
   "id": "f9bf697a",
   "metadata": {},
   "outputs": [
    {
     "name": "stdout",
     "output_type": "stream",
     "text": [
      "['Name', 'Jayash', 'Kiran', 'Sharma', 'Address', 'Sharda', 'Nagar', 'Pune']\n"
     ]
    }
   ],
   "source": [
    "# 12.Write a program to find the sequences of one upper case letter followed by lower case letters.\n",
    "text=\"\"\"Name:Jayash Kiran Sharma\n",
    "    dob:21/09/2000\n",
    "    Address: Sharda Nagar Pune\"\"\"\n",
    "result=re.findall(r\"[A-Z]{1}[a-z]*\",text)\n",
    "print(result)\n"
   ]
  },
  {
   "cell_type": "code",
   "execution_count": 41,
   "id": "35357fe7",
   "metadata": {},
   "outputs": [
    {
     "name": "stdout",
     "output_type": "stream",
     "text": [
      "['appleb', 'amab', 'a1234b', 'a2356b', 'anjkkolfkb']\n"
     ]
    }
   ],
   "source": [
    "# 13.Write a program that matches a string that has an 'a' followed by anything, ending in 'b'.\n",
    "text=\"an appleb amab a1234b sdfkjri a2356b ecdkm anjkkolfkb\"\n",
    "res=re.findall(r\"\\b[a]\\w*[b]\\b\",text)\n",
    "print(res)"
   ]
  },
  {
   "cell_type": "code",
   "execution_count": 42,
   "id": "90c404fe",
   "metadata": {},
   "outputs": [
    {
     "name": "stdout",
     "output_type": "stream",
     "text": [
      "an\n"
     ]
    }
   ],
   "source": [
    "# 14. WAP that matches a word at the beginning of a string.\n",
    "text=\"an appleb amab asddb sdfkjri ecdkm anjkkolfkb\"\n",
    "result=re.search(\"\\w+\",text)\n",
    "print(result.group())"
   ]
  },
  {
   "cell_type": "code",
   "execution_count": 44,
   "id": "b8ac0016",
   "metadata": {},
   "outputs": [
    {
     "name": "stdout",
     "output_type": "stream",
     "text": [
      "anjkdgjjhjhkj\n"
     ]
    }
   ],
   "source": [
    "# 15. Write a program that matches a word at the end of a string, with optional punctuation.\n",
    "text=\"an appleb amab asddb sdfkjri ecdkm anjkdgjjhjhkj\"\n",
    "result=re.search(\"\\w+$\",text)\n",
    "print(result.group())\n"
   ]
  },
  {
   "cell_type": "code",
   "execution_count": 46,
   "id": "2c74166a",
   "metadata": {},
   "outputs": [
    {
     "name": "stdout",
     "output_type": "stream",
     "text": [
      "['zfor', 'zebra', 'zero']\n"
     ]
    }
   ],
   "source": [
    "# 16. Write a Python program that matches a word containing 'z'\n",
    "text=\"zfor zebra is the wild animal which is count from zero\"\n",
    "check=re.findall(\"[z]+\\w+\",text)\n",
    "print(check)"
   ]
  },
  {
   "cell_type": "code",
   "execution_count": 129,
   "id": "9f571d19",
   "metadata": {},
   "outputs": [
    {
     "name": "stdout",
     "output_type": "stream",
     "text": [
      "['fzfor', 'tozebra', 'fromzero']\n"
     ]
    }
   ],
   "source": [
    "# 17. Write a program that matches a word containing 'z', not at the start or end of the word.\n",
    "text=\"fzfor tozebra is the wild animal which is count fromzero\"\n",
    "result=re.findall(r\"\\w+[z]\\w+\",text)\n",
    "print(result)"
   ]
  },
  {
   "cell_type": "code",
   "execution_count": 50,
   "id": "d36b7b58",
   "metadata": {},
   "outputs": [
    {
     "name": "stdout",
     "output_type": "stream",
     "text": [
      "['YOGITA', 'RAMESH', 'TAHKUR']\n",
      "['name', 'student', 'mob', 'no', 'email', 'id', 'yogitathakur', 'gmail', 'com', 'dob']\n",
      "['9878653427', '34', '12', '1993']\n",
      "['name_student', 'mob_no', 'email_id']\n"
     ]
    }
   ],
   "source": [
    "# 18. Write a program to match a string that contains only upper and lowercase letters, numbers, and underscores.\n",
    "data='''name_student :YOGITA RAMESH TAHKUR\n",
    " mob_no = 9878653427\n",
    " email_id = yogitathakur34@gmail.com\n",
    " dob = 12-6-1993'''\n",
    "check=re.findall(\"[A-Z]+\",data)\n",
    "check1=re.findall(\"[a-z]+\",data)\n",
    "check2=re.findall(\"[0-9]+\\d\",data)\n",
    "check3=re.findall(\"\\w+_\\w+\",data)\n",
    "print(check)\n",
    "print(check1)\n",
    "print(check2)\n",
    "print(check3)"
   ]
  },
  {
   "cell_type": "code",
   "execution_count": 83,
   "id": "121d9abe",
   "metadata": {},
   "outputs": [
    {
     "name": "stdout",
     "output_type": "stream",
     "text": [
      "['5678u', '1234d']\n"
     ]
    }
   ],
   "source": [
    "# 19. WAP where a string will start with a specific number.\n",
    "text = \"\"\" 5678u\n",
    "            1234dAA\n",
    "             scv123\"\"\"\n",
    "res=re.findall(\"\\d+\\w+[a-z]\",text)\n",
    "print(res)\n"
   ]
  },
  {
   "cell_type": "code",
   "execution_count": 88,
   "id": "c42480dd",
   "metadata": {},
   "outputs": [
    {
     "name": "stdout",
     "output_type": "stream",
     "text": [
      "123.3.1\n"
     ]
    }
   ],
   "source": [
    "# 20. Write a Python program to remove leading zeros from an IP address\n",
    "import re\n",
    "ip_address=\"123.003.01\"\n",
    "result=re.sub(r\"\\.[0]+\",\".\",ip_address)\n",
    "print(result)"
   ]
  },
  {
   "cell_type": "code",
   "execution_count": 89,
   "id": "e675adab",
   "metadata": {},
   "outputs": [
    {
     "name": "stdout",
     "output_type": "stream",
     "text": [
      "['2023']\n"
     ]
    }
   ],
   "source": [
    "# 21.Write a program to check for a number at the end of a string. .\n",
    "text=\"I have a datascientiest in 2023\"\n",
    "result=re.findall(r\"\\d+$\",text)\n",
    "print(result)"
   ]
  },
  {
   "cell_type": "code",
   "execution_count": 94,
   "id": "c73b3c7e",
   "metadata": {},
   "outputs": [
    {
     "name": "stdout",
     "output_type": "stream",
     "text": [
      "['1', '12', '13', '345']\n"
     ]
    }
   ],
   "source": [
    "# 22.Code a program to search the numbers (0-9) of length between 1 to 3 in a\n",
    "# given string. . \"Exercises number 1, 12, 13, and 345 are important\"\n",
    "str1=\"Exercises number 1, 12, 13, and 345  are important\"\n",
    "res=re.findall(\"[0-9]{1,3}\",str1)\n",
    "print(res)"
   ]
  },
  {
   "cell_type": "code",
   "execution_count": 97,
   "id": "61f6e304",
   "metadata": {},
   "outputs": [
    {
     "name": "stdout",
     "output_type": "stream",
     "text": [
      "fox : present in string\n",
      "dog : present in string\n",
      "horse : not present in string\n"
     ]
    }
   ],
   "source": [
    "# 23.Write a program to search some literals strings in a string. .\n",
    "# Sample text : 'The quick brown fox jumps over the lazy dog.'\n",
    "# Searched words : 'fox', 'dog', 'horse'\n",
    "\n",
    "sample_text=\"The quick brown fox jumps over the lazy dog\"\n",
    "search_text=['fox','dog','horse']\n",
    "for i in search_text:\n",
    "    result=re.findall(i,sample_text)\n",
    "    if result:\n",
    "        print(i,\": present in string\")\n",
    "    else:\n",
    "        print(i,\": not present in string\")\n",
    "\n"
   ]
  },
  {
   "cell_type": "code",
   "execution_count": 98,
   "id": "27ee7892",
   "metadata": {},
   "outputs": [
    {
     "name": "stdout",
     "output_type": "stream",
     "text": [
      "fox is present in string at location of 16\n"
     ]
    }
   ],
   "source": [
    "# 24. Write a Python program to search a literals string in a string and also find the\n",
    "# location within the original string where the pattern occurs. .\n",
    "# Sample text : 'The quick brown fox jumps over the lazy dog.'\n",
    "# Searched words : 'fox'\n",
    "text='The quick brown fox jumps over the lazy dog.'\n",
    "search=re.findall('fox',text)\n",
    "location=text.index(\"fox\")\n",
    "if search:\n",
    "    print(f\"fox is present in string at location of {location}\")\n",
    "else:\n",
    "    print(\"fox is not present in string\")\n",
    "\n",
    "\n"
   ]
  },
  {
   "cell_type": "code",
   "execution_count": 99,
   "id": "f161b571",
   "metadata": {},
   "outputs": [
    {
     "name": "stdout",
     "output_type": "stream",
     "text": [
      "['exercises', 'exercises', 'exercises']\n"
     ]
    }
   ],
   "source": [
    "# 25. Write a code to find a common substrings within a string.\n",
    "# Sample text : 'Python exercises, PHP exercises, C# exercises'\n",
    "# Pattern : 'exercises'\n",
    "# Note: There are two instances of exercises in the input string.\n",
    "\n",
    "text=\"Python exercises, PHP exercises, C# exercises\"\n",
    "pattern=\"exercises\"\n",
    "res=re.findall(pattern,text)\n",
    "print(res)"
   ]
  },
  {
   "cell_type": "code",
   "execution_count": 101,
   "id": "3cdcc034",
   "metadata": {},
   "outputs": [
    {
     "name": "stdout",
     "output_type": "stream",
     "text": [
      "the 'machine' is the occurence of the string at position of 24\n"
     ]
    }
   ],
   "source": [
    "# 26. Write a program to find the occurrence and position of the substrings within a string. \n",
    "\n",
    "str1=\"data science and python machine learning natural language processing and machine \"\n",
    "find=re.findall(\"machine\",str1)\n",
    "index=str1.index(\"machine\")\n",
    "if find:\n",
    "    print(f\"the 'machine' is the occurence of the string at position of {index}\")\n",
    "else:\n",
    "    print(\"string is not present in string\")"
   ]
  },
  {
   "cell_type": "code",
   "execution_count": 103,
   "id": "07c0e205",
   "metadata": {},
   "outputs": [
    {
     "data": {
      "text/plain": [
       "'name student _marks of _subject science'"
      ]
     },
     "execution_count": 103,
     "metadata": {},
     "output_type": "execute_result"
    }
   ],
   "source": [
    "# 27. .Write a code to replace whitespaces with an underscore and vice versa.\n",
    "import re\n",
    "text=\"name_student marks_of subject_science\"\n",
    "replace=re.sub('_','mak',text)\n",
    "replace=re.sub(' ',' _',replace)\n",
    "replace=re.sub('mak',' ',replace)\n",
    "replace"
   ]
  },
  {
   "cell_type": "code",
   "execution_count": 128,
   "id": "d2a4e29e",
   "metadata": {},
   "outputs": [
    {
     "data": {
      "text/plain": [
       "'pythonanddatascienceandwearelearningmachinelearning'"
      ]
     },
     "execution_count": 128,
     "metadata": {},
     "output_type": "execute_result"
    }
   ],
   "source": [
    "# 28. How would you remove all whitespaces from a string?\n",
    "str1=\"python and data science and we are learning machine learning\"\n",
    "result=re.sub(\" \",\"\",str1)\n",
    "result\n"
   ]
  },
  {
   "cell_type": "code",
   "execution_count": 110,
   "id": "afdf6929",
   "metadata": {},
   "outputs": [
    {
     "name": "stdout",
     "output_type": "stream",
     "text": [
      "data science and Python machine learning natural language Processing\n",
      "['Python', 'Processing']\n"
     ]
    }
   ],
   "source": [
    "# 29. Write a Python program to match if two words from a list of words starting with the letter 'P'\n",
    "import re\n",
    "list1=[\"data\",\"science\" , \"and\",\"Python\", \"machine\", \"learning\" ,\"natural\", \"language\" ,\"Processing\"]\n",
    "str1=\" \".join(list1)\n",
    "letter=re.findall(\"P\\w*\",str1)\n",
    "print(str1)\n",
    "print(letter)\n"
   ]
  },
  {
   "cell_type": "code",
   "execution_count": 111,
   "id": "d1760845",
   "metadata": {},
   "outputs": [
    {
     "name": "stdout",
     "output_type": "stream",
     "text": [
      "['an', 'elephant', 'are', 'a', 'and', 'an', 'average', 'eleven']\n"
     ]
    }
   ],
   "source": [
    "# 30.Write a code to find all words starting with 'a' or 'e' in a given string. .\n",
    "str1=\"an elephant are walking in a road and counting this an average eleven \"\n",
    "find=re.findall(r\"\\ba\\w*|\\be\\w*\",str1)\n",
    "print(find)"
   ]
  },
  {
   "cell_type": "code",
   "execution_count": 114,
   "id": "0cf49727",
   "metadata": {},
   "outputs": [
    {
     "name": "stdout",
     "output_type": "stream",
     "text": [
      "['2', '3', '4', '5', '6', '4', '6', '3', '4', '5']\n",
      "positon on numbers 2 is 6\n",
      "positon on numbers 3 is 7\n",
      "positon on numbers 4 is 12\n",
      "positon on numbers 5 is 13\n",
      "positon on numbers 6 is 14\n",
      "positon on numbers 4 is 12\n",
      "positon on numbers 6 is 14\n",
      "positon on numbers 3 is 7\n",
      "positon on numbers 4 is 12\n",
      "positon on numbers 5 is 13\n"
     ]
    }
   ],
   "source": [
    "# 31. Write a Python program to separate and print the numbers and their position of a given string.\n",
    "text=\"python23 fdw456b trygbd4t6 asdvfer345\"\n",
    "sep=re.findall(\"\\d\",text)\n",
    "print(sep)\n",
    "for i in sep:\n",
    "    ind=text.index(i)\n",
    "    print(f\"positon on numbers {i} is {ind}\")"
   ]
  },
  {
   "cell_type": "code",
   "execution_count": 115,
   "id": "ea1f3e75",
   "metadata": {},
   "outputs": [
    {
     "name": "stdout",
     "output_type": "stream",
     "text": [
      "aaaa:cdfdfd:::wdwdsds::effdfdgrf:::fewfefdfddf::::\n"
     ]
    }
   ],
   "source": [
    "# 32. Write a Python program to replace all occurrences of space, comma, or dot with a colon\n",
    "str1=\"aaaa,cdfdfd,,,wdwdsds  effdfdgrf...fewfefdfddf   ,,,, \"\n",
    "result=re.sub(\"[ ,.]\",\":\",str1)\n",
    "print(result)"
   ]
  },
  {
   "cell_type": "code",
   "execution_count": 120,
   "id": "6be6b40f",
   "metadata": {},
   "outputs": [
    {
     "name": "stdout",
     "output_type": "stream",
     "text": [
      "aaaa,cdfdfd:,wdwdsds:effdfdgrf::.fewfefdfddf::,\n"
     ]
    }
   ],
   "source": [
    "# 33. Write a program to replace maximum 2 occurrences of space, comma, or dot with a colon.\n",
    "str1=\"aaaa,cdfdfd,,,wdwdsds  effdfdgrf.....fewfefdfddf  ,,,\"\n",
    "result=re.sub(\"[ ,.]{2}\",\":\",str1)\n",
    "print(result)"
   ]
  },
  {
   "cell_type": "code",
   "execution_count": 123,
   "id": "02ab0f9e",
   "metadata": {},
   "outputs": [
    {
     "name": "stdout",
     "output_type": "stream",
     "text": [
      "['fggf', '123', '12345', 'vvvv', 'ggg', 'jjlkk']\n"
     ]
    }
   ],
   "source": [
    "# 34. Write a Python program to find all three, four, five characters long words in a string.\n",
    "str1=\" assddrg fggf jhghrh 123 12345 vvvv ggg hh jjlkk flfklfkl\"\n",
    "result=re.findall(r\"\\b\\w{3,5}\\b\",str1)\n",
    "print(result)"
   ]
  },
  {
   "cell_type": "code",
   "execution_count": 125,
   "id": "3081b41b",
   "metadata": {},
   "outputs": [
    {
     "name": "stdout",
     "output_type": "stream",
     "text": [
      "['Python', 'PHP', 'Java']\n"
     ]
    }
   ],
   "source": [
    "# 35. Write a program to extract values between quotation marks of a string.\n",
    "text1 = '\"Python\", \"PHP\", \"Java\"'\n",
    "print(re.findall(r'\"(.*?)\"', text1))\n"
   ]
  },
  {
   "cell_type": "code",
   "execution_count": 126,
   "id": "deeeb73f",
   "metadata": {},
   "outputs": [
    {
     "name": "stdout",
     "output_type": "stream",
     "text": [
      "wearelearningpythonanddatascience\n"
     ]
    }
   ],
   "source": [
    "# 36. How would you remove multiple spaces in a string\n",
    "str1=\"we are  learning   python and data   science  \"\n",
    "result=re.sub(\"\\s\",\"\",str1)\n",
    "print(result)"
   ]
  }
 ],
 "metadata": {
  "kernelspec": {
   "display_name": "Python 3 (ipykernel)",
   "language": "python",
   "name": "python3"
  },
  "language_info": {
   "codemirror_mode": {
    "name": "ipython",
    "version": 3
   },
   "file_extension": ".py",
   "mimetype": "text/x-python",
   "name": "python",
   "nbconvert_exporter": "python",
   "pygments_lexer": "ipython3",
   "version": "3.9.12"
  }
 },
 "nbformat": 4,
 "nbformat_minor": 5
}
